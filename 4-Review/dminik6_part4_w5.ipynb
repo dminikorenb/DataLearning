{
 "cells": [
  {
   "cell_type": "code",
   "execution_count": 1,
   "metadata": {},
   "outputs": [],
   "source": [
    "import requests\n",
    "import bs4"
   ]
  },
  {
   "cell_type": "markdown",
   "metadata": {},
   "source": [
    "Подготовка: установка request не потребовалась, а для bs4 выполнена установка двух пакетов **beautifulsoup4** и **lxml**: \n",
    "* conda install -c anaconda beautifulsoup4  \n",
    "* conda install -c anaconda lxml"
   ]
  },
  {
   "cell_type": "markdown",
   "metadata": {},
   "source": [
    "### Распарсить из статьи https://en.wikipedia.org/wiki/Bias-variance_tradeoff все заголовки верхнего уровня"
   ]
  },
  {
   "cell_type": "code",
   "execution_count": 2,
   "metadata": {},
   "outputs": [],
   "source": [
    "req = requests.get('https://en.wikipedia.org/wiki/Bias-variance_tradeoff')\n",
    "parser = bs4.BeautifulSoup(req.text, 'lxml')"
   ]
  },
  {
   "cell_type": "code",
   "execution_count": 3,
   "metadata": {
    "scrolled": true
   },
   "outputs": [
    {
     "name": "stdout",
     "output_type": "stream",
     "text": [
      "h1 Bias–variance tradeoff\n",
      "h2   Contents\n",
      "h2   Motivation[edit]\n",
      "h2   Bias–variance decomposition of squared error[edit]\n",
      "h3     Derivation[edit]\n",
      "h2   Application to regression[edit]\n",
      "h2   Application to classification[edit]\n",
      "h2   Approaches[edit]\n",
      "h3     k-nearest neighbors[edit]\n",
      "h2   Application to human learning[edit]\n",
      "h2   See also[edit]\n",
      "h2   References[edit]\n",
      "h2   External links[edit]\n"
     ]
    }
   ],
   "source": [
    "# Выделены заголовки h1-h6 из тела статьи (игнорированны заголовки в зонах навигации).\n",
    "# Сама статья расположена в div с id:content\n",
    "# В первом столбце выведен тэг заголовка, во втором текст заголовка. Текст выведен с \n",
    "# отступом, пропорциональным уровню заголовка.\n",
    "\n",
    "rez1 = parser('div', attrs={'id':'content'})[0].findAll(['h'+str(i) for i in range(1,7)])\n",
    "for h in rez1:\n",
    "    print(h.name, (2*(int(h.name[1]) -1 ))*' ' + h.text )"
   ]
  },
  {
   "cell_type": "markdown",
   "metadata": {},
   "source": [
    "### Распарсить со страницы https://en.wikipedia.org/wiki/Category:Machine_learning_algorithms названия всех статей в категории Machine Learning Algorithms"
   ]
  },
  {
   "cell_type": "markdown",
   "metadata": {},
   "source": [
    "Согласно сообщению на странице, в списке представлены названия 61 статьи."
   ]
  },
  {
   "cell_type": "code",
   "execution_count": 4,
   "metadata": {},
   "outputs": [],
   "source": [
    "req2 = requests.get('https://en.wikipedia.org/wiki/Category:Machine_learning_algorithms')\n",
    "parser2 = bs4.BeautifulSoup(req2.text, 'lxml')"
   ]
  },
  {
   "cell_type": "code",
   "execution_count": 5,
   "metadata": {},
   "outputs": [
    {
     "name": "stdout",
     "output_type": "stream",
     "text": [
      "Количество названий статей в категории Machine Learning Algorithms: 61\n",
      "Статья  1: Adagrad\n",
      "Статья  2: Algorithms of Oppression\n",
      "Статья  3: Almeida–Pineda recurrent backpropagation\n",
      "Статья  4: Backpropagation\n",
      "Статья  5: Bioz\n",
      "Статья  6: Bootstrap aggregating\n",
      "Статья  7: CN2 algorithm\n",
      "Статья  8: Constructing skill trees\n",
      "Статья  9: Deep reinforcement learning\n",
      "Статья 10: Dehaene–Changeux model\n",
      "Статья 11: Diffusion map\n",
      "Статья 12: Dominance-based rough set approach\n",
      "Статья 13: Dynamic time warping\n",
      "Статья 14: Elastic net regularization\n",
      "Статья 15: Error-driven learning\n",
      "Статья 16: Evolutionary multimodal optimization\n",
      "Статья 17: Expectation–maximization algorithm\n",
      "Статья 18: FastICA\n",
      "Статья 19: Forward–backward algorithm\n",
      "Статья 20: GeneRec\n",
      "Статья 21: Genetic Algorithm for Rule Set Production\n",
      "Статья 22: Growing self-organizing map\n",
      "Статья 23: Hyper basis function network\n",
      "Статья 24: IDistance\n",
      "Статья 25: K-nearest neighbors algorithm\n",
      "Статья 26: Kernel methods for vector output\n",
      "Статья 27: Kernel principal component analysis\n",
      "Статья 28: Leabra\n",
      "Статья 29: Linde–Buzo–Gray algorithm\n",
      "Статья 30: Local outlier factor\n",
      "Статья 31: Logic learning machine\n",
      "Статья 32: LogitBoost\n",
      "Статья 33: Loss functions for classification\n",
      "Статья 34: Manifold alignment\n",
      "Статья 35: Minimum redundancy feature selection\n",
      "Статья 36: Mixture of experts\n",
      "Статья 37: Multiple kernel learning\n",
      "Статья 38: Non-negative matrix factorization\n",
      "Статья 39: Online machine learning\n",
      "Статья 40: Out-of-bag error\n",
      "Статья 41: Prefrontal cortex basal ganglia working memory\n",
      "Статья 42: Prototype methods\n",
      "Статья 43: PVLV\n",
      "Статья 44: Q-learning\n",
      "Статья 45: Quadratic unconstrained binary optimization\n",
      "Статья 46: Query-level feature\n",
      "Статья 47: Quickprop\n",
      "Статья 48: Radial basis function network\n",
      "Статья 49: Randomized weighted majority algorithm\n",
      "Статья 50: Repeated incremental pruning to produce error reduction (RIPPER)\n",
      "Статья 51: Rprop\n",
      "Статья 52: Rule-based machine learning\n",
      "Статья 53: Skill chaining\n",
      "Статья 54: Sparse PCA\n",
      "Статья 55: State–action–reward–state–action\n",
      "Статья 56: Stochastic gradient descent\n",
      "Статья 57: Structured kNN\n",
      "Статья 58: T-distributed stochastic neighbor embedding\n",
      "Статья 59: Triplet loss\n",
      "Статья 60: Wake-sleep algorithm\n",
      "Статья 61: Weighted majority algorithm (machine learning)\n"
     ]
    }
   ],
   "source": [
    "rez2 = parser2('div', attrs={'class':'mw-category'})[0].findAll('li')\n",
    "print('Количество названий статей в категории Machine Learning Algorithms:', len(rez2))\n",
    "\n",
    "for i, tag in enumerate(rez2):\n",
    "    print('Статья {:>2}: {}'.format(i+1, tag.text))"
   ]
  }
 ],
 "metadata": {
  "kernelspec": {
   "display_name": "Python [conda env:newpy] *",
   "language": "python",
   "name": "conda-env-newpy-py"
  },
  "language_info": {
   "codemirror_mode": {
    "name": "ipython",
    "version": 3
   },
   "file_extension": ".py",
   "mimetype": "text/x-python",
   "name": "python",
   "nbconvert_exporter": "python",
   "pygments_lexer": "ipython3",
   "version": "3.7.4"
  }
 },
 "nbformat": 4,
 "nbformat_minor": 2
}
