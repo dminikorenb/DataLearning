{
 "cells": [
  {
   "cell_type": "code",
   "execution_count": 1,
   "metadata": {},
   "outputs": [],
   "source": [
    "import numpy as np\n",
    "import pandas as pd\n",
    "import scipy\n",
    "import math\n",
    "\n",
    "from sklearn import preprocessing\n",
    "from sklearn.pipeline import Pipeline\n",
    "from sklearn.impute import SimpleImputer\n",
    "from sklearn.linear_model import RidgeClassifier, LogisticRegression, SGDClassifier\n",
    "from sklearn.ensemble import RandomForestClassifier, GradientBoostingClassifier\n",
    "from sklearn.neighbors import KNeighborsClassifier\n",
    "from sklearn.svm import SVC, LinearSVC\n",
    "from sklearn.model_selection import cross_validate, learning_curve, StratifiedKFold\n",
    "\n",
    "import matplotlib.pyplot as plt\n",
    "import random\n",
    "\n",
    "\n",
    "\n",
    "from collections import Counter"
   ]
  },
  {
   "cell_type": "code",
   "execution_count": 2,
   "metadata": {},
   "outputs": [],
   "source": [
    "def plot_curve(plt1, title, xscale, ylim, train_sizes, train_scores, test_scores, xlabel):\n",
    "    plt1.title.set_text(title)\n",
    "    if ylim is not None:\n",
    "        plt1.set_ylim(*ylim)\n",
    "    plt1.set_xlabel(xlabel + \". Шкала: \" + xscale)\n",
    "    plt1.set_xscale(xscale)\n",
    "    plt1.set_ylabel(\"Оценка ROC-AUC\")\n",
    "\n",
    "    train_scores_mean = np.mean(train_scores, axis=1)\n",
    "    train_scores_std = np.std(train_scores, axis=1)\n",
    "    test_scores_mean = np.mean(test_scores, axis=1)\n",
    "    test_scores_std = np.std(test_scores, axis=1)\n",
    "    plt1.grid()\n",
    "\n",
    "    plt1.fill_between(train_sizes, train_scores_mean - train_scores_std,\n",
    "                     train_scores_mean + train_scores_std, alpha=0.1,\n",
    "                     color=\"r\")\n",
    "    plt1.fill_between(train_sizes, test_scores_mean - test_scores_std,\n",
    "                     test_scores_mean + test_scores_std, alpha=0.1, color=\"g\")\n",
    "    plt1.plot(train_sizes, train_scores_mean, 'o-', color=\"r\",\n",
    "             label=\"Оценка обучения\")\n",
    "    plt1.plot(train_sizes, test_scores_mean, 'o-', color=\"g\",\n",
    "             label=\"Оценка теста\")\n",
    "\n",
    "    plt1.legend(loc=\"best\")\n",
    "    return\n",
    "\n",
    "def plot_learning_curve(estimator, title, X, y, ylim, cv=None,\n",
    "                        n_jobs=None, train_sizes=np.linspace(.1, 1.0, 5)):\n",
    "\n",
    "    fig, (plt1, plt2) = plt.subplots(1, 2, figsize=(12, 6))\n",
    "\n",
    "    train_sizes, train_scores, test_scores = learning_curve(\n",
    "        estimator, X, y, cv=cv, n_jobs=n_jobs, train_sizes=train_sizes,\n",
    "        scoring='roc_auc'\n",
    "    )\n",
    "\n",
    "    plot_curve(plt1, title, 'log', ylim,  train_sizes, train_scores, test_scores, 'Размер данных')  \n",
    "    plot_curve(plt2, title, 'linear', ylim,  train_sizes, train_scores, test_scores, 'Размер данных')   \n",
    "\n",
    "    return "
   ]
  },
  {
   "cell_type": "markdown",
   "metadata": {},
   "source": [
    "# Peer-graded Assignment: Эксперименты с моделью\n",
    "\n",
    "На прошлой неделе вы поучаствовали в соревновании на kaggle и, наверняка, большинство успешно справилось с прохождением baseline, а значит пора двигаться дальше - заняться оптимизацией модели, провести серию экспериментов и построить сильное финальное решения.\n",
    "\n",
    "В этом задании вам нужно провести ряд эскпериментов, оценить качество полученных в процессе экспериментирования моделей и выбрать лучшее решение. "
   ]
  },
  {
   "cell_type": "markdown",
   "metadata": {},
   "source": [
    "Задание будет оцениваться на основании загруженного jupyther notebook и развернутых ответов на поставленные вопросы."
   ]
  },
  {
   "cell_type": "markdown",
   "metadata": {},
   "source": [
    "## Инструкции"
   ]
  },
  {
   "cell_type": "markdown",
   "metadata": {},
   "source": [
    "1\\. Начнем с простого. Давайте оценим как много объектов действительно нужно для построения качественной модели. Для обучения доступна достаточно большая выборка и может так оказаться, что начиная с некоторого момента рост размера обучающей выборки перестает влиять на качество модели. Постройте кривые обучения, обучая модель на выборках разного размера начиная с небольшого количество объектов в обучающей выборке и постепенно наращивая её размер с некоторым шагом. Обратите внимание на `sklearn.model_selection.learning_curve`"
   ]
  },
  {
   "cell_type": "code",
   "execution_count": 3,
   "metadata": {},
   "outputs": [
    {
     "data": {
      "text/html": [
       "<div>\n",
       "<style scoped>\n",
       "    .dataframe tbody tr th:only-of-type {\n",
       "        vertical-align: middle;\n",
       "    }\n",
       "\n",
       "    .dataframe tbody tr th {\n",
       "        vertical-align: top;\n",
       "    }\n",
       "\n",
       "    .dataframe thead th {\n",
       "        text-align: right;\n",
       "    }\n",
       "</style>\n",
       "<table border=\"1\" class=\"dataframe\">\n",
       "  <thead>\n",
       "    <tr style=\"text-align: right;\">\n",
       "      <th></th>\n",
       "      <th>Var1</th>\n",
       "      <th>Var2</th>\n",
       "      <th>Var3</th>\n",
       "      <th>Var4</th>\n",
       "      <th>Var5</th>\n",
       "      <th>Var6</th>\n",
       "      <th>Var7</th>\n",
       "      <th>Var8</th>\n",
       "      <th>Var9</th>\n",
       "      <th>Var10</th>\n",
       "      <th>...</th>\n",
       "      <th>Var222</th>\n",
       "      <th>Var223</th>\n",
       "      <th>Var224</th>\n",
       "      <th>Var225</th>\n",
       "      <th>Var226</th>\n",
       "      <th>Var227</th>\n",
       "      <th>Var228</th>\n",
       "      <th>Var229</th>\n",
       "      <th>Var230</th>\n",
       "      <th>Label</th>\n",
       "    </tr>\n",
       "  </thead>\n",
       "  <tbody>\n",
       "    <tr>\n",
       "      <th>0</th>\n",
       "      <td>NaN</td>\n",
       "      <td>NaN</td>\n",
       "      <td>NaN</td>\n",
       "      <td>NaN</td>\n",
       "      <td>NaN</td>\n",
       "      <td>3052.0</td>\n",
       "      <td>NaN</td>\n",
       "      <td>NaN</td>\n",
       "      <td>NaN</td>\n",
       "      <td>NaN</td>\n",
       "      <td>...</td>\n",
       "      <td>vr93T2a</td>\n",
       "      <td>LM8l689qOp</td>\n",
       "      <td>NaN</td>\n",
       "      <td>NaN</td>\n",
       "      <td>fKCe</td>\n",
       "      <td>02N6s8f</td>\n",
       "      <td>xwM2aC7IdeMC0</td>\n",
       "      <td>NaN</td>\n",
       "      <td>NaN</td>\n",
       "      <td>-1</td>\n",
       "    </tr>\n",
       "    <tr>\n",
       "      <th>1</th>\n",
       "      <td>NaN</td>\n",
       "      <td>NaN</td>\n",
       "      <td>NaN</td>\n",
       "      <td>NaN</td>\n",
       "      <td>NaN</td>\n",
       "      <td>1813.0</td>\n",
       "      <td>7.0</td>\n",
       "      <td>NaN</td>\n",
       "      <td>NaN</td>\n",
       "      <td>NaN</td>\n",
       "      <td>...</td>\n",
       "      <td>6hQ9lNX</td>\n",
       "      <td>LM8l689qOp</td>\n",
       "      <td>NaN</td>\n",
       "      <td>ELof</td>\n",
       "      <td>xb3V</td>\n",
       "      <td>RAYp</td>\n",
       "      <td>55YFVY9</td>\n",
       "      <td>mj86</td>\n",
       "      <td>NaN</td>\n",
       "      <td>-1</td>\n",
       "    </tr>\n",
       "    <tr>\n",
       "      <th>2</th>\n",
       "      <td>NaN</td>\n",
       "      <td>NaN</td>\n",
       "      <td>NaN</td>\n",
       "      <td>NaN</td>\n",
       "      <td>NaN</td>\n",
       "      <td>1953.0</td>\n",
       "      <td>7.0</td>\n",
       "      <td>NaN</td>\n",
       "      <td>NaN</td>\n",
       "      <td>NaN</td>\n",
       "      <td>...</td>\n",
       "      <td>catzS2D</td>\n",
       "      <td>LM8l689qOp</td>\n",
       "      <td>NaN</td>\n",
       "      <td>NaN</td>\n",
       "      <td>FSa2</td>\n",
       "      <td>ZI9m</td>\n",
       "      <td>ib5G6X1eUxUn6</td>\n",
       "      <td>mj86</td>\n",
       "      <td>NaN</td>\n",
       "      <td>-1</td>\n",
       "    </tr>\n",
       "    <tr>\n",
       "      <th>3</th>\n",
       "      <td>NaN</td>\n",
       "      <td>NaN</td>\n",
       "      <td>NaN</td>\n",
       "      <td>NaN</td>\n",
       "      <td>NaN</td>\n",
       "      <td>1533.0</td>\n",
       "      <td>7.0</td>\n",
       "      <td>NaN</td>\n",
       "      <td>NaN</td>\n",
       "      <td>NaN</td>\n",
       "      <td>...</td>\n",
       "      <td>e4lqvY0</td>\n",
       "      <td>LM8l689qOp</td>\n",
       "      <td>NaN</td>\n",
       "      <td>NaN</td>\n",
       "      <td>xb3V</td>\n",
       "      <td>RAYp</td>\n",
       "      <td>F2FyR07IdsN7I</td>\n",
       "      <td>NaN</td>\n",
       "      <td>NaN</td>\n",
       "      <td>1</td>\n",
       "    </tr>\n",
       "    <tr>\n",
       "      <th>4</th>\n",
       "      <td>NaN</td>\n",
       "      <td>NaN</td>\n",
       "      <td>NaN</td>\n",
       "      <td>NaN</td>\n",
       "      <td>NaN</td>\n",
       "      <td>686.0</td>\n",
       "      <td>7.0</td>\n",
       "      <td>NaN</td>\n",
       "      <td>NaN</td>\n",
       "      <td>NaN</td>\n",
       "      <td>...</td>\n",
       "      <td>MAz3HNj</td>\n",
       "      <td>LM8l689qOp</td>\n",
       "      <td>NaN</td>\n",
       "      <td>NaN</td>\n",
       "      <td>WqMG</td>\n",
       "      <td>RAYp</td>\n",
       "      <td>F2FyR07IdsN7I</td>\n",
       "      <td>NaN</td>\n",
       "      <td>NaN</td>\n",
       "      <td>-1</td>\n",
       "    </tr>\n",
       "  </tbody>\n",
       "</table>\n",
       "<p>5 rows × 231 columns</p>\n",
       "</div>"
      ],
      "text/plain": [
       "   Var1  Var2  Var3  Var4  Var5    Var6  Var7  Var8  Var9  Var10  ...  \\\n",
       "0   NaN   NaN   NaN   NaN   NaN  3052.0   NaN   NaN   NaN    NaN  ...   \n",
       "1   NaN   NaN   NaN   NaN   NaN  1813.0   7.0   NaN   NaN    NaN  ...   \n",
       "2   NaN   NaN   NaN   NaN   NaN  1953.0   7.0   NaN   NaN    NaN  ...   \n",
       "3   NaN   NaN   NaN   NaN   NaN  1533.0   7.0   NaN   NaN    NaN  ...   \n",
       "4   NaN   NaN   NaN   NaN   NaN   686.0   7.0   NaN   NaN    NaN  ...   \n",
       "\n",
       "    Var222      Var223  Var224  Var225  Var226   Var227         Var228  \\\n",
       "0  vr93T2a  LM8l689qOp     NaN     NaN    fKCe  02N6s8f  xwM2aC7IdeMC0   \n",
       "1  6hQ9lNX  LM8l689qOp     NaN    ELof    xb3V     RAYp        55YFVY9   \n",
       "2  catzS2D  LM8l689qOp     NaN     NaN    FSa2     ZI9m  ib5G6X1eUxUn6   \n",
       "3  e4lqvY0  LM8l689qOp     NaN     NaN    xb3V     RAYp  F2FyR07IdsN7I   \n",
       "4  MAz3HNj  LM8l689qOp     NaN     NaN    WqMG     RAYp  F2FyR07IdsN7I   \n",
       "\n",
       "   Var229  Var230  Label  \n",
       "0     NaN     NaN     -1  \n",
       "1    mj86     NaN     -1  \n",
       "2    mj86     NaN     -1  \n",
       "3     NaN     NaN      1  \n",
       "4     NaN     NaN     -1  \n",
       "\n",
       "[5 rows x 231 columns]"
      ]
     },
     "execution_count": 3,
     "metadata": {},
     "output_type": "execute_result"
    }
   ],
   "source": [
    "df_data = pd.read_csv('orange_small_churn_data.train')\n",
    "df_labels = pd.read_csv('orange_small_churn_labels.train', names=['Label'], header=None)\n",
    "df_data['Label'] = df_labels.Label\n",
    "df_data.head()"
   ]
  },
  {
   "cell_type": "code",
   "execution_count": 4,
   "metadata": {
    "scrolled": true
   },
   "outputs": [],
   "source": [
    "# df_data = pd.read_csv('not_hold_out_dataset.csv')\n",
    "# Удалим переменные в которых все значения NaN.\n",
    "df_tmp = df_data.dropna(axis=1, how='all')\n",
    "# Преобразование в лоб всех столбцов по OneHotEncoder без предварительной подготовки\n",
    "# данных приводит к не подъёмному DataFrame. Поэтому для baseline решения применяем LabelEncoder.\n",
    "df_object = df_tmp.copy()\n",
    "columns = df_object.select_dtypes(['object']).columns\n",
    "df_object[columns] = df_object[columns].astype('category')\n",
    "df_object[columns] = df_object[columns].apply(lambda x: x.cat.codes)\n",
    "\n",
    "X = df_object.iloc[:,:-1]\n",
    "# Массив с метками.\n",
    "y = df_object.iloc[:,-1]"
   ]
  },
  {
   "cell_type": "code",
   "execution_count": 9,
   "metadata": {},
   "outputs": [
    {
     "data": {
      "text/plain": [
       "-1    0.540135\n",
       " 1    6.728972\n",
       "Name: Label, dtype: float64"
      ]
     },
     "execution_count": 9,
     "metadata": {},
     "output_type": "execute_result"
    }
   ],
   "source": [
    "df_object.shape[0] /(2 * df_object['Label'].value_counts())\n"
   ]
  },
  {
   "cell_type": "code",
   "execution_count": 5,
   "metadata": {},
   "outputs": [
    {
     "data": {
      "image/png": "[encoded data removed]",
      "text/plain": [
       "<Figure size 864x432 with 2 Axes>"
      ]
     },
     "metadata": {
      "needs_background": "light"
     },
     "output_type": "display_data"
    },
    {
     "data": {
      "image/png": "[encoded data removed]",
      "text/plain": [
       "<Figure size 864x432 with 2 Axes>"
      ]
     },
     "metadata": {
      "needs_background": "light"
     },
     "output_type": "display_data"
    }
   ],
   "source": [
    "# est = LogisticRegression(solver='liblinear')\n",
    "# est = RidgeClassifier()\n",
    "# Cross validation with 100 iterations to get smoother mean test and train\n",
    "# score curves, each time with 20% data randomly selected as a validation set.\n",
    "# cv = ShuffleSplit(n_splits=10, test_size=0.2, random_state=0)\n",
    "# for est in [SGDClassifier(), LogisticRegression(solver='liblinear'), RidgeClassifier(),\n",
    "#             RandomForestClassifier(n_estimators=500), GradientBoostingClassifier()]:\n",
    "cv = StratifiedKFold(n_splits=10, shuffle=True)   \n",
    "si = SimpleImputer(strategy='mean')\n",
    "scaler = preprocessing.MinMaxScaler()\n",
    "\n",
    "\n",
    "for est in [  LogisticRegression(solver='liblinear'), RidgeClassifier() ]:\n",
    "    pipe = Pipeline([('inputer', si), ('scaler', scaler), ('est', est)])\n",
    "        \n",
    "    plot_learning_curve(pipe, 'Классификатор: ' + type(est).__name__, X, y, ylim=(0.4, 1.01), \n",
    "                    train_sizes=np.logspace(-3, 0, 10), \n",
    "                    cv=cv, n_jobs=5)\n",
    "# train_sizes, train_scores, test_scores =  learning_curve(est, X, y, \n",
    "#                scoring='roc_auc', train_sizes=np.array([0.1, 0.33, 0.55, 0.78, 1. ]), cv=3)\n",
    "\n",
    "plt.show()"
   ]
  },
  {
   "cell_type": "code",
   "execution_count": null,
   "metadata": {},
   "outputs": [],
   "source": []
  },
  {
   "cell_type": "code",
   "execution_count": null,
   "metadata": {},
   "outputs": [],
   "source": []
  },
  {
   "cell_type": "code",
   "execution_count": null,
   "metadata": {},
   "outputs": [],
   "source": []
  },
  {
   "cell_type": "markdown",
   "metadata": {},
   "source": [
    "2\\. Часто несбалансированные по классам выборки приводят к различным проблемам при обучении моделей. Давайте попробуем по-разному обработать выборку, поиграть с распределением объектов по классам и сделать выводы о том, как соотношение классов влияет на качество модели."
   ]
  },
  {
   "cell_type": "markdown",
   "metadata": {},
   "source": [
    "2.1\\. Задайте веса объектам так, чтобы соотношение классов с учетом весов объектов изменилось. Попробуйте не менее трёх различных вариантов весов. Меняются ли результаты классификации? Как это сказывается на качестве модели? Какой вариант выглядит наиболее оптимальным с точки зрения качества?"
   ]
  },
  {
   "cell_type": "code",
   "execution_count": 56,
   "metadata": {},
   "outputs": [
    {
     "data": {
      "text/plain": [
       "array([0.001     , 0.00145599, 0.0021199 , 0.00308655, 0.00449398,\n",
       "       0.00654319, 0.00952681, 0.01387092, 0.0201959 , 0.02940499,\n",
       "       0.04281332, 0.0623357 , 0.09076005, 0.13214558, 0.19240242,\n",
       "       0.28013568, 0.40787428, 0.59386019, 0.8646535 ])"
      ]
     },
     "execution_count": 56,
     "metadata": {},
     "output_type": "execute_result"
    }
   ],
   "source": [
    "np.logspace(-3, 0.1, 20)[:-1]"
   ]
  },
  {
   "cell_type": "code",
   "execution_count": 6,
   "metadata": {},
   "outputs": [
    {
     "name": "stdout",
     "output_type": "stream",
     "text": [
      "0.5569 0.558 {-1: 1, 1: 0.001}\n",
      "0.5722 0.574 {-1: 1, 1: 0.0018329807108324356}\n",
      "0.5926 0.5953 {-1: 1, 1: 0.003359818286283781}\n",
      "0.6153 0.6191 {-1: 1, 1: 0.006158482110660267}\n",
      "0.6345 0.6393 {-1: 1, 1: 0.011288378916846888}\n",
      "0.6474 0.6537 {-1: 1, 1: 0.02069138081114789}\n",
      "0.6567 0.6631 {-1: 1, 1: 0.0379269019073225}\n",
      "0.6606 0.6693 {-1: 1, 1: 0.06951927961775606}\n",
      "0.6645 0.6736 {-1: 1, 1: 0.12742749857031335}\n",
      "0.6672 0.677 {-1: 1, 1: 0.23357214690901212}\n",
      "0.6686 0.6799 {-1: 1, 1: 0.42813323987193913}\n",
      "0.6695 0.6823 {-1: 1, 1: 0.7847599703514607}\n",
      "0.6695 0.6842 {-1: 1, 1: 1.438449888287663}\n",
      "0.67 0.6857 {-1: 1, 1: 2.636650898730358}\n",
      "0.6695 0.6868 {-1: 1, 1: 4.832930238571752}\n",
      "0.6718 0.6873 {-1: 1, 1: 8.858667904100823}\n",
      "0.6706 0.6875 {-1: 1, 1: 16.23776739188721}\n",
      "0.6683 0.6872 {-1: 1, 1: 29.763514416313193}\n",
      "0.6681 0.6862 {-1: 1, 1: 54.555947811685144}\n",
      "CPU times: user 3.31 s, sys: 1.25 s, total: 4.55 s\n",
      "Wall time: 3min 31s\n"
     ]
    }
   ],
   "source": [
    "%%time\n",
    "train_score, test_score = [], []\n",
    "# train_point = np.linspace(1, 10, 10) \n",
    "train_point = np.logspace(-3, 2, 20)[:-1]\n",
    "\n",
    "cv = StratifiedKFold(n_splits=10, shuffle=True)   \n",
    "si = SimpleImputer(strategy='mean')\n",
    "scaler = preprocessing.MinMaxScaler()\n",
    "\n",
    "for cw in [{-1:1, 1:w} for w in train_point]:\n",
    "    est = LogisticRegression(solver='liblinear', class_weight=cw) \n",
    "    pipe = Pipeline([('inputer', si), ('scaler', scaler), ('est', est)])\n",
    "\n",
    "    cv_rez = cross_validate(pipe, X, y, cv=cv, \n",
    "                          return_train_score=True, \n",
    "                          return_estimator=True,\n",
    "                          verbose=0, n_jobs=10,\n",
    "                          scoring=('roc_auc'))\n",
    "    train_score.append(cv_rez['train_score'])\n",
    "    test_score.append(cv_rez['test_score'])\n",
    "    print(cv_rez['test_score'].mean().round(4), cv_rez['train_score'].mean().round(4), cw)"
   ]
  },
  {
   "cell_type": "code",
   "execution_count": 7,
   "metadata": {},
   "outputs": [
    {
     "name": "stdout",
     "output_type": "stream",
     "text": [
      "{-1: 1, 1: 54.555947811685144} 0.6702523227755198 0.6866482323596508\n"
     ]
    }
   ],
   "source": [
    "est = LogisticRegression(solver='liblinear', class_weight='balanced')\n",
    "pipe = Pipeline([('inputer', si), ('scaler', scaler), ('est', est)])\n",
    "cv_rez = cross_validate(pipe, X, y, cv=cv, \n",
    "                  return_train_score=True, \n",
    "                  return_estimator=True,\n",
    "                  verbose=0, n_jobs=4,\n",
    "                  scoring=('roc_auc'))\n",
    "\n",
    "balanced_test = cv_rez['test_score'].mean()\n",
    "balanced_train = cv_rez['train_score'].mean()\n",
    "print(cw, cv_rez['test_score'].mean(), cv_rez['train_score'].mean())\n"
   ]
  },
  {
   "cell_type": "code",
   "execution_count": 9,
   "metadata": {
    "scrolled": false
   },
   "outputs": [
    {
     "data": {
      "image/png": "[encoded data removed]",
      "text/plain": [
       "<Figure size 864x360 with 1 Axes>"
      ]
     },
     "metadata": {
      "needs_background": "light"
     },
     "output_type": "display_data"
    }
   ],
   "source": [
    "# fig, (plt1, plt2) = plt.subplots(1, 2, figsize=(9, 4))\n",
    "fig, plt1 = plt.subplots(1, 1, figsize=(12, 5))\n",
    "\n",
    "plot_curve(plt1, 'Зависимость качества модели от весов объектов', 'log', \n",
    "           (0.5, .8),  train_point, train_score, test_score, 'Вес класса \"1\"') \n",
    "plt1.axhline(balanced_train, color='r', lw=1, ls='-.', label='Оценка кросс-валидации при параметре весов balanced') \n",
    "plt1.axhline(balanced_test, color='g', lw=1, ls='-.', label='Оценка обучения при параметре весов balanced') \n",
    "plt1.legend(loc=\"best\")\n",
    "plt1.text(0.01, 0.01, \"Вес класса '-1': фиксирован и равен 1\\nВес класса ' 1': ось X\", \n",
    "         transform=plt1.transAxes, fontsize=11, verticalalignment='bottom')\n",
    "plt.show()"
   ]
  },
  {
   "cell_type": "code",
   "execution_count": 52,
   "metadata": {},
   "outputs": [
    {
     "data": {
      "text/plain": [
       "[{1: 0.1, -1: 0.9}, {1: 0.3, -1: 0.7}, {1: 0.5, -1: 0.5}, 'balanced']"
      ]
     },
     "execution_count": 52,
     "metadata": {},
     "output_type": "execute_result"
    }
   ],
   "source": [
    " [w if isinstance(w, str) else {1:w, -1:(1.-w)} for w in [0.1, 0.3, 0.5, 'balanced']]"
   ]
  },
  {
   "cell_type": "code",
   "execution_count": 110,
   "metadata": {},
   "outputs": [
    {
     "data": {
      "text/plain": [
       "0    0.540135\n",
       "1    6.728972\n",
       "Name: Label, dtype: float64"
      ]
     },
     "execution_count": 110,
     "metadata": {},
     "output_type": "execute_result"
    }
   ],
   "source": [
    "df_object.shape[0] /(2 * df_object['Label'].value_counts())"
   ]
  },
  {
   "cell_type": "code",
   "execution_count": 25,
   "metadata": {},
   "outputs": [
    {
     "data": {
      "text/plain": [
       " 1    2675\n",
       "-1     118\n",
       "Name: Label, dtype: int64"
      ]
     },
     "execution_count": 25,
     "metadata": {},
     "output_type": "execute_result"
    }
   ],
   "source": [
    "df_object['Label'].value_counts()"
   ]
  },
  {
   "cell_type": "markdown",
   "metadata": {},
   "source": [
    "2.2\\. Примените к выборке технологию undersampling: для этого нужно убрать из обучения некоторое количество объектов большего класса таким образом, чтобы соотношение классов изменилось. Попробуйте не менее трёх различных вариантов undersampling (варианты могут отличаться как по количество отфильтрованных объектов, так и по принципу выборка объектов для отсеивания из выборки). Меняются ли результаты классификации? Как это сказывается на качестве модели? Какой вариант выглядит наиболее оптимальным с точки зрения качества?"
   ]
  },
  {
   "cell_type": "markdown",
   "metadata": {},
   "source": [
    "https://towardsdatascience.com/sampling-techniques-for-extremely-imbalanced-data-part-ii-over-sampling-d61b43bc4879  \n",
    "conda install -c conda-forge imbalanced-learn"
   ]
  },
  {
   "cell_type": "code",
   "execution_count": 14,
   "metadata": {
    "scrolled": true
   },
   "outputs": [],
   "source": []
  },
  {
   "cell_type": "code",
   "execution_count": 22,
   "metadata": {
    "collapsed": true
   },
   "outputs": [
    {
     "ename": "ValueError",
     "evalue": "Input contains NaN, infinity or a value too large for dtype('float64').",
     "output_type": "error",
     "traceback": [
      "\u001b[0;31m---------------------------------------------------------------------------\u001b[0m",
      "\u001b[0;31mValueError\u001b[0m                                Traceback (most recent call last)",
      "\u001b[0;32m<ipython-input-22-d22832aee87c>\u001b[0m in \u001b[0;36m<module>\u001b[0;34m\u001b[0m\n\u001b[1;32m      2\u001b[0m \u001b[0msi\u001b[0m \u001b[0;34m=\u001b[0m \u001b[0mSimpleImputer\u001b[0m\u001b[0;34m(\u001b[0m\u001b[0mstrategy\u001b[0m\u001b[0;34m=\u001b[0m\u001b[0;34m'mean'\u001b[0m\u001b[0;34m)\u001b[0m\u001b[0;34m\u001b[0m\u001b[0;34m\u001b[0m\u001b[0m\n\u001b[1;32m      3\u001b[0m \u001b[0mX_rs\u001b[0m \u001b[0;34m=\u001b[0m \u001b[0msi\u001b[0m\u001b[0;34m.\u001b[0m\u001b[0mfit_transform\u001b[0m\u001b[0;34m(\u001b[0m\u001b[0mX\u001b[0m\u001b[0;34m)\u001b[0m\u001b[0;34m\u001b[0m\u001b[0;34m\u001b[0m\u001b[0m\n\u001b[0;32m----> 4\u001b[0;31m \u001b[0mX_rs\u001b[0m\u001b[0;34m,\u001b[0m \u001b[0my_rs\u001b[0m \u001b[0;34m=\u001b[0m \u001b[0msampler\u001b[0m\u001b[0;34m.\u001b[0m\u001b[0mfit_sample\u001b[0m\u001b[0;34m(\u001b[0m\u001b[0mX\u001b[0m\u001b[0;34m,\u001b[0m \u001b[0my\u001b[0m\u001b[0;34m.\u001b[0m\u001b[0mvalues\u001b[0m\u001b[0;34m)\u001b[0m\u001b[0;34m\u001b[0m\u001b[0;34m\u001b[0m\u001b[0m\n\u001b[0m\u001b[1;32m      5\u001b[0m \u001b[0mprint\u001b[0m\u001b[0;34m(\u001b[0m\u001b[0;34m'Cluster centriods undersampling {}'\u001b[0m\u001b[0;34m.\u001b[0m\u001b[0mformat\u001b[0m\u001b[0;34m(\u001b[0m\u001b[0mCounter\u001b[0m\u001b[0;34m(\u001b[0m\u001b[0my_rs\u001b[0m\u001b[0;34m)\u001b[0m\u001b[0;34m)\u001b[0m\u001b[0;34m)\u001b[0m\u001b[0;34m\u001b[0m\u001b[0;34m\u001b[0m\u001b[0m\n",
      "\u001b[0;32m~/anaconda2/envs/py37/lib/python3.7/site-packages/imblearn/base.py\u001b[0m in \u001b[0;36mfit_resample\u001b[0;34m(self, X, y)\u001b[0m\n\u001b[1;32m     77\u001b[0m \u001b[0;34m\u001b[0m\u001b[0m\n\u001b[1;32m     78\u001b[0m         \u001b[0mcheck_classification_targets\u001b[0m\u001b[0;34m(\u001b[0m\u001b[0my\u001b[0m\u001b[0;34m)\u001b[0m\u001b[0;34m\u001b[0m\u001b[0;34m\u001b[0m\u001b[0m\n\u001b[0;32m---> 79\u001b[0;31m         \u001b[0mX\u001b[0m\u001b[0;34m,\u001b[0m \u001b[0my\u001b[0m\u001b[0;34m,\u001b[0m \u001b[0mbinarize_y\u001b[0m \u001b[0;34m=\u001b[0m \u001b[0mself\u001b[0m\u001b[0;34m.\u001b[0m\u001b[0m_check_X_y\u001b[0m\u001b[0;34m(\u001b[0m\u001b[0mX\u001b[0m\u001b[0;34m,\u001b[0m \u001b[0my\u001b[0m\u001b[0;34m)\u001b[0m\u001b[0;34m\u001b[0m\u001b[0;34m\u001b[0m\u001b[0m\n\u001b[0m\u001b[1;32m     80\u001b[0m \u001b[0;34m\u001b[0m\u001b[0m\n\u001b[1;32m     81\u001b[0m         self.sampling_strategy_ = check_sampling_strategy(\n",
      "\u001b[0;32m~/anaconda2/envs/py37/lib/python3.7/site-packages/imblearn/under_sampling/_prototype_selection/_random_under_sampler.py\u001b[0m in \u001b[0;36m_check_X_y\u001b[0;34m(X, y)\u001b[0m\n\u001b[1;32m     99\u001b[0m     \u001b[0;32mdef\u001b[0m \u001b[0m_check_X_y\u001b[0m\u001b[0;34m(\u001b[0m\u001b[0mX\u001b[0m\u001b[0;34m,\u001b[0m \u001b[0my\u001b[0m\u001b[0;34m)\u001b[0m\u001b[0;34m:\u001b[0m\u001b[0;34m\u001b[0m\u001b[0;34m\u001b[0m\u001b[0m\n\u001b[1;32m    100\u001b[0m         \u001b[0my\u001b[0m\u001b[0;34m,\u001b[0m \u001b[0mbinarize_y\u001b[0m \u001b[0;34m=\u001b[0m \u001b[0mcheck_target_type\u001b[0m\u001b[0;34m(\u001b[0m\u001b[0my\u001b[0m\u001b[0;34m,\u001b[0m \u001b[0mindicate_one_vs_all\u001b[0m\u001b[0;34m=\u001b[0m\u001b[0;32mTrue\u001b[0m\u001b[0;34m)\u001b[0m\u001b[0;34m\u001b[0m\u001b[0;34m\u001b[0m\u001b[0m\n\u001b[0;32m--> 101\u001b[0;31m         \u001b[0mX\u001b[0m \u001b[0;34m=\u001b[0m \u001b[0mcheck_array\u001b[0m\u001b[0;34m(\u001b[0m\u001b[0mX\u001b[0m\u001b[0;34m,\u001b[0m \u001b[0maccept_sparse\u001b[0m\u001b[0;34m=\u001b[0m\u001b[0;34m[\u001b[0m\u001b[0;34m'csr'\u001b[0m\u001b[0;34m,\u001b[0m \u001b[0;34m'csc'\u001b[0m\u001b[0;34m]\u001b[0m\u001b[0;34m,\u001b[0m \u001b[0mdtype\u001b[0m\u001b[0;34m=\u001b[0m\u001b[0;32mNone\u001b[0m\u001b[0;34m)\u001b[0m\u001b[0;34m\u001b[0m\u001b[0;34m\u001b[0m\u001b[0m\n\u001b[0m\u001b[1;32m    102\u001b[0m         y = check_array(y, accept_sparse=['csr', 'csc'], dtype=None,\n\u001b[1;32m    103\u001b[0m                         ensure_2d=False)\n",
      "\u001b[0;32m~/anaconda2/envs/py37/lib/python3.7/site-packages/sklearn/utils/validation.py\u001b[0m in \u001b[0;36mcheck_array\u001b[0;34m(array, accept_sparse, accept_large_sparse, dtype, order, copy, force_all_finite, ensure_2d, allow_nd, ensure_min_samples, ensure_min_features, warn_on_dtype, estimator)\u001b[0m\n\u001b[1;32m    540\u001b[0m         \u001b[0;32mif\u001b[0m \u001b[0mforce_all_finite\u001b[0m\u001b[0;34m:\u001b[0m\u001b[0;34m\u001b[0m\u001b[0;34m\u001b[0m\u001b[0m\n\u001b[1;32m    541\u001b[0m             _assert_all_finite(array,\n\u001b[0;32m--> 542\u001b[0;31m                                allow_nan=force_all_finite == 'allow-nan')\n\u001b[0m\u001b[1;32m    543\u001b[0m \u001b[0;34m\u001b[0m\u001b[0m\n\u001b[1;32m    544\u001b[0m     \u001b[0;32mif\u001b[0m \u001b[0mensure_min_samples\u001b[0m \u001b[0;34m>\u001b[0m \u001b[0;36m0\u001b[0m\u001b[0;34m:\u001b[0m\u001b[0;34m\u001b[0m\u001b[0;34m\u001b[0m\u001b[0m\n",
      "\u001b[0;32m~/anaconda2/envs/py37/lib/python3.7/site-packages/sklearn/utils/validation.py\u001b[0m in \u001b[0;36m_assert_all_finite\u001b[0;34m(X, allow_nan)\u001b[0m\n\u001b[1;32m     54\u001b[0m                 not allow_nan and not np.isfinite(X).all()):\n\u001b[1;32m     55\u001b[0m             \u001b[0mtype_err\u001b[0m \u001b[0;34m=\u001b[0m \u001b[0;34m'infinity'\u001b[0m \u001b[0;32mif\u001b[0m \u001b[0mallow_nan\u001b[0m \u001b[0;32melse\u001b[0m \u001b[0;34m'NaN, infinity'\u001b[0m\u001b[0;34m\u001b[0m\u001b[0;34m\u001b[0m\u001b[0m\n\u001b[0;32m---> 56\u001b[0;31m             \u001b[0;32mraise\u001b[0m \u001b[0mValueError\u001b[0m\u001b[0;34m(\u001b[0m\u001b[0mmsg_err\u001b[0m\u001b[0;34m.\u001b[0m\u001b[0mformat\u001b[0m\u001b[0;34m(\u001b[0m\u001b[0mtype_err\u001b[0m\u001b[0;34m,\u001b[0m \u001b[0mX\u001b[0m\u001b[0;34m.\u001b[0m\u001b[0mdtype\u001b[0m\u001b[0;34m)\u001b[0m\u001b[0;34m)\u001b[0m\u001b[0;34m\u001b[0m\u001b[0;34m\u001b[0m\u001b[0m\n\u001b[0m\u001b[1;32m     57\u001b[0m     \u001b[0;31m# for object dtype data, we only check for NaNs (GH-13254)\u001b[0m\u001b[0;34m\u001b[0m\u001b[0;34m\u001b[0m\u001b[0;34m\u001b[0m\u001b[0m\n\u001b[1;32m     58\u001b[0m     \u001b[0;32melif\u001b[0m \u001b[0mX\u001b[0m\u001b[0;34m.\u001b[0m\u001b[0mdtype\u001b[0m \u001b[0;34m==\u001b[0m \u001b[0mnp\u001b[0m\u001b[0;34m.\u001b[0m\u001b[0mdtype\u001b[0m\u001b[0;34m(\u001b[0m\u001b[0;34m'object'\u001b[0m\u001b[0;34m)\u001b[0m \u001b[0;32mand\u001b[0m \u001b[0;32mnot\u001b[0m \u001b[0mallow_nan\u001b[0m\u001b[0;34m:\u001b[0m\u001b[0;34m\u001b[0m\u001b[0;34m\u001b[0m\u001b[0m\n",
      "\u001b[0;31mValueError\u001b[0m: Input contains NaN, infinity or a value too large for dtype('float64')."
     ]
    }
   ],
   "source": [
    "sampler = RandomUnderSampler(sampling_strategy=.1)\n",
    "si = SimpleImputer(strategy='mean')\n",
    "X_rs = si.fit_transform(X)\n",
    "X_rs, y_rs = sampler.fit_sample(X, y.values)\n",
    "print('Cluster centriods undersampling {}'.format(Counter(y_rs)))"
   ]
  },
  {
   "cell_type": "code",
   "execution_count": null,
   "metadata": {},
   "outputs": [],
   "source": []
  },
  {
   "cell_type": "code",
   "execution_count": 21,
   "metadata": {
    "collapsed": true
   },
   "outputs": [
    {
     "name": "stdout",
     "output_type": "stream",
     "text": [
      "0 (2793, 233)\n",
      "0 (36000, 233)\n",
      "Start cross_validate\n",
      "0.5988 0.6127 0\n",
      "70 (36000, 233)\n",
      "70 (26058, 233)\n",
      "Start cross_validate\n",
      "0.6533 0.6692 70\n",
      "71 (26058, 233)\n",
      "71 (21784, 233)\n",
      "Start cross_validate\n",
      "0.6553 0.6657 71\n",
      "72 (21784, 233)\n",
      "72 (18015, 233)\n",
      "Start cross_validate\n",
      "0.7019 0.7142 72\n",
      "73 (18015, 233)\n",
      "73 (15948, 233)\n",
      "Start cross_validate\n",
      "0.7193 0.7268 73\n",
      "74 (15948, 233)\n",
      "74 (13242, 233)\n",
      "Start cross_validate\n",
      "0.7093 0.7253 74\n",
      "75 (13242, 233)\n",
      "75 (9475, 233)\n",
      "Start cross_validate\n",
      "0.7525 0.7703 75\n",
      "76 (9475, 233)\n",
      "76 (6315, 233)\n",
      "Start cross_validate\n",
      "0.7324 0.7537 76\n",
      "77 (6315, 233)\n",
      "77 (4001, 233)\n",
      "Start cross_validate\n",
      "0.754 0.7728 77\n",
      "78 (4001, 233)\n",
      "78 (2793, 233)\n",
      "Start cross_validate\n",
      "0.7149 0.7965 78\n",
      "Wall time: 9min 38s\n"
     ]
    }
   ],
   "source": [
    "%%time\n",
    "df_data = pd.read_csv('not_hold_out_dataset.csv')\n",
    "df_data['CountNotNull'] = df_data.count(axis=1)\n",
    "min_max_scaler = preprocessing.MinMaxScaler()\n",
    "columns = df_data.select_dtypes(['object']).columns\n",
    "\n",
    "cv = StratifiedKFold(n_splits=5, shuffle=True)\n",
    "train_score, test_score, train_point = [], [], []\n",
    "\n",
    "for border in [0] + list(range(70, 79)) :\n",
    "    print(border, df_object.shape)\n",
    "\n",
    "    df_object = df_data[ ((df_data['Label'] == -1) & (df_data['CountNotNull'] > border)) | \n",
    "                        (df_data['Label'] == 1) ].copy()\n",
    "    df_object[columns] = df_object[columns].astype('category')\n",
    "    df_object[columns] = df_object[columns].apply(lambda x: x.cat.codes)\n",
    "    X = df_object.iloc[:,:-2]\n",
    "    si = SimpleImputer(strategy='mean')\n",
    "    X = si.fit_transform(X)\n",
    "    y = df_object.iloc[:,-2]\n",
    "    print('Start cross_validate')\n",
    "    est = LogisticRegression(solver='liblinear') \n",
    "    cv_rez = cross_validate(est, X, y, cv=cv, \n",
    "                          return_train_score=True, \n",
    "                          return_estimator=True,\n",
    "                          verbose=0, n_jobs=4,\n",
    "                          scoring=('roc_auc'))\n",
    "    train_score.append(cv_rez['train_score'])\n",
    "    test_score.append(cv_rez['test_score'])\n",
    "    train_point.append(df_object.shape[0])\n",
    "    print(cv_rez['test_score'].mean().round(4), cv_rez['train_score'].mean().round(4), border)\n"
   ]
  },
  {
   "cell_type": "code",
   "execution_count": 16,
   "metadata": {},
   "outputs": [
    {
     "data": {
      "text/plain": [
       "[0, 9942, 14216, 17985, 20052, 22758, 26525, 29685, 31999, 33207]"
      ]
     },
     "execution_count": 16,
     "metadata": {},
     "output_type": "execute_result"
    }
   ],
   "source": [
    "# [26058, 21784, 18015, 15948, 13242, 9475, 6315, 4001, 2793]\n",
    "[36000 - x for x in train_point]"
   ]
  },
  {
   "cell_type": "code",
   "execution_count": 23,
   "metadata": {},
   "outputs": [
    {
     "data": {
      "image/png": "[encoded data removed]",
      "text/plain": [
       "<Figure size 864x360 with 1 Axes>"
      ]
     },
     "metadata": {
      "needs_background": "light"
     },
     "output_type": "display_data"
    }
   ],
   "source": [
    "fig, plt1 = plt.subplots(1, 1, figsize=(12, 5))\n",
    "# train_point = [26058, 21784, 18015, 15948, 13242, 9475, 6315, 4001, 2793] \n",
    "# range(70, 79)\n",
    "\n",
    "plot_curve(plt1, 'Зависимость качества модели от количества отфильтрованных объектов', 'linear', \n",
    "           (0.5, .9),  [df_data.shape[0] - x for x in train_point], \n",
    "           train_score, test_score, 'Количество отфильтрованных объектов класса \"-1\"') \n",
    "plt.show()"
   ]
  },
  {
   "cell_type": "code",
   "execution_count": 12,
   "metadata": {},
   "outputs": [
    {
     "data": {
      "text/plain": [
       "[0, 70, 71, 72, 73, 74, 75, 76, 77, 78]"
      ]
     },
     "execution_count": 12,
     "metadata": {},
     "output_type": "execute_result"
    }
   ],
   "source": [
    "train_point = [0] + list(range(70, 79)) \n",
    "train_point"
   ]
  },
  {
   "cell_type": "code",
   "execution_count": 107,
   "metadata": {
    "collapsed": true
   },
   "outputs": [
    {
     "data": {
      "text/html": [
       "<div>\n",
       "<style scoped>\n",
       "    .dataframe tbody tr th:only-of-type {\n",
       "        vertical-align: middle;\n",
       "    }\n",
       "\n",
       "    .dataframe tbody tr th {\n",
       "        vertical-align: top;\n",
       "    }\n",
       "\n",
       "    .dataframe thead tr th {\n",
       "        text-align: left;\n",
       "    }\n",
       "\n",
       "    .dataframe thead tr:last-of-type th {\n",
       "        text-align: right;\n",
       "    }\n",
       "</style>\n",
       "<table border=\"1\" class=\"dataframe\">\n",
       "  <thead>\n",
       "    <tr>\n",
       "      <th></th>\n",
       "      <th>Label</th>\n",
       "    </tr>\n",
       "    <tr>\n",
       "      <th></th>\n",
       "      <th>count</th>\n",
       "    </tr>\n",
       "    <tr>\n",
       "      <th>CountNotNull</th>\n",
       "      <th></th>\n",
       "    </tr>\n",
       "  </thead>\n",
       "  <tbody>\n",
       "    <tr>\n",
       "      <td>49</td>\n",
       "      <td>1</td>\n",
       "    </tr>\n",
       "    <tr>\n",
       "      <td>51</td>\n",
       "      <td>1</td>\n",
       "    </tr>\n",
       "    <tr>\n",
       "      <td>52</td>\n",
       "      <td>14</td>\n",
       "    </tr>\n",
       "    <tr>\n",
       "      <td>53</td>\n",
       "      <td>66</td>\n",
       "    </tr>\n",
       "    <tr>\n",
       "      <td>54</td>\n",
       "      <td>76</td>\n",
       "    </tr>\n",
       "    <tr>\n",
       "      <td>55</td>\n",
       "      <td>163</td>\n",
       "    </tr>\n",
       "    <tr>\n",
       "      <td>56</td>\n",
       "      <td>154</td>\n",
       "    </tr>\n",
       "    <tr>\n",
       "      <td>57</td>\n",
       "      <td>77</td>\n",
       "    </tr>\n",
       "    <tr>\n",
       "      <td>58</td>\n",
       "      <td>104</td>\n",
       "    </tr>\n",
       "    <tr>\n",
       "      <td>59</td>\n",
       "      <td>217</td>\n",
       "    </tr>\n",
       "    <tr>\n",
       "      <td>60</td>\n",
       "      <td>220</td>\n",
       "    </tr>\n",
       "    <tr>\n",
       "      <td>61</td>\n",
       "      <td>446</td>\n",
       "    </tr>\n",
       "    <tr>\n",
       "      <td>62</td>\n",
       "      <td>347</td>\n",
       "    </tr>\n",
       "    <tr>\n",
       "      <td>63</td>\n",
       "      <td>327</td>\n",
       "    </tr>\n",
       "    <tr>\n",
       "      <td>64</td>\n",
       "      <td>653</td>\n",
       "    </tr>\n",
       "    <tr>\n",
       "      <td>65</td>\n",
       "      <td>547</td>\n",
       "    </tr>\n",
       "    <tr>\n",
       "      <td>66</td>\n",
       "      <td>364</td>\n",
       "    </tr>\n",
       "    <tr>\n",
       "      <td>67</td>\n",
       "      <td>592</td>\n",
       "    </tr>\n",
       "    <tr>\n",
       "      <td>68</td>\n",
       "      <td>1179</td>\n",
       "    </tr>\n",
       "    <tr>\n",
       "      <td>69</td>\n",
       "      <td>1125</td>\n",
       "    </tr>\n",
       "    <tr>\n",
       "      <td>70</td>\n",
       "      <td>2046</td>\n",
       "    </tr>\n",
       "    <tr>\n",
       "      <td>71</td>\n",
       "      <td>2248</td>\n",
       "    </tr>\n",
       "    <tr>\n",
       "      <td>72</td>\n",
       "      <td>4688</td>\n",
       "    </tr>\n",
       "    <tr>\n",
       "      <td>73</td>\n",
       "      <td>4074</td>\n",
       "    </tr>\n",
       "    <tr>\n",
       "      <td>74</td>\n",
       "      <td>2227</td>\n",
       "    </tr>\n",
       "    <tr>\n",
       "      <td>75</td>\n",
       "      <td>2917</td>\n",
       "    </tr>\n",
       "    <tr>\n",
       "      <td>76</td>\n",
       "      <td>3974</td>\n",
       "    </tr>\n",
       "    <tr>\n",
       "      <td>77</td>\n",
       "      <td>3328</td>\n",
       "    </tr>\n",
       "    <tr>\n",
       "      <td>78</td>\n",
       "      <td>2449</td>\n",
       "    </tr>\n",
       "    <tr>\n",
       "      <td>79</td>\n",
       "      <td>1253</td>\n",
       "    </tr>\n",
       "    <tr>\n",
       "      <td>80</td>\n",
       "      <td>123</td>\n",
       "    </tr>\n",
       "  </tbody>\n",
       "</table>\n",
       "</div>"
      ],
      "text/plain": [
       "             Label\n",
       "             count\n",
       "CountNotNull      \n",
       "49               1\n",
       "51               1\n",
       "52              14\n",
       "53              66\n",
       "54              76\n",
       "55             163\n",
       "56             154\n",
       "57              77\n",
       "58             104\n",
       "59             217\n",
       "60             220\n",
       "61             446\n",
       "62             347\n",
       "63             327\n",
       "64             653\n",
       "65             547\n",
       "66             364\n",
       "67             592\n",
       "68            1179\n",
       "69            1125\n",
       "70            2046\n",
       "71            2248\n",
       "72            4688\n",
       "73            4074\n",
       "74            2227\n",
       "75            2917\n",
       "76            3974\n",
       "77            3328\n",
       "78            2449\n",
       "79            1253\n",
       "80             123"
      ]
     },
     "execution_count": 107,
     "metadata": {},
     "output_type": "execute_result"
    }
   ],
   "source": [
    "df_data[['CountNotNull', 'Label']].groupby(['CountNotNull']).agg([ 'count'])"
   ]
  },
  {
   "cell_type": "code",
   "execution_count": 57,
   "metadata": {},
   "outputs": [
    {
     "data": {
      "text/plain": [
       "-1    33325\n",
       " 1     2675\n",
       "Name: Label, dtype: int64"
      ]
     },
     "execution_count": 57,
     "metadata": {},
     "output_type": "execute_result"
    }
   ],
   "source": [
    "# np.linspace(0, df.loc[-1] - df.loc[1], 10, dtype=int)\n",
    "df"
   ]
  },
  {
   "cell_type": "code",
   "execution_count": 13,
   "metadata": {},
   "outputs": [
    {
     "name": "stdout",
     "output_type": "stream",
     "text": [
      "0 40000\n",
      "0.6699 0.6831 0\n",
      "1792 38208\n",
      "0.6697 0.6837 1792\n",
      "3584 36416\n",
      "0.6711 0.6833 3584\n",
      "5376 34624\n",
      "0.6695 0.6832 5376\n",
      "7168 32832\n",
      "0.6691 0.6826 7168\n",
      "8960 31040\n",
      "0.6683 0.6826 8960\n",
      "10752 29248\n",
      "0.6686 0.6835 10752\n",
      "12544 27456\n",
      "0.6725 0.685 12544\n",
      "14336 25664\n",
      "0.6712 0.6846 14336\n",
      "16128 23872\n",
      "0.6688 0.6839 16128\n",
      "17920 22080\n",
      "0.6693 0.6853 17920\n",
      "19712 20288\n",
      "0.6726 0.6876 19712\n",
      "21504 18496\n",
      "0.6694 0.6853 21504\n",
      "23296 16704\n",
      "0.6705 0.687 23296\n",
      "25088 14912\n",
      "0.6706 0.688 25088\n",
      "26880 13120\n",
      "0.6665 0.6852 26880\n",
      "28672 11328\n",
      "0.6756 0.693 28672\n",
      "30464 9536\n",
      "0.668 0.6891 30464\n",
      "32256 7744\n",
      "0.6666 0.691 32256\n",
      "34048 5952\n",
      "0.6711 0.7 34048\n",
      "CPU times: user 32.9 s, sys: 3.7 s, total: 36.6 s\n",
      "Wall time: 2min 34s\n"
     ]
    }
   ],
   "source": [
    "%%time\n",
    "# Второй тип отбора строк для удаления - случайный\n",
    "# df_data = pd.read_csv('not_hold_out_dataset.csv')\n",
    "\n",
    "# columns = df_data.select_dtypes(['object']).columns\n",
    "cv = StratifiedKFold(n_splits=10, shuffle=True)   \n",
    "si = SimpleImputer(strategy='mean')\n",
    "scaler = preprocessing.MinMaxScaler()\n",
    "est = LogisticRegression(solver='liblinear') \n",
    "\n",
    "pipe = Pipeline([('inputer', si), ('scaler', scaler), ('est', est)])\n",
    "\n",
    "\n",
    "\n",
    "train_score, test_score = [], []\n",
    "\n",
    "df = df_data['Label'].value_counts()\n",
    "train_point = np.linspace(0, df.loc[-1] - df.loc[1], 20, dtype=int)\n",
    "\n",
    "l_index = list(df_data[df_data['Label'] == -1].index)\n",
    "\n",
    "for border in train_point:\n",
    "    df_object = df_data.drop( random.sample(l_index,  border) ).copy()\n",
    "    print(border, df_object.shape[0])\n",
    "    df_object[columns] = df_object[columns].astype('category')\n",
    "    df_object[columns] = df_object[columns].apply(lambda x: x.cat.codes)\n",
    "    \n",
    "    X = df_object.iloc[:,:-1]\n",
    "    y = df_object.iloc[:,-1]\n",
    "    \n",
    "    cv_rez = cross_validate(pipe, X, y, cv=cv, \n",
    "                          return_train_score=True, \n",
    "                          return_estimator=True,\n",
    "                          verbose=0, n_jobs=10,\n",
    "                          scoring=('roc_auc'))\n",
    "    train_score.append(cv_rez['train_score'])\n",
    "    test_score.append(cv_rez['test_score'])\n",
    "    print(cv_rez['test_score'].mean().round(4), cv_rez['train_score'].mean().round(4), border)\n"
   ]
  },
  {
   "cell_type": "code",
   "execution_count": 16,
   "metadata": {},
   "outputs": [
    {
     "data": {
      "image/png": "[encoded data removed]",
      "text/plain": [
       "<Figure size 864x360 with 1 Axes>"
      ]
     },
     "metadata": {
      "needs_background": "light"
     },
     "output_type": "display_data"
    }
   ],
   "source": [
    "fig, plt1 = plt.subplots(1, 1, figsize=(12, 5))\n",
    "plot_curve(plt1, 'Зависимость качества модели от количества отфильтрованных объектов', 'linear', \n",
    "           (0.64, .74),   train_point, \n",
    "           train_score, test_score, 'Количество отфильтрованных объектов класса \"-1\"') \n",
    "plt.show()"
   ]
  },
  {
   "cell_type": "code",
   "execution_count": 107,
   "metadata": {},
   "outputs": [
    {
     "data": {
      "text/html": [
       "<div>\n",
       "<style scoped>\n",
       "    .dataframe tbody tr th:only-of-type {\n",
       "        vertical-align: middle;\n",
       "    }\n",
       "\n",
       "    .dataframe tbody tr th {\n",
       "        vertical-align: top;\n",
       "    }\n",
       "\n",
       "    .dataframe thead th {\n",
       "        text-align: right;\n",
       "    }\n",
       "</style>\n",
       "<table border=\"1\" class=\"dataframe\">\n",
       "  <thead>\n",
       "    <tr style=\"text-align: right;\">\n",
       "      <th></th>\n",
       "      <th>Var1</th>\n",
       "      <th>Var2</th>\n",
       "      <th>Var3</th>\n",
       "      <th>Var4</th>\n",
       "      <th>Var5</th>\n",
       "      <th>Var6</th>\n",
       "      <th>Var7</th>\n",
       "      <th>Var8</th>\n",
       "      <th>Var9</th>\n",
       "      <th>Var10</th>\n",
       "      <th>...</th>\n",
       "      <th>Var223</th>\n",
       "      <th>Var224</th>\n",
       "      <th>Var225</th>\n",
       "      <th>Var226</th>\n",
       "      <th>Var227</th>\n",
       "      <th>Var228</th>\n",
       "      <th>Var229</th>\n",
       "      <th>Var230</th>\n",
       "      <th>Label</th>\n",
       "      <th>CountNotNull</th>\n",
       "    </tr>\n",
       "  </thead>\n",
       "  <tbody>\n",
       "    <tr>\n",
       "      <td>0</td>\n",
       "      <td>NaN</td>\n",
       "      <td>NaN</td>\n",
       "      <td>NaN</td>\n",
       "      <td>NaN</td>\n",
       "      <td>NaN</td>\n",
       "      <td>3052.0</td>\n",
       "      <td>NaN</td>\n",
       "      <td>NaN</td>\n",
       "      <td>NaN</td>\n",
       "      <td>NaN</td>\n",
       "      <td>...</td>\n",
       "      <td>LM8l689qOp</td>\n",
       "      <td>NaN</td>\n",
       "      <td>NaN</td>\n",
       "      <td>fKCe</td>\n",
       "      <td>02N6s8f</td>\n",
       "      <td>xwM2aC7IdeMC0</td>\n",
       "      <td>NaN</td>\n",
       "      <td>NaN</td>\n",
       "      <td>-1</td>\n",
       "      <td>62</td>\n",
       "    </tr>\n",
       "    <tr>\n",
       "      <td>1</td>\n",
       "      <td>NaN</td>\n",
       "      <td>NaN</td>\n",
       "      <td>NaN</td>\n",
       "      <td>NaN</td>\n",
       "      <td>NaN</td>\n",
       "      <td>1813.0</td>\n",
       "      <td>7.0</td>\n",
       "      <td>NaN</td>\n",
       "      <td>NaN</td>\n",
       "      <td>NaN</td>\n",
       "      <td>...</td>\n",
       "      <td>LM8l689qOp</td>\n",
       "      <td>NaN</td>\n",
       "      <td>ELof</td>\n",
       "      <td>xb3V</td>\n",
       "      <td>RAYp</td>\n",
       "      <td>55YFVY9</td>\n",
       "      <td>mj86</td>\n",
       "      <td>NaN</td>\n",
       "      <td>-1</td>\n",
       "      <td>75</td>\n",
       "    </tr>\n",
       "    <tr>\n",
       "      <td>2</td>\n",
       "      <td>NaN</td>\n",
       "      <td>NaN</td>\n",
       "      <td>NaN</td>\n",
       "      <td>NaN</td>\n",
       "      <td>NaN</td>\n",
       "      <td>1953.0</td>\n",
       "      <td>7.0</td>\n",
       "      <td>NaN</td>\n",
       "      <td>NaN</td>\n",
       "      <td>NaN</td>\n",
       "      <td>...</td>\n",
       "      <td>LM8l689qOp</td>\n",
       "      <td>NaN</td>\n",
       "      <td>NaN</td>\n",
       "      <td>FSa2</td>\n",
       "      <td>ZI9m</td>\n",
       "      <td>ib5G6X1eUxUn6</td>\n",
       "      <td>mj86</td>\n",
       "      <td>NaN</td>\n",
       "      <td>-1</td>\n",
       "      <td>71</td>\n",
       "    </tr>\n",
       "    <tr>\n",
       "      <td>3</td>\n",
       "      <td>NaN</td>\n",
       "      <td>NaN</td>\n",
       "      <td>NaN</td>\n",
       "      <td>NaN</td>\n",
       "      <td>NaN</td>\n",
       "      <td>1533.0</td>\n",
       "      <td>7.0</td>\n",
       "      <td>NaN</td>\n",
       "      <td>NaN</td>\n",
       "      <td>NaN</td>\n",
       "      <td>...</td>\n",
       "      <td>LM8l689qOp</td>\n",
       "      <td>NaN</td>\n",
       "      <td>NaN</td>\n",
       "      <td>xb3V</td>\n",
       "      <td>RAYp</td>\n",
       "      <td>F2FyR07IdsN7I</td>\n",
       "      <td>NaN</td>\n",
       "      <td>NaN</td>\n",
       "      <td>1</td>\n",
       "      <td>67</td>\n",
       "    </tr>\n",
       "    <tr>\n",
       "      <td>4</td>\n",
       "      <td>NaN</td>\n",
       "      <td>NaN</td>\n",
       "      <td>NaN</td>\n",
       "      <td>NaN</td>\n",
       "      <td>NaN</td>\n",
       "      <td>686.0</td>\n",
       "      <td>7.0</td>\n",
       "      <td>NaN</td>\n",
       "      <td>NaN</td>\n",
       "      <td>NaN</td>\n",
       "      <td>...</td>\n",
       "      <td>LM8l689qOp</td>\n",
       "      <td>NaN</td>\n",
       "      <td>NaN</td>\n",
       "      <td>WqMG</td>\n",
       "      <td>RAYp</td>\n",
       "      <td>F2FyR07IdsN7I</td>\n",
       "      <td>NaN</td>\n",
       "      <td>NaN</td>\n",
       "      <td>-1</td>\n",
       "      <td>70</td>\n",
       "    </tr>\n",
       "  </tbody>\n",
       "</table>\n",
       "<p>5 rows × 232 columns</p>\n",
       "</div>"
      ],
      "text/plain": [
       "   Var1  Var2  Var3  Var4  Var5    Var6  Var7  Var8  Var9  Var10  ...  \\\n",
       "0   NaN   NaN   NaN   NaN   NaN  3052.0   NaN   NaN   NaN    NaN  ...   \n",
       "1   NaN   NaN   NaN   NaN   NaN  1813.0   7.0   NaN   NaN    NaN  ...   \n",
       "2   NaN   NaN   NaN   NaN   NaN  1953.0   7.0   NaN   NaN    NaN  ...   \n",
       "3   NaN   NaN   NaN   NaN   NaN  1533.0   7.0   NaN   NaN    NaN  ...   \n",
       "4   NaN   NaN   NaN   NaN   NaN   686.0   7.0   NaN   NaN    NaN  ...   \n",
       "\n",
       "       Var223  Var224  Var225  Var226   Var227         Var228  Var229  Var230  \\\n",
       "0  LM8l689qOp     NaN     NaN    fKCe  02N6s8f  xwM2aC7IdeMC0     NaN     NaN   \n",
       "1  LM8l689qOp     NaN    ELof    xb3V     RAYp        55YFVY9    mj86     NaN   \n",
       "2  LM8l689qOp     NaN     NaN    FSa2     ZI9m  ib5G6X1eUxUn6    mj86     NaN   \n",
       "3  LM8l689qOp     NaN     NaN    xb3V     RAYp  F2FyR07IdsN7I     NaN     NaN   \n",
       "4  LM8l689qOp     NaN     NaN    WqMG     RAYp  F2FyR07IdsN7I     NaN     NaN   \n",
       "\n",
       "   Label  CountNotNull  \n",
       "0     -1            62  \n",
       "1     -1            75  \n",
       "2     -1            71  \n",
       "3      1            67  \n",
       "4     -1            70  \n",
       "\n",
       "[5 rows x 232 columns]"
      ]
     },
     "execution_count": 107,
     "metadata": {},
     "output_type": "execute_result"
    }
   ],
   "source": [
    "# df_data = pd.read_csv('not_hold_out_dataset.csv', index_col=0)\n",
    "df_data.head()"
   ]
  },
  {
   "cell_type": "code",
   "execution_count": 43,
   "metadata": {},
   "outputs": [
    {
     "name": "stdout",
     "output_type": "stream",
     "text": [
      "0.6724 0.6847 1\n",
      "CPU times: user 1min 56s, sys: 1.91 s, total: 1min 58s\n",
      "Wall time: 2min 7s\n"
     ]
    }
   ],
   "source": [
    "%%time\n",
    "# Отбор с применением библиотеки \n",
    "df_data = pd.read_csv('orange_small_churn_train_data.csv',  index_col=0)\n",
    "\n",
    "# columns = df_data.select_dtypes(['object']).columns\n",
    "cv = StratifiedKFold(n_splits=10, shuffle=True)   \n",
    "si = SimpleImputer(strategy='mean')\n",
    "scaler = preprocessing.MinMaxScaler()\n",
    "est = LogisticRegression(solver='liblinear') \n",
    "\n",
    "train_score, test_score = [], []\n",
    "\n",
    "columns = df_data.select_dtypes(['object']).columns\n",
    "df_data[columns] = df_data[columns].astype('category')\n",
    "df_data[columns] = df_data[columns].apply(lambda x: x.cat.codes)\n",
    "X = si.fit_transform(df_object.iloc[:,:-1])\n",
    "y = df_object.iloc[:,-1]\n",
    "\n",
    "\n",
    "for sampling_strategy in [1]: #np.linspace(0.2, 1, 5) :\n",
    "#     sampler = RandomUnderSampler(sampling_strategy=sampling_strategy)\n",
    "    sampler = TomekLinks() # sampling_strategy=sampling_strategy)\n",
    "    X_rs, y_rs = sampler.fit_sample(X, y)\n",
    "\n",
    "    pipe = Pipeline([('scaler', scaler), ('est', est)])\n",
    "    cv_rez = cross_validate(pipe, X_rs, y_rs, cv=cv, \n",
    "                          return_train_score=True, \n",
    "                          return_estimator=True,\n",
    "                          verbose=0, n_jobs=10,\n",
    "                          scoring=('roc_auc'))\n",
    "    train_score.append(cv_rez['train_score'])\n",
    "    test_score.append(cv_rez['test_score'])\n",
    "    print(cv_rez['test_score'].mean().round(4), cv_rez['train_score'].mean().round(4), sampling_strategy)\n"
   ]
  },
  {
   "cell_type": "code",
   "execution_count": 42,
   "metadata": {},
   "outputs": [
    {
     "name": "stdout",
     "output_type": "stream",
     "text": [
      "Cluster centriods undersampling Counter({-1: 35764, 1: 2976})\n"
     ]
    }
   ],
   "source": [
    "print('Cluster centriods undersampling {}'.format(Counter(y_rs)))"
   ]
  },
  {
   "cell_type": "code",
   "execution_count": null,
   "metadata": {},
   "outputs": [],
   "source": [
    "pd.read_csv"
   ]
  },
  {
   "cell_type": "code",
   "execution_count": null,
   "metadata": {},
   "outputs": [],
   "source": []
  },
  {
   "cell_type": "markdown",
   "metadata": {},
   "source": [
    "3\\. Теперь перейдем к работе с признаками. Ранее вы реализовали несколько стратегий для обработки пропущенных значений. Сравните эти стратегии между собой с помощью оценки качества моделей кросс-валидации, построенных на датасетах с использованием различных стратегий. Как обработка пропущенных значений сказывается на качестве модели? Какой вариант выглядит наиболее оптимальным с точки зрения качества?"
   ]
  },
  {
   "cell_type": "code",
   "execution_count": 105,
   "metadata": {},
   "outputs": [
    {
     "name": "stdout",
     "output_type": "stream",
     "text": [
      "0.7261 0.7852 mean\n",
      "0.8421 0.8725 median\n",
      "0.917 0.9408 most_frequent\n",
      "0.9949 0.9978 constant\n",
      "Wall time: 1min\n"
     ]
    }
   ],
   "source": [
    "%%time\n",
    "df_data = pd.read_csv('not_hold_out_dataset.csv', index_col=0)\n",
    "df_data['CountNotNull'] = df_data.count(axis=1)\n",
    "df_object = df_data.drop( df_data[(df_data['Label'] == -1) & (df_data['CountNotNull'] < 78 ) ].index)\n",
    "\n",
    "columns = df_data.select_dtypes(['object']).columns\n",
    "df_object[columns] = df_object[columns].astype('category')\n",
    "df_object[columns] = df_object[columns].apply(lambda x: x.cat.codes)\n",
    "\n",
    "cv = StratifiedKFold(n_splits=10, shuffle=True)\n",
    "train_score3, test_score3 = [], []\n",
    "\n",
    "\n",
    "train_point3 = ['mean', 'median', 'most_frequent', 'constant']\n",
    "fill_values = [None, None, None, -10000000]\n",
    "\n",
    "# min(df_object.iloc[:,:-2].min())                         \n",
    "                         \n",
    "for (strategy, fill_value) in zip(train_point3, fill_values):\n",
    "#     print(strategy, fill_value)\n",
    "    si = SimpleImputer(strategy=strategy, fill_value=fill_value)\n",
    "    X = df_object.iloc[:,:-2]\n",
    "    y = df_object.iloc[:,-2]\n",
    "    est = LogisticRegression(solver='liblinear') \n",
    "    pipe = Pipeline([('inputer', si), ('est', est)])\n",
    "    \n",
    "    cv_rez = cross_validate(pipe, X, y, cv=cv, \n",
    "                          return_train_score=True, \n",
    "                          return_estimator=True,\n",
    "                          verbose=0, n_jobs=4,\n",
    "                          scoring=('roc_auc'))\n",
    "    train_score3.append(cv_rez['train_score'])\n",
    "    test_score3.append(cv_rez['test_score'])\n",
    "    print(cv_rez['test_score'].mean().round(4), cv_rez['train_score'].mean().round(4), strategy)\n"
   ]
  },
  {
   "cell_type": "code",
   "execution_count": 106,
   "metadata": {},
   "outputs": [
    {
     "data": {
      "image/png": "[encoded data removed]",
      "text/plain": [
       "<Figure size 864x360 with 1 Axes>"
      ]
     },
     "metadata": {
      "needs_background": "light"
     },
     "output_type": "display_data"
    }
   ],
   "source": [
    "fig, plt1 = plt.subplots(1, 1, figsize=(12, 5))\n",
    "# plot_curve(plt1, 'Зависимость качества модели от стратегии обработки пропущенных объектов', 'linear', \n",
    "#            (0.7, .95),   train_point3, \n",
    "#            train_score3, test_score3, 'Cтратегия обработки пропущенных объектов') \n",
    "plt1.title.set_text('Зависимость качества модели от стратегии обработки пропущенных объектов')\n",
    "plt1.set_ylim((0.7, 1.05))\n",
    "plt1.set_xlabel('Cтратегия обработки пропущенных объектов')\n",
    "# plt1.set_xscale(xscale)\n",
    "plt1.set_ylabel(\"Оценка ROC-AUC\")\n",
    "\n",
    "plt1.grid()\n",
    "\n",
    "plt1.plot(train_point3, np.mean(train_score3, axis=1) , 'o', color=\"r\", \n",
    "         label=\"Оценка обучения\")\n",
    "plt1.plot(train_point3, np.mean(test_score3, axis=1), 'o', color=\"g\",\n",
    "         label=\"Оценка теста\")\n",
    "\n",
    "plt1.legend(loc=\"best\")\n",
    "\n",
    "\n",
    "plt.show()"
   ]
  },
  {
   "cell_type": "code",
   "execution_count": 101,
   "metadata": {},
   "outputs": [
    {
     "data": {
      "text/html": [
       "<div>\n",
       "<style scoped>\n",
       "    .dataframe tbody tr th:only-of-type {\n",
       "        vertical-align: middle;\n",
       "    }\n",
       "\n",
       "    .dataframe tbody tr th {\n",
       "        vertical-align: top;\n",
       "    }\n",
       "\n",
       "    .dataframe thead th {\n",
       "        text-align: right;\n",
       "    }\n",
       "</style>\n",
       "<table border=\"1\" class=\"dataframe\">\n",
       "  <thead>\n",
       "    <tr style=\"text-align: right;\">\n",
       "      <th></th>\n",
       "      <th>Id</th>\n",
       "      <th>Var1</th>\n",
       "      <th>Var2</th>\n",
       "      <th>Var3</th>\n",
       "      <th>Var4</th>\n",
       "      <th>Var5</th>\n",
       "      <th>Var6</th>\n",
       "      <th>Var7</th>\n",
       "      <th>Var8</th>\n",
       "      <th>Var9</th>\n",
       "      <th>...</th>\n",
       "      <th>Var221</th>\n",
       "      <th>Var222</th>\n",
       "      <th>Var223</th>\n",
       "      <th>Var224</th>\n",
       "      <th>Var225</th>\n",
       "      <th>Var226</th>\n",
       "      <th>Var227</th>\n",
       "      <th>Var228</th>\n",
       "      <th>Var229</th>\n",
       "      <th>Var230</th>\n",
       "    </tr>\n",
       "  </thead>\n",
       "  <tbody>\n",
       "    <tr>\n",
       "      <td>0</td>\n",
       "      <td>0</td>\n",
       "      <td>NaN</td>\n",
       "      <td>NaN</td>\n",
       "      <td>NaN</td>\n",
       "      <td>NaN</td>\n",
       "      <td>NaN</td>\n",
       "      <td>1225.0</td>\n",
       "      <td>7.0</td>\n",
       "      <td>NaN</td>\n",
       "      <td>NaN</td>\n",
       "      <td>...</td>\n",
       "      <td>6</td>\n",
       "      <td>302</td>\n",
       "      <td>3</td>\n",
       "      <td>-1</td>\n",
       "      <td>0</td>\n",
       "      <td>22</td>\n",
       "      <td>1</td>\n",
       "      <td>18</td>\n",
       "      <td>-1</td>\n",
       "      <td>NaN</td>\n",
       "    </tr>\n",
       "    <tr>\n",
       "      <td>1</td>\n",
       "      <td>1</td>\n",
       "      <td>NaN</td>\n",
       "      <td>NaN</td>\n",
       "      <td>NaN</td>\n",
       "      <td>NaN</td>\n",
       "      <td>NaN</td>\n",
       "      <td>896.0</td>\n",
       "      <td>14.0</td>\n",
       "      <td>NaN</td>\n",
       "      <td>NaN</td>\n",
       "      <td>...</td>\n",
       "      <td>4</td>\n",
       "      <td>577</td>\n",
       "      <td>0</td>\n",
       "      <td>-1</td>\n",
       "      <td>-1</td>\n",
       "      <td>22</td>\n",
       "      <td>2</td>\n",
       "      <td>8</td>\n",
       "      <td>-1</td>\n",
       "      <td>NaN</td>\n",
       "    </tr>\n",
       "    <tr>\n",
       "      <td>2</td>\n",
       "      <td>2</td>\n",
       "      <td>NaN</td>\n",
       "      <td>NaN</td>\n",
       "      <td>NaN</td>\n",
       "      <td>NaN</td>\n",
       "      <td>NaN</td>\n",
       "      <td>791.0</td>\n",
       "      <td>7.0</td>\n",
       "      <td>NaN</td>\n",
       "      <td>NaN</td>\n",
       "      <td>...</td>\n",
       "      <td>4</td>\n",
       "      <td>173</td>\n",
       "      <td>0</td>\n",
       "      <td>-1</td>\n",
       "      <td>1</td>\n",
       "      <td>17</td>\n",
       "      <td>2</td>\n",
       "      <td>8</td>\n",
       "      <td>1</td>\n",
       "      <td>NaN</td>\n",
       "    </tr>\n",
       "    <tr>\n",
       "      <td>3</td>\n",
       "      <td>3</td>\n",
       "      <td>NaN</td>\n",
       "      <td>NaN</td>\n",
       "      <td>NaN</td>\n",
       "      <td>NaN</td>\n",
       "      <td>NaN</td>\n",
       "      <td>2296.0</td>\n",
       "      <td>7.0</td>\n",
       "      <td>NaN</td>\n",
       "      <td>NaN</td>\n",
       "      <td>...</td>\n",
       "      <td>4</td>\n",
       "      <td>149</td>\n",
       "      <td>3</td>\n",
       "      <td>-1</td>\n",
       "      <td>1</td>\n",
       "      <td>17</td>\n",
       "      <td>2</td>\n",
       "      <td>8</td>\n",
       "      <td>0</td>\n",
       "      <td>NaN</td>\n",
       "    </tr>\n",
       "    <tr>\n",
       "      <td>4</td>\n",
       "      <td>4</td>\n",
       "      <td>8.0</td>\n",
       "      <td>NaN</td>\n",
       "      <td>NaN</td>\n",
       "      <td>NaN</td>\n",
       "      <td>NaN</td>\n",
       "      <td>NaN</td>\n",
       "      <td>NaN</td>\n",
       "      <td>NaN</td>\n",
       "      <td>28.0</td>\n",
       "      <td>...</td>\n",
       "      <td>4</td>\n",
       "      <td>694</td>\n",
       "      <td>0</td>\n",
       "      <td>-1</td>\n",
       "      <td>-1</td>\n",
       "      <td>4</td>\n",
       "      <td>2</td>\n",
       "      <td>8</td>\n",
       "      <td>-1</td>\n",
       "      <td>NaN</td>\n",
       "    </tr>\n",
       "  </tbody>\n",
       "</table>\n",
       "<p>5 rows × 231 columns</p>\n",
       "</div>"
      ],
      "text/plain": [
       "   Id  Var1  Var2  Var3  Var4  Var5    Var6  Var7  Var8  Var9  ...  Var221  \\\n",
       "0   0   NaN   NaN   NaN   NaN   NaN  1225.0   7.0   NaN   NaN  ...       6   \n",
       "1   1   NaN   NaN   NaN   NaN   NaN   896.0  14.0   NaN   NaN  ...       4   \n",
       "2   2   NaN   NaN   NaN   NaN   NaN   791.0   7.0   NaN   NaN  ...       4   \n",
       "3   3   NaN   NaN   NaN   NaN   NaN  2296.0   7.0   NaN   NaN  ...       4   \n",
       "4   4   8.0   NaN   NaN   NaN   NaN     NaN   NaN   NaN  28.0  ...       4   \n",
       "\n",
       "   Var222  Var223  Var224  Var225  Var226  Var227  Var228  Var229  Var230  \n",
       "0     302       3      -1       0      22       1      18      -1     NaN  \n",
       "1     577       0      -1      -1      22       2       8      -1     NaN  \n",
       "2     173       0      -1       1      17       2       8       1     NaN  \n",
       "3     149       3      -1       1      17       2       8       0     NaN  \n",
       "4     694       0      -1      -1       4       2       8      -1     NaN  \n",
       "\n",
       "[5 rows x 231 columns]"
      ]
     },
     "execution_count": 101,
     "metadata": {},
     "output_type": "execute_result"
    }
   ],
   "source": [
    "df_test.head()"
   ]
  },
  {
   "cell_type": "code",
   "execution_count": 108,
   "metadata": {},
   "outputs": [
    {
     "data": {
      "text/html": [
       "<div>\n",
       "<style scoped>\n",
       "    .dataframe tbody tr th:only-of-type {\n",
       "        vertical-align: middle;\n",
       "    }\n",
       "\n",
       "    .dataframe tbody tr th {\n",
       "        vertical-align: top;\n",
       "    }\n",
       "\n",
       "    .dataframe thead th {\n",
       "        text-align: right;\n",
       "    }\n",
       "</style>\n",
       "<table border=\"1\" class=\"dataframe\">\n",
       "  <thead>\n",
       "    <tr style=\"text-align: right;\">\n",
       "      <th></th>\n",
       "      <th>Var1</th>\n",
       "      <th>Var2</th>\n",
       "      <th>Var3</th>\n",
       "      <th>Var4</th>\n",
       "      <th>Var5</th>\n",
       "      <th>Var6</th>\n",
       "      <th>Var7</th>\n",
       "      <th>Var8</th>\n",
       "      <th>Var9</th>\n",
       "      <th>Var10</th>\n",
       "      <th>...</th>\n",
       "      <th>Var221</th>\n",
       "      <th>Var222</th>\n",
       "      <th>Var223</th>\n",
       "      <th>Var224</th>\n",
       "      <th>Var225</th>\n",
       "      <th>Var226</th>\n",
       "      <th>Var227</th>\n",
       "      <th>Var228</th>\n",
       "      <th>Var229</th>\n",
       "      <th>Var230</th>\n",
       "    </tr>\n",
       "    <tr>\n",
       "      <th>ID</th>\n",
       "      <th></th>\n",
       "      <th></th>\n",
       "      <th></th>\n",
       "      <th></th>\n",
       "      <th></th>\n",
       "      <th></th>\n",
       "      <th></th>\n",
       "      <th></th>\n",
       "      <th></th>\n",
       "      <th></th>\n",
       "      <th></th>\n",
       "      <th></th>\n",
       "      <th></th>\n",
       "      <th></th>\n",
       "      <th></th>\n",
       "      <th></th>\n",
       "      <th></th>\n",
       "      <th></th>\n",
       "      <th></th>\n",
       "      <th></th>\n",
       "      <th></th>\n",
       "    </tr>\n",
       "  </thead>\n",
       "  <tbody>\n",
       "    <tr>\n",
       "      <td>0</td>\n",
       "      <td>NaN</td>\n",
       "      <td>NaN</td>\n",
       "      <td>NaN</td>\n",
       "      <td>NaN</td>\n",
       "      <td>NaN</td>\n",
       "      <td>1225.0</td>\n",
       "      <td>7.0</td>\n",
       "      <td>NaN</td>\n",
       "      <td>NaN</td>\n",
       "      <td>NaN</td>\n",
       "      <td>...</td>\n",
       "      <td>zCkv</td>\n",
       "      <td>APgdzOv</td>\n",
       "      <td>jySVZNlOJy</td>\n",
       "      <td>NaN</td>\n",
       "      <td>ELof</td>\n",
       "      <td>xb3V</td>\n",
       "      <td>6fzt</td>\n",
       "      <td>Zy3gnGM</td>\n",
       "      <td>NaN</td>\n",
       "      <td>NaN</td>\n",
       "    </tr>\n",
       "    <tr>\n",
       "      <td>1</td>\n",
       "      <td>NaN</td>\n",
       "      <td>NaN</td>\n",
       "      <td>NaN</td>\n",
       "      <td>NaN</td>\n",
       "      <td>NaN</td>\n",
       "      <td>896.0</td>\n",
       "      <td>14.0</td>\n",
       "      <td>NaN</td>\n",
       "      <td>NaN</td>\n",
       "      <td>NaN</td>\n",
       "      <td>...</td>\n",
       "      <td>oslk</td>\n",
       "      <td>IIvC99a</td>\n",
       "      <td>LM8l689qOp</td>\n",
       "      <td>NaN</td>\n",
       "      <td>NaN</td>\n",
       "      <td>xb3V</td>\n",
       "      <td>RAYp</td>\n",
       "      <td>F2FyR07IdsN7I</td>\n",
       "      <td>NaN</td>\n",
       "      <td>NaN</td>\n",
       "    </tr>\n",
       "    <tr>\n",
       "      <td>2</td>\n",
       "      <td>NaN</td>\n",
       "      <td>NaN</td>\n",
       "      <td>NaN</td>\n",
       "      <td>NaN</td>\n",
       "      <td>NaN</td>\n",
       "      <td>791.0</td>\n",
       "      <td>7.0</td>\n",
       "      <td>NaN</td>\n",
       "      <td>NaN</td>\n",
       "      <td>NaN</td>\n",
       "      <td>...</td>\n",
       "      <td>oslk</td>\n",
       "      <td>6YSocsg</td>\n",
       "      <td>LM8l689qOp</td>\n",
       "      <td>NaN</td>\n",
       "      <td>kG3k</td>\n",
       "      <td>rgKb</td>\n",
       "      <td>RAYp</td>\n",
       "      <td>F2FyR07IdsN7I</td>\n",
       "      <td>mj86</td>\n",
       "      <td>NaN</td>\n",
       "    </tr>\n",
       "    <tr>\n",
       "      <td>3</td>\n",
       "      <td>NaN</td>\n",
       "      <td>NaN</td>\n",
       "      <td>NaN</td>\n",
       "      <td>NaN</td>\n",
       "      <td>NaN</td>\n",
       "      <td>2296.0</td>\n",
       "      <td>7.0</td>\n",
       "      <td>NaN</td>\n",
       "      <td>NaN</td>\n",
       "      <td>NaN</td>\n",
       "      <td>...</td>\n",
       "      <td>oslk</td>\n",
       "      <td>5nQ7A2G</td>\n",
       "      <td>jySVZNlOJy</td>\n",
       "      <td>NaN</td>\n",
       "      <td>kG3k</td>\n",
       "      <td>rgKb</td>\n",
       "      <td>RAYp</td>\n",
       "      <td>F2FyR07IdsN7I</td>\n",
       "      <td>am7c</td>\n",
       "      <td>NaN</td>\n",
       "    </tr>\n",
       "    <tr>\n",
       "      <td>4</td>\n",
       "      <td>8.0</td>\n",
       "      <td>NaN</td>\n",
       "      <td>NaN</td>\n",
       "      <td>NaN</td>\n",
       "      <td>NaN</td>\n",
       "      <td>NaN</td>\n",
       "      <td>NaN</td>\n",
       "      <td>NaN</td>\n",
       "      <td>28.0</td>\n",
       "      <td>NaN</td>\n",
       "      <td>...</td>\n",
       "      <td>oslk</td>\n",
       "      <td>MI8s5nE</td>\n",
       "      <td>LM8l689qOp</td>\n",
       "      <td>NaN</td>\n",
       "      <td>NaN</td>\n",
       "      <td>7P5s</td>\n",
       "      <td>RAYp</td>\n",
       "      <td>F2FyR07IdsN7I</td>\n",
       "      <td>NaN</td>\n",
       "      <td>NaN</td>\n",
       "    </tr>\n",
       "  </tbody>\n",
       "</table>\n",
       "<p>5 rows × 230 columns</p>\n",
       "</div>"
      ],
      "text/plain": [
       "    Var1  Var2  Var3  Var4  Var5    Var6  Var7  Var8  Var9  Var10  ...  \\\n",
       "ID                                                                 ...   \n",
       "0    NaN   NaN   NaN   NaN   NaN  1225.0   7.0   NaN   NaN    NaN  ...   \n",
       "1    NaN   NaN   NaN   NaN   NaN   896.0  14.0   NaN   NaN    NaN  ...   \n",
       "2    NaN   NaN   NaN   NaN   NaN   791.0   7.0   NaN   NaN    NaN  ...   \n",
       "3    NaN   NaN   NaN   NaN   NaN  2296.0   7.0   NaN   NaN    NaN  ...   \n",
       "4    8.0   NaN   NaN   NaN   NaN     NaN   NaN   NaN  28.0    NaN  ...   \n",
       "\n",
       "    Var221   Var222      Var223  Var224  Var225  Var226  Var227  \\\n",
       "ID                                                                \n",
       "0     zCkv  APgdzOv  jySVZNlOJy     NaN    ELof    xb3V    6fzt   \n",
       "1     oslk  IIvC99a  LM8l689qOp     NaN     NaN    xb3V    RAYp   \n",
       "2     oslk  6YSocsg  LM8l689qOp     NaN    kG3k    rgKb    RAYp   \n",
       "3     oslk  5nQ7A2G  jySVZNlOJy     NaN    kG3k    rgKb    RAYp   \n",
       "4     oslk  MI8s5nE  LM8l689qOp     NaN     NaN    7P5s    RAYp   \n",
       "\n",
       "           Var228  Var229  Var230  \n",
       "ID                                 \n",
       "0         Zy3gnGM     NaN     NaN  \n",
       "1   F2FyR07IdsN7I     NaN     NaN  \n",
       "2   F2FyR07IdsN7I    mj86     NaN  \n",
       "3   F2FyR07IdsN7I    am7c     NaN  \n",
       "4   F2FyR07IdsN7I     NaN     NaN  \n",
       "\n",
       "[5 rows x 230 columns]"
      ]
     },
     "execution_count": 108,
     "metadata": {},
     "output_type": "execute_result"
    }
   ],
   "source": [
    "df_test = pd.read_csv('orange_small_churn_test_data.csv', index_col=0)\n",
    "df_test.head()"
   ]
  },
  {
   "cell_type": "code",
   "execution_count": 110,
   "metadata": {},
   "outputs": [
    {
     "name": "stderr",
     "output_type": "stream",
     "text": [
      "C:\\ProgramData\\Anaconda2\\envs\\newpy\\lib\\site-packages\\sklearn\\svm\\base.py:929: ConvergenceWarning: Liblinear failed to converge, increase the number of iterations.\n",
      "  \"the number of iterations.\", ConvergenceWarning)\n"
     ]
    }
   ],
   "source": [
    "df_test = pd.read_csv('orange_small_churn_test_data.csv', index_col=0)\n",
    "\n",
    "columns = df_test.select_dtypes(['object']).columns\n",
    "df_test[columns] = df_test[columns].astype('category')\n",
    "df_test[columns] = df_test[columns].apply(lambda x: x.cat.codes)\n",
    "\n",
    "est = LogisticRegression(solver='liblinear') \n",
    "si = SimpleImputer(strategy='median', fill_value =-10000000 )\n",
    "X = df_object.iloc[:,:-2]\n",
    "y = df_object.iloc[:,-2]\n",
    "\n",
    "pipe = Pipeline([('inputer', si), ('est', est)])\n",
    "pipe.fit(X, y)\n",
    "y_test = pipe.predict_proba(df_test)\n",
    "df_test['result'] = y_test[:,1]\n",
    "df_test[[ 'result']].round(2).to_csv('dminik6_part2_w3_04.csv', index=True)"
   ]
  },
  {
   "cell_type": "code",
   "execution_count": null,
   "metadata": {},
   "outputs": [],
   "source": []
  },
  {
   "cell_type": "code",
   "execution_count": null,
   "metadata": {},
   "outputs": [],
   "source": []
  },
  {
   "cell_type": "code",
   "execution_count": null,
   "metadata": {},
   "outputs": [],
   "source": []
  },
  {
   "cell_type": "code",
   "execution_count": null,
   "metadata": {},
   "outputs": [],
   "source": []
  },
  {
   "cell_type": "code",
   "execution_count": null,
   "metadata": {},
   "outputs": [],
   "source": []
  },
  {
   "cell_type": "markdown",
   "metadata": {},
   "source": [
    "4\\. Также вы уже реализовали несколько стратегий для обработки категориальных признаков. Сравните эти стратегии между собой с помощью оценки качества моделей по кросс-валидации, построенных на датасетах с использованием различных стратегий. Как обработка категориальных признаков сказывается на качестве модели? Какой вариант выглядит наиболее оптимальным с точки зрения качества?"
   ]
  },
  {
   "cell_type": "code",
   "execution_count": 2,
   "metadata": {},
   "outputs": [],
   "source": [
    "def cross_validate_rezult(cv_rez):\n",
    "    return [\n",
    "#         type(cv_rez['estimator'][0]).__name__, \n",
    "        type(cv_rez['estimator'][0][2]).__name__,\n",
    "        cv_rez['train_score'].mean(),\n",
    "        cv_rez['test_score'].mean(),\n",
    "        len(cv_rez['estimator']),\n",
    "        cv_rez['fit_time'].mean()            \n",
    "    ]"
   ]
  },
  {
   "cell_type": "code",
   "execution_count": 3,
   "metadata": {},
   "outputs": [],
   "source": [
    "df_data = pd.read_csv('not_hold_out_dataset.csv', index_col=0)\n",
    "cat_var = df_data.select_dtypes(['object']).columns\n",
    "cat_num = df_data.select_dtypes(exclude=['object']).columns[:-1]"
   ]
  },
  {
   "cell_type": "code",
   "execution_count": 4,
   "metadata": {
    "scrolled": true
   },
   "outputs": [
    {
     "data": {
      "text/html": [
       "<div>\n",
       "<style scoped>\n",
       "    .dataframe tbody tr th:only-of-type {\n",
       "        vertical-align: middle;\n",
       "    }\n",
       "\n",
       "    .dataframe tbody tr th {\n",
       "        vertical-align: top;\n",
       "    }\n",
       "\n",
       "    .dataframe thead th {\n",
       "        text-align: right;\n",
       "    }\n",
       "</style>\n",
       "<table border=\"1\" class=\"dataframe\">\n",
       "  <thead>\n",
       "    <tr style=\"text-align: right;\">\n",
       "      <th></th>\n",
       "      <th>Var1</th>\n",
       "      <th>Var2</th>\n",
       "      <th>Var3</th>\n",
       "      <th>Var4</th>\n",
       "      <th>Var5</th>\n",
       "      <th>Var6</th>\n",
       "      <th>Var7</th>\n",
       "      <th>Var8</th>\n",
       "      <th>Var9</th>\n",
       "      <th>Var10</th>\n",
       "      <th>...</th>\n",
       "      <th>Var183</th>\n",
       "      <th>Var184</th>\n",
       "      <th>Var185</th>\n",
       "      <th>Var186</th>\n",
       "      <th>Var187</th>\n",
       "      <th>Var188</th>\n",
       "      <th>Var189</th>\n",
       "      <th>Var190</th>\n",
       "      <th>Var209</th>\n",
       "      <th>Var230</th>\n",
       "    </tr>\n",
       "  </thead>\n",
       "  <tbody>\n",
       "    <tr>\n",
       "      <th>0</th>\n",
       "      <td>NaN</td>\n",
       "      <td>NaN</td>\n",
       "      <td>NaN</td>\n",
       "      <td>NaN</td>\n",
       "      <td>NaN</td>\n",
       "      <td>3052.0</td>\n",
       "      <td>NaN</td>\n",
       "      <td>NaN</td>\n",
       "      <td>NaN</td>\n",
       "      <td>NaN</td>\n",
       "      <td>...</td>\n",
       "      <td>NaN</td>\n",
       "      <td>NaN</td>\n",
       "      <td>NaN</td>\n",
       "      <td>NaN</td>\n",
       "      <td>NaN</td>\n",
       "      <td>NaN</td>\n",
       "      <td>NaN</td>\n",
       "      <td>NaN</td>\n",
       "      <td>NaN</td>\n",
       "      <td>NaN</td>\n",
       "    </tr>\n",
       "    <tr>\n",
       "      <th>1</th>\n",
       "      <td>NaN</td>\n",
       "      <td>NaN</td>\n",
       "      <td>NaN</td>\n",
       "      <td>NaN</td>\n",
       "      <td>NaN</td>\n",
       "      <td>1813.0</td>\n",
       "      <td>7.0</td>\n",
       "      <td>NaN</td>\n",
       "      <td>NaN</td>\n",
       "      <td>NaN</td>\n",
       "      <td>...</td>\n",
       "      <td>NaN</td>\n",
       "      <td>NaN</td>\n",
       "      <td>NaN</td>\n",
       "      <td>NaN</td>\n",
       "      <td>NaN</td>\n",
       "      <td>NaN</td>\n",
       "      <td>276.0</td>\n",
       "      <td>NaN</td>\n",
       "      <td>NaN</td>\n",
       "      <td>NaN</td>\n",
       "    </tr>\n",
       "    <tr>\n",
       "      <th>2</th>\n",
       "      <td>NaN</td>\n",
       "      <td>NaN</td>\n",
       "      <td>NaN</td>\n",
       "      <td>NaN</td>\n",
       "      <td>NaN</td>\n",
       "      <td>1953.0</td>\n",
       "      <td>7.0</td>\n",
       "      <td>NaN</td>\n",
       "      <td>NaN</td>\n",
       "      <td>NaN</td>\n",
       "      <td>...</td>\n",
       "      <td>NaN</td>\n",
       "      <td>NaN</td>\n",
       "      <td>NaN</td>\n",
       "      <td>NaN</td>\n",
       "      <td>NaN</td>\n",
       "      <td>NaN</td>\n",
       "      <td>NaN</td>\n",
       "      <td>NaN</td>\n",
       "      <td>NaN</td>\n",
       "      <td>NaN</td>\n",
       "    </tr>\n",
       "    <tr>\n",
       "      <th>3</th>\n",
       "      <td>NaN</td>\n",
       "      <td>NaN</td>\n",
       "      <td>NaN</td>\n",
       "      <td>NaN</td>\n",
       "      <td>NaN</td>\n",
       "      <td>1533.0</td>\n",
       "      <td>7.0</td>\n",
       "      <td>NaN</td>\n",
       "      <td>NaN</td>\n",
       "      <td>NaN</td>\n",
       "      <td>...</td>\n",
       "      <td>NaN</td>\n",
       "      <td>NaN</td>\n",
       "      <td>NaN</td>\n",
       "      <td>NaN</td>\n",
       "      <td>NaN</td>\n",
       "      <td>NaN</td>\n",
       "      <td>NaN</td>\n",
       "      <td>NaN</td>\n",
       "      <td>NaN</td>\n",
       "      <td>NaN</td>\n",
       "    </tr>\n",
       "    <tr>\n",
       "      <th>4</th>\n",
       "      <td>NaN</td>\n",
       "      <td>NaN</td>\n",
       "      <td>NaN</td>\n",
       "      <td>NaN</td>\n",
       "      <td>NaN</td>\n",
       "      <td>686.0</td>\n",
       "      <td>7.0</td>\n",
       "      <td>NaN</td>\n",
       "      <td>NaN</td>\n",
       "      <td>NaN</td>\n",
       "      <td>...</td>\n",
       "      <td>NaN</td>\n",
       "      <td>NaN</td>\n",
       "      <td>NaN</td>\n",
       "      <td>NaN</td>\n",
       "      <td>NaN</td>\n",
       "      <td>NaN</td>\n",
       "      <td>NaN</td>\n",
       "      <td>NaN</td>\n",
       "      <td>NaN</td>\n",
       "      <td>NaN</td>\n",
       "    </tr>\n",
       "  </tbody>\n",
       "</table>\n",
       "<p>5 rows × 192 columns</p>\n",
       "</div>"
      ],
      "text/plain": [
       "   Var1  Var2  Var3  Var4  Var5    Var6  Var7  Var8  Var9  Var10  ...  Var183  \\\n",
       "0   NaN   NaN   NaN   NaN   NaN  3052.0   NaN   NaN   NaN    NaN  ...     NaN   \n",
       "1   NaN   NaN   NaN   NaN   NaN  1813.0   7.0   NaN   NaN    NaN  ...     NaN   \n",
       "2   NaN   NaN   NaN   NaN   NaN  1953.0   7.0   NaN   NaN    NaN  ...     NaN   \n",
       "3   NaN   NaN   NaN   NaN   NaN  1533.0   7.0   NaN   NaN    NaN  ...     NaN   \n",
       "4   NaN   NaN   NaN   NaN   NaN   686.0   7.0   NaN   NaN    NaN  ...     NaN   \n",
       "\n",
       "   Var184  Var185  Var186  Var187  Var188  Var189  Var190  Var209  Var230  \n",
       "0     NaN     NaN     NaN     NaN     NaN     NaN     NaN     NaN     NaN  \n",
       "1     NaN     NaN     NaN     NaN     NaN   276.0     NaN     NaN     NaN  \n",
       "2     NaN     NaN     NaN     NaN     NaN     NaN     NaN     NaN     NaN  \n",
       "3     NaN     NaN     NaN     NaN     NaN     NaN     NaN     NaN     NaN  \n",
       "4     NaN     NaN     NaN     NaN     NaN     NaN     NaN     NaN     NaN  \n",
       "\n",
       "[5 rows x 192 columns]"
      ]
     },
     "execution_count": 4,
     "metadata": {},
     "output_type": "execute_result"
    }
   ],
   "source": [
    "df_data[cat_num].head()"
   ]
  },
  {
   "cell_type": "code",
   "execution_count": 5,
   "metadata": {},
   "outputs": [],
   "source": [
    "# %%time\n",
    "# df_cat_var = df_data[cat_var].copy()\n",
    "# # Блок позволяет подобрать порог отсечения мелких категорий (проценты от max к)\n",
    "# # исходя из желаемого количества столбцов\n",
    "# n_columns = 0.\n",
    "# threshold = 150\n",
    "# for col in cat_var:\n",
    "#     val_count = df_cat_var[col].value_counts()\n",
    "#     new_cols = val_count.shape[0]\n",
    "#     if new_cols > threshold:\n",
    "#          #val_count.max() * 0.01\n",
    "#         to_remove = val_count.drop(val_count.head(threshold).index).index\n",
    "#         new_cols = new_cols - len(to_remove) + 1\n",
    "#         print('{} {:>6.0f} {:>6.0f}'.format(col, val_count.shape[0], new_cols ))\n",
    "        \n",
    "#         df_cat_var[col].replace(to_remove, 'other', inplace=True)\n",
    "    \n",
    "#     n_columns += new_cols \n",
    "# # val_count.shape[0]\n",
    "# print('Columns:', n_columns)"
   ]
  },
  {
   "cell_type": "code",
   "execution_count": 6,
   "metadata": {},
   "outputs": [],
   "source": [
    "# df_cat_var_dummies = pd.get_dummies(df_cat_var)\n",
    "# df_cat_var_dummies.info()"
   ]
  },
  {
   "cell_type": "code",
   "execution_count": 7,
   "metadata": {},
   "outputs": [],
   "source": [
    "def CalcCorr(Y, X):\n",
    "    iY0 = np.nonzero(Y==-1)\n",
    "    iY1 = np.nonzero(Y==1)\n",
    "    iX0 = np.nonzero(X==0)\n",
    "    iX1 = np.nonzero(X==1)\n",
    "#     print(iY0, iY1, iX0, iX1)\n",
    "    a = 1.*len(np.intersect1d(iY0, iX0))\n",
    "    b = 1.*len(np.intersect1d(iY0, iX1))\n",
    "    c = 1.*len(np.intersect1d(iY1, iX0))\n",
    "    d = 1.*len(np.intersect1d(iY1, iX1))\n",
    "#     print(a, b, c, d)\n",
    "    return (a*d-b*c)/(math.sqrt((a+b)*(c+d)*(a+c)*(b+d) ))\n",
    "\n",
    "# Y = np.array([-1, -1, -1, 1, 1, 1, 1], dtype='int8')\n",
    "# X = np.array([ 0,  0,  0, 0, 1, 0, 0], dtype='int8')\n",
    "# CalcCorr(Y, X)   \n",
    "# np.nonzero(Y==-1)"
   ]
  },
  {
   "cell_type": "code",
   "execution_count": 8,
   "metadata": {},
   "outputs": [],
   "source": [
    "# df_data[cat_var[1]].value_counts().to_dict()\n",
    "# ser.to_dict()\n",
    "# where(ser > 10)\n",
    "# d = np.array(pd.get_dummies(df_data['Var210']).values)\n",
    "# d[:,1].shape"
   ]
  },
  {
   "cell_type": "code",
   "execution_count": 6,
   "metadata": {},
   "outputs": [
    {
     "name": "stdout",
     "output_type": "stream",
     "text": [
      "Var191 1 Var192 352 Var193 49 Var194 3 Var195 23 Var196 4 Var197 216 Var198 3730 Var199 4115 Var200 12334 Var201 2 Var202 5451 Var203 5 Var204 100 Var205 3 Var206 21 Var207 14 Var208 2 Var210 6 Var211 2 Var212 78 Var213 1 Var214 12334 Var215 1 Var216 1739 Var217 11784 Var218 2 Var219 22 Var220 3730 Var221 7 Var222 3730 Var223 4 Var224 1 Var225 3 Var226 23 Var227 7 Var228 29 Var229 4 CPU times: user 9min 35s, sys: 12.7 s, total: 9min 48s\n",
      "Wall time: 9min 28s\n"
     ]
    }
   ],
   "source": [
    "%%time\n",
    "# Методика отбора признаков - по наибольшей корреляции\n",
    "\n",
    "# Вычисление корреляции каждой переменной в каждом категориальном параметре\n",
    "# Цель - в дальнейшем оставить переменные и значения с наибольшей корреляцией\n",
    "# или коррелирующиеся.\n",
    "# Так как расчет выполняется несколько минут (только что - 7 минут, с введением фильтра \n",
    "# по количеству переменных равных 50 - 12 сек.),\n",
    "# то данные сохранены в файл\n",
    "acorr = []\n",
    "aLabels = np.array(df_data['Label'].values)\n",
    "for c in cat_var:\n",
    "    \n",
    "    dVals = df_data[c].value_counts().to_dict()\n",
    "    df_dummies=pd.get_dummies(df_data[c])\n",
    "    print(c, len(dVals), end=' ')\n",
    "    d = np.array(df_dummies.values)\n",
    "    for i, c_val in enumerate(df_dummies.columns):\n",
    "#         if dVals[c_val] > 50:\n",
    "        rez = CalcCorr(aLabels, d[:,i])\n",
    "#             rez = CalcCorr(aLabels, np.array(df_dummies[c_val].values))\n",
    "        acorr.append([c, c_val, dVals[c_val], rez])\n",
    "\n",
    "            # df_data['Var193']\n",
    "df_corr_categ = pd.DataFrame(acorr, columns=['Var', 'Val', 'Count', 'correlation'], index=None)\n",
    "df_corr_categ.to_pickle('df_corr_categ.bin')"
   ]
  },
  {
   "cell_type": "code",
   "execution_count": 9,
   "metadata": {},
   "outputs": [],
   "source": [
    "df_corr_categ = pd.read_pickle('df_corr_categ.bin')\n",
    "df_corr_categ['correlation_abs'] = df_corr_categ['correlation'].abs()"
   ]
  },
  {
   "cell_type": "code",
   "execution_count": 10,
   "metadata": {},
   "outputs": [
    {
     "data": {
      "text/plain": [
       "(228, 5)"
      ]
     },
     "execution_count": 10,
     "metadata": {},
     "output_type": "execute_result"
    }
   ],
   "source": [
    "df = df_corr_categ.sort_values(by=['correlation_abs'], ascending =False)\n",
    "df = df[(df['Count'] > 0) & (df['correlation_abs'] > 0.0187)]\n",
    "# При df[df['correlation_abs'] > 0.0188] плучено значение  roc-auc = 0.7491\n",
    "# с классификатором GradientBoostingClassifier\n",
    "# df = df[df['correlation_abs'] > 0.018]\n",
    "df.shape"
   ]
  },
  {
   "cell_type": "code",
   "execution_count": 11,
   "metadata": {},
   "outputs": [
    {
     "name": "stdout",
     "output_type": "stream",
     "text": [
      "CPU times: user 413 ms, sys: 479 µs, total: 413 ms\n",
      "Wall time: 410 ms\n"
     ]
    }
   ],
   "source": [
    "%%time\n",
    "df_cat_var = df_data[df['Var'].unique()].copy()\n",
    "for col in df_cat_var.columns:\n",
    "    val_set = set(df[ df['Var'] == col]['Val'].values)\n",
    "    df_cat_var[col] = df_cat_var[col].apply(lambda x: x if x in val_set else 'other')"
   ]
  },
  {
   "cell_type": "code",
   "execution_count": 12,
   "metadata": {},
   "outputs": [
    {
     "data": {
      "text/plain": [
       "NhsEn4L          21025\n",
       "other             6940\n",
       "XfqtO3UdzaXh_     4631\n",
       "CrNX              2180\n",
       "4kVnq_T26xq1p      712\n",
       "_5OXC8MSLt         512\n",
       "Name: Var212, dtype: int64"
      ]
     },
     "execution_count": 12,
     "metadata": {},
     "output_type": "execute_result"
    }
   ],
   "source": [
    "df_cat_var['Var212'].value_counts()\n",
    "# df_data['Var202'].value_counts()"
   ]
  },
  {
   "cell_type": "code",
   "execution_count": 13,
   "metadata": {
    "scrolled": true
   },
   "outputs": [],
   "source": [
    "df_cat_var_dummies = pd.get_dummies(df_cat_var)\n",
    "# df_cat_var_dummies.info()"
   ]
  },
  {
   "cell_type": "code",
   "execution_count": 14,
   "metadata": {},
   "outputs": [],
   "source": [
    "df_test = pd.concat([df_data[cat_num], df_cat_var_dummies ], axis=1)\n",
    "X = df_test.values\n",
    "# Массив с метками.\n",
    "y = df_data['Label'].values\n",
    "df_test = None"
   ]
  },
  {
   "cell_type": "code",
   "execution_count": 15,
   "metadata": {},
   "outputs": [],
   "source": [
    "# X, y = None, None"
   ]
  },
  {
   "cell_type": "code",
   "execution_count": 16,
   "metadata": {},
   "outputs": [
    {
     "data": {
      "text/plain": [
       "(36000, 444)"
      ]
     },
     "execution_count": 16,
     "metadata": {},
     "output_type": "execute_result"
    }
   ],
   "source": [
    "X.shape"
   ]
  },
  {
   "cell_type": "code",
   "execution_count": 17,
   "metadata": {},
   "outputs": [],
   "source": [
    "# df_cat_var_dummies = None\n",
    "# df_cat_var = None\n",
    "# df_data = None"
   ]
  },
  {
   "cell_type": "code",
   "execution_count": 19,
   "metadata": {},
   "outputs": [
    {
     "name": "stdout",
     "output_type": "stream",
     "text": [
      "SGDClassifier 0.6709\n",
      "LinearSVC 0.7148\n",
      "LogisticRegression 0.7178\n",
      "RidgeClassifier 0.7148\n",
      "RandomForestClassifier 0.6313\n",
      "GradientBoostingClassifier 0.75\n",
      "CPU times: user 1.08 s, sys: 1.19 s, total: 2.27 s\n",
      "Wall time: 6min 19s\n"
     ]
    }
   ],
   "source": [
    "%%time\n",
    "train_score, test_score = [], []\n",
    "\n",
    "cv = StratifiedKFold(n_splits=10, shuffle=True)   \n",
    "si = SimpleImputer(strategy='median')\n",
    "# 'median', 'most_frequent' mean\n",
    "scaler = preprocessing.MinMaxScaler()\n",
    "# scaler = preprocessing.StandardScaler()\n",
    "rez = []\n",
    "for est in [\n",
    "    SGDClassifier(), \n",
    "    LinearSVC(),\n",
    "    LogisticRegression( solver='lbfgs' ),\n",
    "    RidgeClassifier(),\n",
    "    RandomForestClassifier(), \n",
    "#     SVC(kernel='linear'),\n",
    "    GradientBoostingClassifier()\n",
    "]:\n",
    "    pipe = Pipeline([\n",
    "        ('inputer', si), \n",
    "        ('scaler', scaler), \n",
    "        ('est', est)\n",
    "    ])\n",
    "    print(type(est).__name__, end=' ')\n",
    "    cv_rez = cross_validate(pipe, X, y, cv=cv, \n",
    "                          return_train_score=True, \n",
    "                          return_estimator=True,\n",
    "    \n",
    "                            verbose=0, n_jobs=4,\n",
    "                          scoring=('roc_auc'))\n",
    "    print(cv_rez['test_score'].mean().round(4))\n",
    "    rez.append(cross_validate_rezult(cv_rez))\n",
    "#     train_score.append(cv_rez['train_score'])\n",
    "#     test_score.append(cv_rez['test_score'])\n",
    "#     print(cv_rez['test_score'].mean().round(4), cv_rez['train_score'].mean().round(4), type(est).__name__)"
   ]
  },
  {
   "cell_type": "code",
   "execution_count": 20,
   "metadata": {},
   "outputs": [
    {
     "data": {
      "text/html": [
       "<div>\n",
       "<style scoped>\n",
       "    .dataframe tbody tr th:only-of-type {\n",
       "        vertical-align: middle;\n",
       "    }\n",
       "\n",
       "    .dataframe tbody tr th {\n",
       "        vertical-align: top;\n",
       "    }\n",
       "\n",
       "    .dataframe thead th {\n",
       "        text-align: right;\n",
       "    }\n",
       "</style>\n",
       "<table border=\"1\" class=\"dataframe\">\n",
       "  <thead>\n",
       "    <tr style=\"text-align: right;\">\n",
       "      <th></th>\n",
       "      <th>Алгоритм классификации</th>\n",
       "      <th>ROC-AUC train</th>\n",
       "      <th>ROC-AUC test</th>\n",
       "      <th>Количество фолдов</th>\n",
       "      <th>Время обучения фолда</th>\n",
       "    </tr>\n",
       "  </thead>\n",
       "  <tbody>\n",
       "    <tr>\n",
       "      <th>4</th>\n",
       "      <td>RandomForestClassifier</td>\n",
       "      <td>0.9998</td>\n",
       "      <td>0.6313</td>\n",
       "      <td>10</td>\n",
       "      <td>8.5234</td>\n",
       "    </tr>\n",
       "    <tr>\n",
       "      <th>0</th>\n",
       "      <td>SGDClassifier</td>\n",
       "      <td>0.6760</td>\n",
       "      <td>0.6709</td>\n",
       "      <td>10</td>\n",
       "      <td>8.7688</td>\n",
       "    </tr>\n",
       "    <tr>\n",
       "      <th>1</th>\n",
       "      <td>LinearSVC</td>\n",
       "      <td>0.7337</td>\n",
       "      <td>0.7148</td>\n",
       "      <td>10</td>\n",
       "      <td>38.2171</td>\n",
       "    </tr>\n",
       "    <tr>\n",
       "      <th>3</th>\n",
       "      <td>RidgeClassifier</td>\n",
       "      <td>0.7312</td>\n",
       "      <td>0.7148</td>\n",
       "      <td>10</td>\n",
       "      <td>6.7250</td>\n",
       "    </tr>\n",
       "    <tr>\n",
       "      <th>2</th>\n",
       "      <td>LogisticRegression</td>\n",
       "      <td>0.7304</td>\n",
       "      <td>0.7178</td>\n",
       "      <td>10</td>\n",
       "      <td>10.2986</td>\n",
       "    </tr>\n",
       "    <tr>\n",
       "      <th>5</th>\n",
       "      <td>GradientBoostingClassifier</td>\n",
       "      <td>0.7804</td>\n",
       "      <td>0.7500</td>\n",
       "      <td>10</td>\n",
       "      <td>46.9599</td>\n",
       "    </tr>\n",
       "  </tbody>\n",
       "</table>\n",
       "</div>"
      ],
      "text/plain": [
       "       Алгоритм классификации  ROC-AUC train  ROC-AUC test  Количество фолдов  \\\n",
       "4      RandomForestClassifier         0.9998        0.6313                 10   \n",
       "0               SGDClassifier         0.6760        0.6709                 10   \n",
       "1                   LinearSVC         0.7337        0.7148                 10   \n",
       "3             RidgeClassifier         0.7312        0.7148                 10   \n",
       "2          LogisticRegression         0.7304        0.7178                 10   \n",
       "5  GradientBoostingClassifier         0.7804        0.7500                 10   \n",
       "\n",
       "   Время обучения фолда  \n",
       "4                8.5234  \n",
       "0                8.7688  \n",
       "1               38.2171  \n",
       "3                6.7250  \n",
       "2               10.2986  \n",
       "5               46.9599  "
      ]
     },
     "execution_count": 20,
     "metadata": {},
     "output_type": "execute_result"
    }
   ],
   "source": [
    "rez_df = pd.DataFrame(rez, columns=['Алгоритм классификации', \n",
    "                                   'ROC-AUC train', 'ROC-AUC test', \n",
    "                                   'Количество фолдов', 'Время обучения фолда'])\n",
    "rez_df = rez_df.round(decimals=4).sort_values(by=['ROC-AUC test'])\n",
    "rez_df"
   ]
  },
  {
   "cell_type": "markdown",
   "metadata": {},
   "source": [
    "## threshold = 30\n",
    "\n",
    "0.6801 0.738 LogisticRegression  \n",
    "0.6736 0.7365 RidgeClassifier\n",
    "\n",
    "Без preprocessing.MinMaxScaler()  \n",
    "0.5962 0.6077 LogisticRegression  \n",
    "0.6726 0.7372 RidgeClassifier  \n",
    "Wall time: 7min 22s\n",
    "\n",
    "\n",
    "scaler = preprocessing.StandardScaler()  \n",
    "0.6685 0.7465 LogisticRegression  \n",
    "0.6697 0.7376 RidgeClassifier  \n",
    "Wall time: 10min 41s\n",
    "\n",
    "\n",
    "si = SimpleImputer(strategy='median')  \n",
    "0.6791 0.7391 RidgeClassifier  \n",
    "Wall time: 5min 18s\n",
    "\n",
    "\n",
    "si = SimpleImputer(strategy='median')  \n",
    "0.6833 0.7411 LogisticRegression  \n",
    "Wall time: 5min\n",
    "\n",
    "\n",
    "## threshold = 50\n",
    "si = SimpleImputer(strategy='median')  \n",
    "0.684 0.7549 LogisticRegression  \n",
    "0.6798 0.7537 RidgeClassifier  \n",
    "Wall time: 17min 5s  \n",
    "\n"
   ]
  },
  {
   "cell_type": "code",
   "execution_count": null,
   "metadata": {},
   "outputs": [],
   "source": []
  },
  {
   "cell_type": "markdown",
   "metadata": {},
   "source": [
    "5\\. Все ли признаки оказались полезными для построения моделей? Проведите процедуру отбора признаков, попробуйте разные варианты отбора (обратите внимание на модуль `sklearn.feature_selection`). Например, можно выбрасывать случайные признаки или строить отбор на основе l1-регуляризации - отфильтровать из обучения признаки, которые получат нулевой вес при построении регрессии с l1-регуляризацией (`sklearn.linear_model.Lasso`). И всегда можно придумать что-то своё=) Попробуйте как минимум 2 различные стратегии, сравните результаты. Помог ли отбор признаков улучшить качество модели? Поясните свой ответ."
   ]
  },
  {
   "cell_type": "code",
   "execution_count": null,
   "metadata": {
    "collapsed": true
   },
   "outputs": [],
   "source": []
  },
  {
   "cell_type": "markdown",
   "metadata": {},
   "source": [
    "6\\. Подберите оптимальные параметры модели. Обратите внимание, что в зависимости от того, как вы обработали исходные данные, сделали ли балансировку классов, сколько объектов оставили в обучающей выборке и др. оптимальные значения параметров могут меняться. Возьмите наилучшее из ваших решений на текущий момент и проведите процедуру подбора параметров модели (обратите внимание на `sklearn.model_selection.GridSearchCV`) Как подбор параметров повлиял на качество модели?"
   ]
  },
  {
   "cell_type": "code",
   "execution_count": null,
   "metadata": {
    "collapsed": true
   },
   "outputs": [],
   "source": []
  },
  {
   "cell_type": "markdown",
   "metadata": {},
   "source": [
    "7\\. Предложите методику оценки того, какие признаки внесли наибольший вклад в модель (например, это могут быть веса в случае регрессии, а также большое количество моделей реализуют метод `feature_importances_` - оценка важности признаков). На основе предложенной методики проанализируйте, какие признаки внесли больший вклад в модель, а какие меньший?"
   ]
  },
  {
   "cell_type": "code",
   "execution_count": null,
   "metadata": {
    "collapsed": true
   },
   "outputs": [],
   "source": []
  },
  {
   "cell_type": "markdown",
   "metadata": {},
   "source": [
    "8\\. Напоследок давайте посмотрим на объекты. На каких объектах достигается наибольшая ошибка классификации? Есть ли межу этими объектами что-то общее? Видны ли какие-либо закономерности? Предположите, почему наибольшая ошибка достигается именно на этих объектах. В данном случае \"наибольшую\" ошибку можно понимать как отнесение объекта с чужому классу с большой долей уверенности (с высокой вероятностью)."
   ]
  },
  {
   "cell_type": "code",
   "execution_count": null,
   "metadata": {
    "collapsed": true
   },
   "outputs": [],
   "source": []
  },
  {
   "cell_type": "markdown",
   "metadata": {},
   "source": [
    "9\\. По итогам проведенных экспериментов постройте финальную решение - модель с наилучшим качеством. Укажите, какие преобразования данных, параметры и пр. вы выбрали для построения финальной модели."
   ]
  },
  {
   "cell_type": "code",
   "execution_count": null,
   "metadata": {
    "collapsed": true
   },
   "outputs": [],
   "source": []
  },
  {
   "cell_type": "markdown",
   "metadata": {},
   "source": [
    "10\\. Подумайте, можно ли еще улучшить модель? Что для этого можно сделать? "
   ]
  },
  {
   "cell_type": "code",
   "execution_count": null,
   "metadata": {
    "collapsed": true
   },
   "outputs": [],
   "source": []
  }
 ],
 "metadata": {
  "kernelspec": {
   "display_name": "Python 3",
   "language": "python",
   "name": "python3"
  },
  "language_info": {
   "codemirror_mode": {
    "name": "ipython",
    "version": 3
   },
   "file_extension": ".py",
   "mimetype": "text/x-python",
   "name": "python",
   "nbconvert_exporter": "python",
   "pygments_lexer": "ipython3",
   "version": "3.7.3"
  }
 },
 "nbformat": 4,
 "nbformat_minor": 1
}
