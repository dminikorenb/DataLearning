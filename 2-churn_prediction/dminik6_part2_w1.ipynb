{
 "cells": [
  {
   "cell_type": "code",
   "execution_count": 69,
   "metadata": {},
   "outputs": [],
   "source": [
    "import numpy as np\n",
    "import pandas as pd\n",
    "\n",
    "from matplotlib import pyplot as plt\n",
    "%matplotlib inline\n",
    "\n",
    "from scipy.stats import chi2_contingency"
   ]
  },
  {
   "cell_type": "markdown",
   "metadata": {},
   "source": [
    "# Peer-graded Assignment: Описательный анализ данных\n",
    "\n",
    "Часто при работе с пользовательскими данными приходится сталкиваться с тем, что данные предоставляются для работы без описания. При этом не известно, что содержательно представляют собой те или иные признаки, а известны лишь их типы: числовые, категориальные, номинальные переменные. Такие ситуации - не редкость при работе с «чувствительными» данными, например, в сфере банковской аналитики, HR-аналитики, сфере телекоммуникаций, страхования, здравоохранения, недвижимости или ритейла. Тем не менее, с такими данным нужно уметь работать, и нужно уметь проводить на них классические этапы анализа, в частности описательный анализ данных и визуализацию. Именно этим мы займемся на первой неделе.\n",
    "\n",
    "\n",
    "В этом задании мы потренируемся делать описательный анализ и визуализацию так называемых «закрытых» данных - данных, которые предоставляются для анализа и построения моделей без описания. Выборка, с которой мы будем работать прилагается.\n",
    "\n",
    "* Метки классов (здесь `1` соответствует классу `отток`, `-1` - классу `не отток`) – `orange_small_churn_labels.train`\n",
    "* Данные (предоставлены без описания, однако известно, что первые 190 переменных являются числовыми, а оставшиеся 40 - категориальными) – `orange_small_churn_data.train`\n",
    "\n",
    "Скачайте эти файлы [на странице задания](https://www.coursera.org/learn/data-analysis-project/peer/roSOe/opisatiel-nyi-analiz-dannykh) и переходите к выполнению задачи! Результатом выполнения задания является jupyter notebook. Перед отправкой результата убедитесь, что вы выполнили все пункты из задания и это можно понять из вашего notebook'а. Проверьте, что код написан понятно и аккуратно - это поможет вашим сокурсником лучше понять, что вы сделали, и оценить вашу работу.\n",
    "\n",
    "## Инструкции\n",
    "\n",
    "1\\. Загрузите данные `orange_small_churn_data.train` и `orange_small_churn_labels.train`"
   ]
  },
  {
   "cell_type": "code",
   "execution_count": null,
   "metadata": {},
   "outputs": [],
   "source": []
  },
  {
   "cell_type": "code",
   "execution_count": 2,
   "metadata": {},
   "outputs": [],
   "source": [
    "df_data = pd.read_csv('orange_small_churn_data.train')\n",
    "df_labels = pd.read_csv('orange_small_churn_labels.train', names=['Label'], header=None)"
   ]
  },
  {
   "cell_type": "code",
   "execution_count": 3,
   "metadata": {},
   "outputs": [
    {
     "data": {
      "text/plain": [
       "Label    0.0744\n",
       "dtype: float64"
      ]
     },
     "execution_count": 3,
     "metadata": {},
     "output_type": "execute_result"
    }
   ],
   "source": []
  },
  {
   "cell_type": "code",
   "execution_count": 7,
   "metadata": {},
   "outputs": [
    {
     "data": {
      "text/html": [
       "<div>\n",
       "<style scoped>\n",
       "    .dataframe tbody tr th:only-of-type {\n",
       "        vertical-align: middle;\n",
       "    }\n",
       "\n",
       "    .dataframe tbody tr th {\n",
       "        vertical-align: top;\n",
       "    }\n",
       "\n",
       "    .dataframe thead th {\n",
       "        text-align: right;\n",
       "    }\n",
       "</style>\n",
       "<table border=\"1\" class=\"dataframe\">\n",
       "  <thead>\n",
       "    <tr style=\"text-align: right;\">\n",
       "      <th></th>\n",
       "      <th>Var1</th>\n",
       "      <th>Var2</th>\n",
       "      <th>Var3</th>\n",
       "      <th>Var4</th>\n",
       "      <th>Var5</th>\n",
       "      <th>Var6</th>\n",
       "      <th>Var7</th>\n",
       "      <th>Var8</th>\n",
       "      <th>Var9</th>\n",
       "      <th>Var10</th>\n",
       "      <th>...</th>\n",
       "      <th>Var222</th>\n",
       "      <th>Var223</th>\n",
       "      <th>Var224</th>\n",
       "      <th>Var225</th>\n",
       "      <th>Var226</th>\n",
       "      <th>Var227</th>\n",
       "      <th>Var228</th>\n",
       "      <th>Var229</th>\n",
       "      <th>Var230</th>\n",
       "      <th>Label</th>\n",
       "    </tr>\n",
       "  </thead>\n",
       "  <tbody>\n",
       "    <tr>\n",
       "      <th>0</th>\n",
       "      <td>NaN</td>\n",
       "      <td>NaN</td>\n",
       "      <td>NaN</td>\n",
       "      <td>NaN</td>\n",
       "      <td>NaN</td>\n",
       "      <td>3052.0</td>\n",
       "      <td>NaN</td>\n",
       "      <td>NaN</td>\n",
       "      <td>NaN</td>\n",
       "      <td>NaN</td>\n",
       "      <td>...</td>\n",
       "      <td>vr93T2a</td>\n",
       "      <td>LM8l689qOp</td>\n",
       "      <td>NaN</td>\n",
       "      <td>NaN</td>\n",
       "      <td>fKCe</td>\n",
       "      <td>02N6s8f</td>\n",
       "      <td>xwM2aC7IdeMC0</td>\n",
       "      <td>NaN</td>\n",
       "      <td>NaN</td>\n",
       "      <td>-1</td>\n",
       "    </tr>\n",
       "    <tr>\n",
       "      <th>1</th>\n",
       "      <td>NaN</td>\n",
       "      <td>NaN</td>\n",
       "      <td>NaN</td>\n",
       "      <td>NaN</td>\n",
       "      <td>NaN</td>\n",
       "      <td>1813.0</td>\n",
       "      <td>7.0</td>\n",
       "      <td>NaN</td>\n",
       "      <td>NaN</td>\n",
       "      <td>NaN</td>\n",
       "      <td>...</td>\n",
       "      <td>6hQ9lNX</td>\n",
       "      <td>LM8l689qOp</td>\n",
       "      <td>NaN</td>\n",
       "      <td>ELof</td>\n",
       "      <td>xb3V</td>\n",
       "      <td>RAYp</td>\n",
       "      <td>55YFVY9</td>\n",
       "      <td>mj86</td>\n",
       "      <td>NaN</td>\n",
       "      <td>-1</td>\n",
       "    </tr>\n",
       "    <tr>\n",
       "      <th>2</th>\n",
       "      <td>NaN</td>\n",
       "      <td>NaN</td>\n",
       "      <td>NaN</td>\n",
       "      <td>NaN</td>\n",
       "      <td>NaN</td>\n",
       "      <td>1953.0</td>\n",
       "      <td>7.0</td>\n",
       "      <td>NaN</td>\n",
       "      <td>NaN</td>\n",
       "      <td>NaN</td>\n",
       "      <td>...</td>\n",
       "      <td>catzS2D</td>\n",
       "      <td>LM8l689qOp</td>\n",
       "      <td>NaN</td>\n",
       "      <td>NaN</td>\n",
       "      <td>FSa2</td>\n",
       "      <td>ZI9m</td>\n",
       "      <td>ib5G6X1eUxUn6</td>\n",
       "      <td>mj86</td>\n",
       "      <td>NaN</td>\n",
       "      <td>-1</td>\n",
       "    </tr>\n",
       "    <tr>\n",
       "      <th>3</th>\n",
       "      <td>NaN</td>\n",
       "      <td>NaN</td>\n",
       "      <td>NaN</td>\n",
       "      <td>NaN</td>\n",
       "      <td>NaN</td>\n",
       "      <td>1533.0</td>\n",
       "      <td>7.0</td>\n",
       "      <td>NaN</td>\n",
       "      <td>NaN</td>\n",
       "      <td>NaN</td>\n",
       "      <td>...</td>\n",
       "      <td>e4lqvY0</td>\n",
       "      <td>LM8l689qOp</td>\n",
       "      <td>NaN</td>\n",
       "      <td>NaN</td>\n",
       "      <td>xb3V</td>\n",
       "      <td>RAYp</td>\n",
       "      <td>F2FyR07IdsN7I</td>\n",
       "      <td>NaN</td>\n",
       "      <td>NaN</td>\n",
       "      <td>1</td>\n",
       "    </tr>\n",
       "    <tr>\n",
       "      <th>4</th>\n",
       "      <td>NaN</td>\n",
       "      <td>NaN</td>\n",
       "      <td>NaN</td>\n",
       "      <td>NaN</td>\n",
       "      <td>NaN</td>\n",
       "      <td>686.0</td>\n",
       "      <td>7.0</td>\n",
       "      <td>NaN</td>\n",
       "      <td>NaN</td>\n",
       "      <td>NaN</td>\n",
       "      <td>...</td>\n",
       "      <td>MAz3HNj</td>\n",
       "      <td>LM8l689qOp</td>\n",
       "      <td>NaN</td>\n",
       "      <td>NaN</td>\n",
       "      <td>WqMG</td>\n",
       "      <td>RAYp</td>\n",
       "      <td>F2FyR07IdsN7I</td>\n",
       "      <td>NaN</td>\n",
       "      <td>NaN</td>\n",
       "      <td>-1</td>\n",
       "    </tr>\n",
       "  </tbody>\n",
       "</table>\n",
       "<p>5 rows × 231 columns</p>\n",
       "</div>"
      ],
      "text/plain": [
       "   Var1  Var2  Var3  Var4  Var5    Var6  Var7  Var8  Var9  Var10  ...  \\\n",
       "0   NaN   NaN   NaN   NaN   NaN  3052.0   NaN   NaN   NaN    NaN  ...   \n",
       "1   NaN   NaN   NaN   NaN   NaN  1813.0   7.0   NaN   NaN    NaN  ...   \n",
       "2   NaN   NaN   NaN   NaN   NaN  1953.0   7.0   NaN   NaN    NaN  ...   \n",
       "3   NaN   NaN   NaN   NaN   NaN  1533.0   7.0   NaN   NaN    NaN  ...   \n",
       "4   NaN   NaN   NaN   NaN   NaN   686.0   7.0   NaN   NaN    NaN  ...   \n",
       "\n",
       "    Var222      Var223  Var224  Var225  Var226   Var227         Var228  \\\n",
       "0  vr93T2a  LM8l689qOp     NaN     NaN    fKCe  02N6s8f  xwM2aC7IdeMC0   \n",
       "1  6hQ9lNX  LM8l689qOp     NaN    ELof    xb3V     RAYp        55YFVY9   \n",
       "2  catzS2D  LM8l689qOp     NaN     NaN    FSa2     ZI9m  ib5G6X1eUxUn6   \n",
       "3  e4lqvY0  LM8l689qOp     NaN     NaN    xb3V     RAYp  F2FyR07IdsN7I   \n",
       "4  MAz3HNj  LM8l689qOp     NaN     NaN    WqMG     RAYp  F2FyR07IdsN7I   \n",
       "\n",
       "   Var229  Var230  Label  \n",
       "0     NaN     NaN     -1  \n",
       "1    mj86     NaN     -1  \n",
       "2    mj86     NaN     -1  \n",
       "3     NaN     NaN      1  \n",
       "4     NaN     NaN     -1  \n",
       "\n",
       "[5 rows x 231 columns]"
      ]
     },
     "execution_count": 7,
     "metadata": {},
     "output_type": "execute_result"
    }
   ],
   "source": [
    "df_data['Label'] = df_labels.Label\n",
    "df_data.head()"
   ]
  },
  {
   "cell_type": "markdown",
   "metadata": {},
   "source": [
    "2\\. Рассчитайте доли классов `отток` и `не отток`."
   ]
  },
  {
   "cell_type": "code",
   "execution_count": 47,
   "metadata": {},
   "outputs": [
    {
     "name": "stdout",
     "output_type": "stream",
     "text": [
      "Доля класса не отток: 0.926\n",
      "Доля класса отток   : 0.074\n"
     ]
    }
   ],
   "source": [
    "dinfo = {-1: 'не отток', 1: 'отток'}\n",
    "for i, v in  (df_labels['Label'].value_counts() / df_labels.shape[0]).items():\n",
    "    print('Доля класса {:<8}: {:.3f}'.format(dinfo[i], v))"
   ]
  },
  {
   "cell_type": "markdown",
   "metadata": {},
   "source": [
    "3\\. Рассчитайте корреляции переменных с целевой функцией и проанализируйте полученные данные.\n",
    "\n",
    "Обратите внимание на то, что целевая функция предсталвляет собой бинарную переменную. Теоретически, это не помешает рассчиать, например, корреляцию Пирсона между непрерывной переменной и целевой функцией, онднако анализиоовать полученные результаты будет сложно, корреляция Пирсона просто не рассчитана на такое применение. Кто уже забыл, как действовать в такой ситуации - вспоминить можно вот здесь: https://www.coursera.org/teach/stats-for-data-analysis/content/edit/lecture/prX3S/video-subtitles "
   ]
  },
  {
   "cell_type": "markdown",
   "metadata": {},
   "source": [
    "Заметки. Материалы для подготовки  \n",
    "[Коэффициент корреляции Крамера V для категориальных переменных](https://towardsdatascience.com/the-search-for-categorical-correlation-a1cf7f1888c9)   \n",
    "[Pandas crosstab](https://pbpython.com/pandas-crosstab.html)"
   ]
  },
  {
   "cell_type": "code",
   "execution_count": 48,
   "metadata": {},
   "outputs": [],
   "source": [
    "def cramers_v(x, y):\n",
    "    confusion_matrix = pd.crosstab(x,y)\n",
    "    chi2 = chi2_contingency(confusion_matrix)[0]\n",
    "    n = confusion_matrix.sum().sum()\n",
    "    phi2 = chi2/n\n",
    "    r,k = confusion_matrix.shape\n",
    "    phi2corr = max(0, phi2-((k-1)*(r-1))/(n-1))\n",
    "    rcorr = r-((r-1)**2)/(n-1)\n",
    "    kcorr = k-((k-1)**2)/(n-1)\n",
    "    return np.sqrt(phi2corr/min((kcorr-1),(rcorr-1)))"
   ]
  },
  {
   "cell_type": "code",
   "execution_count": null,
   "metadata": {},
   "outputs": [],
   "source": []
  },
  {
   "cell_type": "markdown",
   "metadata": {},
   "source": [
    "Окончание заметок"
   ]
  },
  {
   "cell_type": "markdown",
   "metadata": {},
   "source": [
    "#### Из материалов лекции:\n",
    "Для пар признаков, один из которых непрерывный, а другой — категориальный, вообще не\n",
    "нужно считать никакой коэффициент корреляции.\n",
    "Мерой силы взаимосвязи между X1 и X2 может служить просто разность этих математических ожиданий:  \n",
    "E (X1 | X2 = 1) − E (X1 | X2 = 0)  \n",
    "Эта величина не нормированная, она может меняться в любом диапазоне, от −∞ до +∞. Однако её гораздо легче интерпретировать, чем коэффициент корреляции, который можно вычислить на такой паре выборок."
   ]
  },
  {
   "cell_type": "code",
   "execution_count": 51,
   "metadata": {},
   "outputs": [
    {
     "name": "stdout",
     "output_type": "stream",
     "text": [
      "<class 'pandas.core.frame.DataFrame'>\n",
      "RangeIndex: 40000 entries, 0 to 39999\n",
      "Columns: 191 entries, Var1 to Label\n",
      "dtypes: float64(189), int64(2)\n",
      "memory usage: 58.3 MB\n"
     ]
    }
   ],
   "source": [
    "# df_data[df_data.Label == 1][:190,:].mean()\n",
    "df_tmp = df_data.iloc[:, list(range(0, 190)) + [-1]]\n",
    "df_tmp.info()\n",
    "ser_cor_cont = df_tmp[df_tmp.Label == 1].mean() -  df_tmp[df_tmp.Label == -1].mean()"
   ]
  },
  {
   "cell_type": "code",
   "execution_count": 74,
   "metadata": {
    "collapsed": true
   },
   "outputs": [
    {
     "data": {
      "text/plain": [
       "array([1.03460778e+07, 4.80858388e+05, 4.38907679e+05, 4.01748745e+05,\n",
       "       3.20162953e+05, 2.41634735e+05, 1.93165146e+05, 1.62842185e+05,\n",
       "       1.51453352e+05, 1.41731559e+05, 1.30636056e+05, 1.22003962e+05,\n",
       "       1.01756861e+05, 9.80849713e+04, 9.58647007e+04, 7.76710036e+04,\n",
       "       6.69498668e+04, 6.16147793e+04, 5.79933746e+04, 5.75884597e+04,\n",
       "       5.67806813e+04, 4.55784959e+04, 4.51584748e+04, 4.45611840e+04,\n",
       "       4.15703661e+04, 4.06146702e+04, 3.79524943e+04, 3.61226575e+04,\n",
       "       3.07318603e+04, 2.95366738e+04, 2.20948256e+04, 1.77115234e+04,\n",
       "       1.49427200e+04, 1.45433667e+04, 1.43795622e+04, 1.23896535e+04,\n",
       "       1.06701217e+04, 1.04752860e+04, 9.68909144e+03, 9.17427397e+03,\n",
       "       9.11827735e+03, 8.35962461e+03, 8.23084022e+03, 8.22266690e+03,\n",
       "       7.49465633e+03, 5.31539695e+03, 5.21692254e+03, 1.08325876e+03,\n",
       "       9.60585170e+02, 6.30144983e+02, 4.82891378e+02, 4.46201969e+02,\n",
       "       2.05473217e+02, 1.67782993e+02, 8.95356962e+01, 5.80516529e+01,\n",
       "       5.45947744e+01, 5.36328536e+01, 5.17765039e+01, 4.96825626e+01,\n",
       "       4.01996367e+01, 3.57552357e+01, 2.77247500e+01, 2.23870560e+01,\n",
       "       2.00926935e+01, 1.99609848e+01, 1.98033929e+01, 1.96715621e+01,\n",
       "       1.64153437e+01, 1.46092504e+01, 1.43211238e+01, 1.40213044e+01,\n",
       "       1.34126122e+01, 1.23777943e+01, 1.15624436e+01, 1.15502304e+01,\n",
       "       1.14062771e+01, 1.04277502e+01, 1.03146811e+01, 8.82799685e+00,\n",
       "       8.31829105e+00, 8.07467532e+00, 7.82490263e+00, 7.03177050e+00,\n",
       "       6.33937577e+00, 5.96421896e+00, 5.55973484e+00, 5.41339940e+00,\n",
       "       5.20656248e+00, 4.83192155e+00, 4.40010433e+00, 4.27242921e+00,\n",
       "       4.09614518e+00, 4.03189793e+00, 3.51869445e+00, 3.35068368e+00,\n",
       "       2.90902317e+00, 2.78291253e+00, 2.74100847e+00, 2.68442623e+00,\n",
       "       2.67983979e+00, 2.51631135e+00, 2.43505477e+00, 2.34461694e+00,\n",
       "       2.00000000e+00, 1.92419796e+00, 1.85096870e+00, 1.70858082e+00,\n",
       "       1.70635946e+00, 1.67049399e+00, 1.62304147e+00, 1.62149607e+00,\n",
       "       1.56706408e+00, 1.49345794e+00, 1.40591432e+00, 1.28561848e+00,\n",
       "       9.76092789e-01, 9.50819672e-01, 9.12071535e-01, 8.84580703e-01,\n",
       "       7.72229640e-01, 7.70504399e-01, 6.97777442e-01, 6.53671562e-01,\n",
       "       6.16706685e-01, 5.96870343e-01, 5.94392523e-01, 5.79973298e-01,\n",
       "       5.71500860e-01, 5.11348465e-01, 4.98622520e-01, 4.74766355e-01,\n",
       "       4.58210948e-01, 4.57297297e-01, 4.11214953e-01, 4.06397981e-01,\n",
       "       4.04220902e-01, 3.97118665e-01, 3.84512684e-01, 3.69193401e-01,\n",
       "       3.64363160e-01, 3.15371985e-01, 3.04864865e-01, 2.46230139e-01,\n",
       "       2.38244514e-01, 2.33830104e-01, 2.25524926e-01, 2.23429799e-01,\n",
       "       1.81852648e-01, 1.28763040e-01, 9.77392761e-02, 9.75782558e-02,\n",
       "       9.35759342e-02, 8.73373874e-02, 8.70466321e-02, 7.60059613e-02,\n",
       "       5.18024032e-02, 4.99806776e-02, 4.97409326e-02, 3.76512077e-02,\n",
       "       2.70513977e-02, 2.66651031e-02, 2.61682243e-02, 2.53556958e-02,\n",
       "       2.25428314e-02, 2.09675208e-02, 1.86915888e-02, 1.67622053e-02,\n",
       "       1.60953800e-02, 1.28170895e-02, 5.18134715e-03, 5.08714248e-03,\n",
       "       3.25136336e-03, 1.63934426e-03, 0.00000000e+00,            nan,\n",
       "                  nan,            nan,            nan,            nan,\n",
       "                  nan,            nan,            nan,            nan,\n",
       "                  nan,            nan,            nan,            nan,\n",
       "                  nan,            nan,            nan])"
      ]
     },
     "execution_count": 74,
     "metadata": {},
     "output_type": "execute_result"
    }
   ],
   "source": [
    "ser_sort = ser_cor_cont.abs().sort_values(ascending = False)\n",
    "ser_sort.values"
   ]
  },
  {
   "cell_type": "code",
   "execution_count": 77,
   "metadata": {},
   "outputs": [],
   "source": [
    "# plt.hist(ser_sort.values, bins=50)\n",
    "\n",
    "# plt.xscale('log')"
   ]
  },
  {
   "cell_type": "markdown",
   "metadata": {},
   "source": [
    "Что делать с категориальными переменными, у которых одна категория?  \n",
    "Первый вариант - не учитывать их совсем и второй вариант - заменить NaN строкой 'NaN'\n",
    "и пусть будет второй категорией. Вполне возможно, что эта переменная имеет единствен-\n",
    "ное категориальное значение \"очень тесно\" связанное с целевым значением.  \n",
    "Кстати, возможно что надо учитывать такую возможность и для остальных категориальных\n",
    "переменных, а не просто отбрасывать их.  \n",
    "Может быть имеет смысл вычислять корреляцию для обоих вариантов, и брать наибольшую?  \n",
    "Эта мысль и реализована ниже.  \n",
    "Как видно из распечатки ниже, где-то значения равны, где-то различаются в одну или \n",
    "другую сторону, кое-где раздичаются более чем в 2 раза (Var218).  \n",
    "[О том, как по умолчанию обрабатывается NaN](#NaN_crosstab)\n",
    "<a id='NaN_crosstab_return'></a>"
   ]
  },
  {
   "cell_type": "code",
   "execution_count": null,
   "metadata": {},
   "outputs": [],
   "source": []
  },
  {
   "cell_type": "code",
   "execution_count": 117,
   "metadata": {},
   "outputs": [
    {
     "name": "stdout",
     "output_type": "stream",
     "text": [
      "Var191 0.013 + (-NaN:0.000 +NaN:0.013) \n",
      "Var192 0.118 + (-NaN:0.116 +NaN:0.118) 1.019\n",
      "Var193 0.061 = (-NaN:0.061 +NaN:0.061) \n",
      "Var194 0.017 + (-NaN:0.010 +NaN:0.017) 1.758\n",
      "Var195 0.021 = (-NaN:0.021 +NaN:0.021) \n",
      "Var196 0.009 = (-NaN:0.009 +NaN:0.009) \n",
      "Var197 0.035 = (-NaN:0.035 +NaN:0.035) \n",
      "Var198 0.000 = (-NaN:0.000 +NaN:0.000) \n",
      "Var199 0.237 = (-NaN:0.237 +NaN:0.237) \n",
      "Var200 0.043 - (-NaN:0.043 +NaN:0.000) \n",
      "Var201 0.017 + (-NaN:0.000 +NaN:0.017) \n",
      "Var202 0.000 = (-NaN:0.000 +NaN:0.000) \n",
      "Var203 0.009 + (-NaN:0.007 +NaN:0.009) 1.229\n",
      "Var204 0.048 = (-NaN:0.048 +NaN:0.048) \n",
      "Var205 0.073 - (-NaN:0.073 +NaN:0.072) 1.020\n",
      "Var206 0.082 + (-NaN:0.077 +NaN:0.082) 1.058\n",
      "Var207 0.055 = (-NaN:0.055 +NaN:0.055) \n",
      "Var208 0.010 + (-NaN:0.008 +NaN:0.010) 1.214\n",
      "Var210 0.047 = (-NaN:0.047 +NaN:0.047) \n",
      "Var211 0.032 = (-NaN:0.032 +NaN:0.032) \n",
      "Var212 0.075 = (-NaN:0.075 +NaN:0.075) \n",
      "Var213 0.015 + (-NaN:0.000 +NaN:0.015) \n",
      "Var214 0.043 - (-NaN:0.043 +NaN:0.000) \n",
      "Var215 0.001 + (-NaN:0.000 +NaN:0.001) \n",
      "Var216 0.083 = (-NaN:0.083 +NaN:0.083) \n",
      "Var217 0.000 = (-NaN:0.000 +NaN:0.000) \n",
      "Var218 0.102 + (-NaN:0.044 +NaN:0.102) 2.285\n",
      "Var219 0.011 = (-NaN:0.011 +NaN:0.011) \n",
      "Var220 0.000 = (-NaN:0.000 +NaN:0.000) \n",
      "Var221 0.048 = (-NaN:0.048 +NaN:0.048) \n",
      "Var222 0.000 = (-NaN:0.000 +NaN:0.000) \n",
      "Var223 0.006 = (-NaN:0.006 +NaN:0.006) \n",
      "Var224 0.007 + (-NaN:0.000 +NaN:0.007) \n",
      "Var225 0.056 + (-NaN:0.031 +NaN:0.056) 1.806\n",
      "Var226 0.042 = (-NaN:0.042 +NaN:0.042) \n",
      "Var227 0.054 = (-NaN:0.054 +NaN:0.054) \n",
      "Var228 0.071 = (-NaN:0.071 +NaN:0.071) \n",
      "Var229 0.062 + (-NaN:0.000 +NaN:0.062) \n",
      "Категориальные переменные с одной категорией.  ['Var191', 'Var213', 'Var215', 'Var224']\n"
     ]
    }
   ],
   "source": [
    "lonecat = []\n",
    "for col in range(190, 230):\n",
    "    ser = df_data.iloc[:, col]\n",
    "    if not ser.isnull().all():\n",
    "        c_v_0 = 0.00\n",
    "        if np.sum(~pd.isnull(ser.unique())) > 1:\n",
    "            c_v_0 = cramers_v( ser, df_data.Label)\n",
    "        else:\n",
    "            lonecat.append(df_data.columns[col])\n",
    "        c_v_1 = cramers_v( ser.replace(np.NaN, \"NaN\"), df_data.Label)\n",
    "        \n",
    "        info = '=' if round(c_v_0, 3) == round(c_v_1, 3) else '-' if c_v_1 < c_v_0 else '+'\n",
    "        print('{0} {3:.3f} {4} (-NaN:{1:.3f} +NaN:{2:.3f}) {5}'.format(\n",
    "            df_data.columns[col], c_v_0, c_v_1, max(c_v_0, c_v_1), info, \n",
    "            '{:.3f}'.format(max(c_v_0, c_v_1)/min(c_v_0, c_v_1)) if min(c_v_0, c_v_1) > 0. and info != '=' else ''\n",
    "        ))\n",
    "print('Категориальные переменные с одной категорией. ', lonecat)"
   ]
  },
  {
   "cell_type": "code",
   "execution_count": 81,
   "metadata": {},
   "outputs": [
    {
     "name": "stdout",
     "output_type": "stream",
     "text": [
      "Категориальные переменные с одной категорией.  ['Var191', 'Var213', 'Var215', 'Var224']\n"
     ]
    }
   ],
   "source": [
    "print('Категориальные переменные с одной категорией. ', lonecat)"
   ]
  },
  {
   "cell_type": "markdown",
   "metadata": {},
   "source": [
    "4\\. Визуализируйте данные: рассмотрите топ 20 числовых переменных, наиболее сильно коррелирующих с целевой функцией. Для этих переменных постройте:\n",
    "* Распределения в разрезе классов\n",
    "* Отобразите объекты в координатах пар признаков"
   ]
  },
  {
   "cell_type": "markdown",
   "metadata": {},
   "source": [
    "https://habr.com/ru/company/ods/blog/323210/\n",
    "\n",
    "https://habr.com/ru/company/ods/blog/322534/\n",
    "\n",
    "https://medium.com/nuances-of-programming/5-%D0%BF%D1%80%D0%BE%D1%81%D1%82%D1%8B%D1%85-%D1%81%D0%BF%D0%BE%D1%81%D0%BE%D0%B1%D0%BE%D0%B2-%D0%B2%D0%B8%D0%B7%D1%83%D0%B0%D0%BB%D0%B8%D0%B7%D0%B0%D1%86%D0%B8%D0%B8-%D0%B4%D0%B0%D0%BD%D0%BD%D1%8B%D1%85-%D0%BD%D0%B0-python-%D1%81-%D0%BA%D0%BE%D0%B4%D0%BE%D0%BC-e0053808c83d\n",
    "\n",
    "\n",
    "Распределения в разрезе классов - может быть это по оси X - -1, 1, по оси Y - значение переменной"
   ]
  },
  {
   "cell_type": "code",
   "execution_count": null,
   "metadata": {
    "collapsed": true
   },
   "outputs": [],
   "source": []
  },
  {
   "cell_type": "markdown",
   "metadata": {},
   "source": [
    "5\\. Проделайте аналогичные шаги для случайно выбранных 10 числовых признаков."
   ]
  },
  {
   "cell_type": "code",
   "execution_count": null,
   "metadata": {
    "collapsed": true
   },
   "outputs": [],
   "source": []
  },
  {
   "cell_type": "markdown",
   "metadata": {},
   "source": [
    "6\\. Проделайте аналогичные шаги для 10 числовых признаков, наименее сильно коррелирующих с целевой переменной."
   ]
  },
  {
   "cell_type": "code",
   "execution_count": null,
   "metadata": {
    "collapsed": true
   },
   "outputs": [],
   "source": []
  },
  {
   "cell_type": "markdown",
   "metadata": {},
   "source": [
    "7\\. Посмотрите на категориальные переменные: постройте и сравните гистограммы значений категориальных переменных для разных классов."
   ]
  },
  {
   "cell_type": "code",
   "execution_count": null,
   "metadata": {
    "collapsed": true
   },
   "outputs": [],
   "source": []
  },
  {
   "cell_type": "markdown",
   "metadata": {},
   "source": [
    "8\\. Проанализируйте полученные результаты:\n",
    "* Какие выводы вы можете сделать? Заметили ли вы какие-нибудь интересные закономерности?\n",
    "* На основании полученных изображений и таблиц, предположите, какие переменные окажут наибольшее влияние (вклад) в модель?\n",
    "* Какие переменные на ваш взгляд окажутся наименее полезными, шумовыми?\n",
    "* Как вы думаете, окажется ли отбор признаков полезным для построения модели?"
   ]
  },
  {
   "cell_type": "markdown",
   "metadata": {
    "collapsed": true
   },
   "source": [
    "### Дополнения и пояснения"
   ]
  },
  {
   "cell_type": "markdown",
   "metadata": {},
   "source": [
    "NaN и crosstab\n",
    "<a id='NaN_crosstab'></a>"
   ]
  },
  {
   "cell_type": "code",
   "execution_count": 127,
   "metadata": {},
   "outputs": [
    {
     "data": {
      "text/html": [
       "<div>\n",
       "<style scoped>\n",
       "    .dataframe tbody tr th:only-of-type {\n",
       "        vertical-align: middle;\n",
       "    }\n",
       "\n",
       "    .dataframe tbody tr th {\n",
       "        vertical-align: top;\n",
       "    }\n",
       "\n",
       "    .dataframe thead th {\n",
       "        text-align: right;\n",
       "    }\n",
       "</style>\n",
       "<table border=\"1\" class=\"dataframe\">\n",
       "  <thead>\n",
       "    <tr style=\"text-align: right;\">\n",
       "      <th>B</th>\n",
       "      <th>0</th>\n",
       "      <th>1</th>\n",
       "    </tr>\n",
       "    <tr>\n",
       "      <th>A</th>\n",
       "      <th></th>\n",
       "      <th></th>\n",
       "    </tr>\n",
       "  </thead>\n",
       "  <tbody>\n",
       "    <tr>\n",
       "      <th>N/A</th>\n",
       "      <td>1</td>\n",
       "      <td>0</td>\n",
       "    </tr>\n",
       "    <tr>\n",
       "      <th>a</th>\n",
       "      <td>1</td>\n",
       "      <td>1</td>\n",
       "    </tr>\n",
       "    <tr>\n",
       "      <th>b</th>\n",
       "      <td>0</td>\n",
       "      <td>1</td>\n",
       "    </tr>\n",
       "    <tr>\n",
       "      <th>c</th>\n",
       "      <td>0</td>\n",
       "      <td>2</td>\n",
       "    </tr>\n",
       "    <tr>\n",
       "      <th>d</th>\n",
       "      <td>0</td>\n",
       "      <td>4</td>\n",
       "    </tr>\n",
       "  </tbody>\n",
       "</table>\n",
       "</div>"
      ],
      "text/plain": [
       "B    0  1\n",
       "A        \n",
       "N/A  1  0\n",
       "a    1  1\n",
       "b    0  1\n",
       "c    0  2\n",
       "d    0  4"
      ]
     },
     "execution_count": 127,
     "metadata": {},
     "output_type": "execute_result"
    }
   ],
   "source": [
    "df1 = pd.DataFrame(['N/A', 'a', 'a', 'b', 'c', 'c', 'd', 'd', 'd', 'd'], columns = ['A'])\n",
    "df2 = pd.DataFrame([0, 1, 0, 1, 1, 1, 1, 1, 1, 1], columns = ['B'])\n",
    "pd.crosstab(df1.A, df2.B)"
   ]
  },
  {
   "cell_type": "code",
   "execution_count": 128,
   "metadata": {},
   "outputs": [
    {
     "data": {
      "text/html": [
       "<div>\n",
       "<style scoped>\n",
       "    .dataframe tbody tr th:only-of-type {\n",
       "        vertical-align: middle;\n",
       "    }\n",
       "\n",
       "    .dataframe tbody tr th {\n",
       "        vertical-align: top;\n",
       "    }\n",
       "\n",
       "    .dataframe thead th {\n",
       "        text-align: right;\n",
       "    }\n",
       "</style>\n",
       "<table border=\"1\" class=\"dataframe\">\n",
       "  <thead>\n",
       "    <tr style=\"text-align: right;\">\n",
       "      <th>B</th>\n",
       "      <th>0</th>\n",
       "      <th>1</th>\n",
       "    </tr>\n",
       "    <tr>\n",
       "      <th>A</th>\n",
       "      <th></th>\n",
       "      <th></th>\n",
       "    </tr>\n",
       "  </thead>\n",
       "  <tbody>\n",
       "    <tr>\n",
       "      <th>a</th>\n",
       "      <td>1</td>\n",
       "      <td>1</td>\n",
       "    </tr>\n",
       "    <tr>\n",
       "      <th>b</th>\n",
       "      <td>0</td>\n",
       "      <td>1</td>\n",
       "    </tr>\n",
       "    <tr>\n",
       "      <th>c</th>\n",
       "      <td>0</td>\n",
       "      <td>2</td>\n",
       "    </tr>\n",
       "    <tr>\n",
       "      <th>d</th>\n",
       "      <td>0</td>\n",
       "      <td>4</td>\n",
       "    </tr>\n",
       "  </tbody>\n",
       "</table>\n",
       "</div>"
      ],
      "text/plain": [
       "B  0  1\n",
       "A      \n",
       "a  1  1\n",
       "b  0  1\n",
       "c  0  2\n",
       "d  0  4"
      ]
     },
     "execution_count": 128,
     "metadata": {},
     "output_type": "execute_result"
    }
   ],
   "source": [
    "pd.crosstab(df1.replace('N/A', np.NaN).A, df2.B)"
   ]
  },
  {
   "cell_type": "markdown",
   "metadata": {},
   "source": [
    "[Возврат в ячейку, откуда пришли](#NaN_crosstab_return)"
   ]
  },
  {
   "cell_type": "markdown",
   "metadata": {},
   "source": []
  },
  {
   "cell_type": "code",
   "execution_count": null,
   "metadata": {},
   "outputs": [],
   "source": []
  }
 ],
 "metadata": {
  "kernelspec": {
   "display_name": "Python [conda env:newpy]",
   "language": "python",
   "name": "conda-env-newpy-py"
  },
  "language_info": {
   "codemirror_mode": {
    "name": "ipython",
    "version": 3
   },
   "file_extension": ".py",
   "mimetype": "text/x-python",
   "name": "python",
   "nbconvert_exporter": "python",
   "pygments_lexer": "ipython3",
   "version": "3.7.3"
  }
 },
 "nbformat": 4,
 "nbformat_minor": 1
}
