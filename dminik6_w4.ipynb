{
 "cells": [
  {
   "cell_type": "markdown",
   "metadata": {},
   "source": [
    "<center>\n",
    "<img src=\"https://habrastorage.org/web/677/8e1/337/6778e1337c3d4b159d7e99df94227cb2.jpg\"/>\n",
    "## Специализация \"Машинное обучение и анализ данных\"\n",
    "<center>Автор материала: программист-исследователь Mail.Ru Group, старший преподаватель Факультета Компьютерных Наук ВШЭ [Юрий Кашницкий](https://yorko.github.io/)"
   ]
  },
  {
   "cell_type": "markdown",
   "metadata": {},
   "source": [
    "# <center> Capstone проект №1 <br> Идентификация пользователей по посещенным веб-страницам\n",
    "<img src='http://i.istockimg.com/file_thumbview_approve/21546327/5/stock-illustration-21546327-identification-de-l-utilisateur.jpg'>\n",
    "\n",
    "# <center>Неделя 4.  Сравнение алгоритмов классификации\n",
    "\n",
    "Теперь мы наконец подойдем к обучению моделей классификации, сравним на кросс-валидации несколько алгоритмов, разберемся, какие параметры длины сессии (*session_length* и *window_size*) лучше использовать. Также для выбранного алгоритма построим кривые валидации (как качество классификации зависит от одного из гиперпараметров алгоритма) и кривые обучения (как качество классификации зависит от объема выборки).\n",
    "\n",
    "**План 4 недели:**\n",
    "- Часть 1. Сравнение нескольких алгоритмов на сессиях из 10 сайтов\n",
    "- Часть 2. Выбор параметров – длины сессии и ширины окна\n",
    "- Часть 3. Идентификация  конкретного пользователя и кривые обучения\n",
    " \n",
    "\n",
    "\n",
    "**В этой части проекта Вам могут быть полезны видеозаписи следующих лекций курса \"Обучение на размеченных данных\":**\n",
    "   - [Линейная классификация](https://www.coursera.org/learn/supervised-learning/lecture/jqLcO/linieinaia-klassifikatsiia)\n",
    "   - [Сравнение алгоритмов и выбор гиперпараметров](https://www.coursera.org/learn/supervised-learning/lecture/aF79U/sravnieniie-alghoritmov-i-vybor-ghipierparamietrov)\n",
    "   - [Кросс-валидация. Sklearn.cross_validation](https://www.coursera.org/learn/supervised-learning/lecture/XbHEk/kross-validatsiia-sklearn-cross-validation)\n",
    "   - [Линейные модели. Sklearn.linear_model. Классификация](https://www.coursera.org/learn/supervised-learning/lecture/EBg9t/linieinyie-modieli-sklearn-linear-model-klassifikatsiia)\n",
    "   - и многие другие\n"
   ]
  },
  {
   "cell_type": "markdown",
   "metadata": {},
   "source": [
    "### Задание\n",
    "1. Заполните код в этой тетрадке \n",
    "2. Если вы проходите специализацию Яндеса и МФТИ, пошлите файл с ответами в соответствующем Programming Assignment. <br> Если вы проходите курс ODS, выберите ответы в [веб-форме](https://docs.google.com/forms/d/12VB7kmzDoSVzSpQNaJp0tR-2t8K8PynQopP3dypf7i4).  "
   ]
  },
  {
   "cell_type": "code",
   "execution_count": 1,
   "metadata": {},
   "outputs": [],
   "source": [
    "# pip install watermark\n",
    "%load_ext watermark"
   ]
  },
  {
   "cell_type": "code",
   "execution_count": 2,
   "metadata": {},
   "outputs": [
    {
     "name": "stdout",
     "output_type": "stream",
     "text": [
      "CPython 3.7.3\n",
      "IPython 7.5.0\n",
      "\n",
      "numpy 1.16.3\n",
      "scipy 1.2.1\n",
      "pandas 0.24.2\n",
      "matplotlib 3.0.3\n",
      "statsmodels 0.9.0\n",
      "sklearn 0.21.0\n",
      "\n",
      "compiler   : MSC v.1915 64 bit (AMD64)\n",
      "system     : Windows\n",
      "release    : 7\n",
      "machine    : AMD64\n",
      "processor  : Intel64 Family 6 Model 69 Stepping 1, GenuineIntel\n",
      "CPU cores  : 2\n",
      "interpreter: 64bit\n",
      "Git hash   : c82aa00939d02e3795c1953c447814df9802be0a\n"
     ]
    }
   ],
   "source": [
    "%watermark -v -m -p numpy,scipy,pandas,matplotlib,statsmodels,sklearn -g"
   ]
  },
  {
   "cell_type": "code",
   "execution_count": 3,
   "metadata": {},
   "outputs": [],
   "source": [
    "# %watermark -v -m -p numpy,scipy,pandas,matplotlib,statsmodels,sklearn -g"
   ]
  },
  {
   "cell_type": "code",
   "execution_count": 58,
   "metadata": {},
   "outputs": [],
   "source": [
    "from __future__ import division, print_function\n",
    "# отключим всякие предупреждения Anaconda\n",
    "import warnings\n",
    "warnings.filterwarnings('ignore')\n",
    "from time import time\n",
    "import itertools\n",
    "import os\n",
    "import numpy as np\n",
    "import pandas as pd\n",
    "import seaborn as sns\n",
    "%matplotlib inline\n",
    "from matplotlib import pyplot as plt\n",
    "import pickle\n",
    "from scipy.sparse import csr_matrix\n",
    "from sklearn.model_selection import train_test_split, cross_val_score, StratifiedKFold, GridSearchCV\n",
    "from sklearn.metrics import accuracy_score, f1_score\n",
    "from sklearn.linear_model import LogisticRegression, LogisticRegressionCV\n",
    "import time"
   ]
  },
  {
   "cell_type": "code",
   "execution_count": 5,
   "metadata": {},
   "outputs": [],
   "source": [
    "# Поменяйте на свой путь к данным\n",
    "PATH_TO_DATA = 'capstone_user_identification'"
   ]
  },
  {
   "cell_type": "code",
   "execution_count": 6,
   "metadata": {},
   "outputs": [],
   "source": [
    "def save_answer_Array(fnameNum, array):\n",
    "    with open('dminik6_w4_{}.txt'.format(fnameNum),\"w\") as fout:\n",
    "        fout.write(\" \".join(['{:.3f}'.format(el) for el in array]))"
   ]
  },
  {
   "cell_type": "markdown",
   "metadata": {},
   "source": [
    "## Часть 1. Сравнение нескольких алгоритмов на сессиях из 10 сайтов"
   ]
  },
  {
   "cell_type": "markdown",
   "metadata": {},
   "source": [
    "**Загрузим сериализованные ранее объекты *X_sparse_10users* и *y_10users*, соответствующие обучающей выборке для 10 пользователей.**"
   ]
  },
  {
   "cell_type": "code",
   "execution_count": 86,
   "metadata": {},
   "outputs": [],
   "source": [
    "with open(os.path.join(PATH_TO_DATA, \n",
    "         'X_sparse_10users.pkl'), 'rb') as X_sparse_10users_pkl:\n",
    "    X_sparse_10users = pickle.load(X_sparse_10users_pkl)\n",
    "with open(os.path.join(PATH_TO_DATA, \n",
    "                       'y_10users.pkl'), 'rb') as y_10users_pkl:\n",
    "    y_10users = pickle.load(y_10users_pkl)"
   ]
  },
  {
   "cell_type": "markdown",
   "metadata": {},
   "source": [
    "**Здесь более 14 тысяч сессий и почти 5 тысяч уникальных посещенных сайтов.**"
   ]
  },
  {
   "cell_type": "code",
   "execution_count": 87,
   "metadata": {},
   "outputs": [
    {
     "data": {
      "text/plain": [
       "(14061, 4913)"
      ]
     },
     "execution_count": 87,
     "metadata": {},
     "output_type": "execute_result"
    }
   ],
   "source": [
    "X_sparse_10users.shape"
   ]
  },
  {
   "cell_type": "markdown",
   "metadata": {},
   "source": [
    "**Разобьем выборку на 2 части. На одной будем проводить кросс-валидацию, на второй – оценивать модель, обученную после кросс-валидации.**"
   ]
  },
  {
   "cell_type": "code",
   "execution_count": 88,
   "metadata": {},
   "outputs": [],
   "source": [
    "X_train, X_valid, y_train, y_valid = train_test_split(X_sparse_10users, y_10users, \n",
    "                                                      test_size=0.3, \n",
    "                                                     random_state=17, stratify=y_10users)"
   ]
  },
  {
   "cell_type": "markdown",
   "metadata": {},
   "source": [
    "**Зададим заранее тип кросс-валидации: 3-кратная, с перемешиванием, параметр random_state=17 – для воспроизводимости.**"
   ]
  },
  {
   "cell_type": "code",
   "execution_count": 89,
   "metadata": {},
   "outputs": [],
   "source": [
    "skf = StratifiedKFold(n_splits=3, shuffle=True, random_state=17)"
   ]
  },
  {
   "cell_type": "markdown",
   "metadata": {},
   "source": [
    "**Вспомогательная функция для отрисовки кривых валидации после запуска GridSearchCV (или RandomizedCV).**"
   ]
  },
  {
   "cell_type": "code",
   "execution_count": 90,
   "metadata": {},
   "outputs": [],
   "source": [
    "def plot_validation_curves(param_values, grid_cv_results_):\n",
    "    train_mu, train_std = grid_cv_results_['mean_train_score'], grid_cv_results_['std_train_score']\n",
    "    valid_mu, valid_std = grid_cv_results_['mean_test_score'], grid_cv_results_['std_test_score']\n",
    "    train_line = plt.plot(param_values, train_mu, '-', label='train', color='green')\n",
    "    valid_line = plt.plot(param_values, valid_mu, '-', label='test', color='red')\n",
    "    plt.fill_between(param_values, train_mu - train_std, train_mu + train_std, edgecolor='none',\n",
    "                     facecolor=train_line[0].get_color(), alpha=0.2)\n",
    "    plt.fill_between(param_values, valid_mu - valid_std, valid_mu + valid_std, edgecolor='none',\n",
    "                     facecolor=valid_line[0].get_color(), alpha=0.2)\n",
    "    plt.legend()"
   ]
  },
  {
   "cell_type": "markdown",
   "metadata": {},
   "source": [
    "**1. Обучите `KNeighborsClassifier` со 100 ближайшими соседями (остальные параметры оставьте по умолчанию, только `n_jobs`=-1 для распараллеливания) и посмотрите на долю правильных ответов на 3-кратной кросс-валидации (ради воспроизводимости используйте для этого объект `StratifiedKFold` `skf`) по выборке `(X_train, y_train)` и отдельно на выборке `(X_valid, y_valid)`.**"
   ]
  },
  {
   "cell_type": "code",
   "execution_count": 91,
   "metadata": {},
   "outputs": [],
   "source": [
    "from sklearn.neighbors import KNeighborsClassifier"
   ]
  },
  {
   "cell_type": "code",
   "execution_count": 92,
   "metadata": {},
   "outputs": [],
   "source": [
    "def test_KNeighbors(knn, X, y):\n",
    "    m = []\n",
    "    skf = StratifiedKFold(n_splits=3, shuffle=True, random_state=17)\n",
    "    skf.get_n_splits(X, y)\n",
    "    for train_index, test_index in skf.split(X, y):\n",
    "        X_train, X_test = X[train_index], X[test_index]\n",
    "        y_train, y_test = y[train_index], y[test_index]\n",
    "        m.append(knn.score(X_train, y_train))\n",
    "    return np.mean(m)\n",
    "\n",
    "# "
   ]
  },
  {
   "cell_type": "code",
   "execution_count": 128,
   "metadata": {},
   "outputs": [
    {
     "name": "stdout",
     "output_type": "stream",
     "text": [
      "Wall time: 28.2 s\n"
     ]
    }
   ],
   "source": [
    "%%time\n",
    "knn = KNeighborsClassifier(n_neighbors=100, n_jobs=-1).fit(X_train, y_train)\n",
    "# Разобраться, почему test_KNeighbors и cross_val_score возвращают разные значения\n",
    "###ans_1_0 = test_KNeighbors(knn,  X_train, y_train) \n",
    "ans_1_00 = cross_val_score(knn, X_train, y_train, cv=skf).mean()\n",
    "###print(ans_1_0, ans_1_00)"
   ]
  },
  {
   "cell_type": "code",
   "execution_count": 130,
   "metadata": {},
   "outputs": [
    {
     "name": "stdout",
     "output_type": "stream",
     "text": [
      "Wall time: 9.85 s\n"
     ]
    }
   ],
   "source": [
    "%%time\n",
    "### ans_1_1 = test_KNeighbors(knn,  X_valid, y_valid)"
   ]
  },
  {
   "cell_type": "code",
   "execution_count": 134,
   "metadata": {},
   "outputs": [],
   "source": [
    "ans_1_10 = knn.score(X_valid, y_valid)"
   ]
  },
  {
   "cell_type": "code",
   "execution_count": 137,
   "metadata": {},
   "outputs": [
    {
     "name": "stdout",
     "output_type": "stream",
     "text": [
      "Доля правильных ответов для KNeighborsClassifier на кросс-валидации    0.562\n",
      "Доля правильных ответов для KNeighborsClassifier на отложенной выборке 0.584\n"
     ]
    }
   ],
   "source": [
    "print('Доля правильных ответов для KNeighborsClassifier на кросс-валидации    {:.3f}'.format(ans_1_00))\n",
    "print('Доля правильных ответов для KNeighborsClassifier на отложенной выборке {:.3f}'.format(ans_1_10))"
   ]
  },
  {
   "cell_type": "markdown",
   "metadata": {},
   "source": [
    "**<font color='red'>Вопрос 1. </font> Посчитайте доли правильных ответов для KNeighborsClassifier на кросс-валидации и отложенной выборке. Округлите каждое до 3 знаков после запятой и введите через пробел.**"
   ]
  },
  {
   "cell_type": "code",
   "execution_count": 138,
   "metadata": {},
   "outputs": [],
   "source": [
    "#   ''' ВАШ КОД ЗДЕСЬ '''\n",
    "save_answer_Array(1, [ans_1_00, ans_1_10])"
   ]
  },
  {
   "cell_type": "markdown",
   "metadata": {},
   "source": [
    "**2. Обучите случайный лес (`RandomForestClassifier`) из 100 деревьев (для воспроизводимости `random_state`=17). Посмотрите на OOB-оценку (для этого надо сразу установить `oob_score`=True) и на долю правильных ответов на выборке `(X_valid, y_valid)`. Для распараллеливания задайте `n_jobs`=-1.**"
   ]
  },
  {
   "cell_type": "code",
   "execution_count": 98,
   "metadata": {},
   "outputs": [],
   "source": [
    "from sklearn.ensemble import RandomForestClassifier"
   ]
  },
  {
   "cell_type": "code",
   "execution_count": 144,
   "metadata": {},
   "outputs": [
    {
     "name": "stdout",
     "output_type": "stream",
     "text": [
      "Wall time: 15.3 s\n"
     ]
    }
   ],
   "source": [
    "%%time\n",
    "forest = RandomForestClassifier(n_estimators=100, random_state=17, \n",
    "                                n_jobs=-1, oob_score=True).fit( X_train, y_train)"
   ]
  },
  {
   "cell_type": "code",
   "execution_count": 145,
   "metadata": {},
   "outputs": [
    {
     "data": {
      "text/plain": [
       "0.7251574883153831"
      ]
     },
     "execution_count": 145,
     "metadata": {},
     "output_type": "execute_result"
    }
   ],
   "source": [
    "forest.oob_score_"
   ]
  },
  {
   "cell_type": "code",
   "execution_count": 148,
   "metadata": {},
   "outputs": [
    {
     "name": "stdout",
     "output_type": "stream",
     "text": [
      "Доля правильных ответов по Out-of-Bag оценке                             0.725\n",
      "Доля правильных ответов для RandomForestClassifier на отложенной выборке 0.729\n"
     ]
    }
   ],
   "source": [
    "#ans_2_0 = forest.score(X_train, y_train)\n",
    "#ans_2_00 = cross_val_score(forest, X_train, y_train, cv=skf).mean()\n",
    "ans_2_01 = forest.oob_score_\n",
    "ans_2_1 = forest.score(X_valid, y_valid)\n",
    "print('Доля правильных ответов по Out-of-Bag оценке                             {:.3f}'.format(ans_2_01))\n",
    "print('Доля правильных ответов для RandomForestClassifier на отложенной выборке {:.3f}'.format(ans_2_1))"
   ]
  },
  {
   "cell_type": "markdown",
   "metadata": {},
   "source": [
    "**<font color='red'>Вопрос 2. </font> Посчитайте доли правильных ответов для `RandomForestClassifier` при Out-of-Bag оценке и на отложенной выборке. Округлите каждое до 3 знаков после запятой и введите через пробел.**"
   ]
  },
  {
   "cell_type": "code",
   "execution_count": 147,
   "metadata": {},
   "outputs": [],
   "source": [
    "save_answer_Array(2, [ans_2_01, ans_2_1])\n",
    "#write_answer_to_file(''' ВАШ КОД ЗДЕСЬ ''',\n",
    "#                     'answer4_2.txt')"
   ]
  },
  {
   "cell_type": "code",
   "execution_count": 102,
   "metadata": {},
   "outputs": [],
   "source": [
    "#!cat answer4_2.txt"
   ]
  },
  {
   "cell_type": "markdown",
   "metadata": {},
   "source": [
    "**3. Обучите логистическую регрессию (`LogisticRegression`) с параметром `C` по умолчанию и `random_state`=17 (для воспроизводимости). Посмотрите на долю правильных ответов на кросс-валидации (используйте объект `skf`, созданный ранее) и на выборке `(X_valid, y_valid)`. Для распараллеливания задайте `n_jobs=-1`.**"
   ]
  },
  {
   "cell_type": "code",
   "execution_count": 103,
   "metadata": {},
   "outputs": [],
   "source": [
    "from sklearn.linear_model import LogisticRegression, LogisticRegressionCV"
   ]
  },
  {
   "cell_type": "code",
   "execution_count": 104,
   "metadata": {},
   "outputs": [
    {
     "name": "stdout",
     "output_type": "stream",
     "text": [
      "Wall time: 1 s\n"
     ]
    }
   ],
   "source": [
    "%%time\n",
    "logit = LogisticRegression(C=1.0, random_state=17, n_jobs=-1).fit(X_train, y_train)"
   ]
  },
  {
   "cell_type": "code",
   "execution_count": 105,
   "metadata": {},
   "outputs": [
    {
     "data": {
      "text/plain": [
       "0.8660841292420239"
      ]
     },
     "execution_count": 105,
     "metadata": {},
     "output_type": "execute_result"
    }
   ],
   "source": [
    "logit.score(X_train, y_train)"
   ]
  },
  {
   "cell_type": "code",
   "execution_count": 106,
   "metadata": {},
   "outputs": [
    {
     "name": "stdout",
     "output_type": "stream",
     "text": [
      "Доля правильных ответов для LogisticRegression на кросс-валидации    0.866\n",
      "Доля правильных ответов для LogisticRegression на отложенной выборке 0.782\n"
     ]
    }
   ],
   "source": [
    "ans_3_0=test_KNeighbors(logit, X_train, y_train)\n",
    "ans_3_1=logit.score(X_valid, y_valid)\n",
    "print('Доля правильных ответов для LogisticRegression на кросс-валидации    {:.3f}'.format(ans_3_0))\n",
    "print('Доля правильных ответов для LogisticRegression на отложенной выборке {:.3f}'.format(ans_3_1))"
   ]
  },
  {
   "cell_type": "markdown",
   "metadata": {},
   "source": [
    "**Почитайте документацию к [LogisticRegressionCV](http://scikit-learn.org/stable/modules/generated/sklearn.linear_model.LogisticRegressionCV.html). Логистическая регрессия хорошо изучена, и для нее существуют алгоритмы быстрого подбора параметра регуляризации `C` (быстрее, чем с `GridSearchCV`).**\n",
    "\n",
    "**С помощью `LogisticRegressionCV` подберите параметр `C` для `LogisticRegression` сначала в широком диапазоне: 10 значений от 1e-4 до 1e2, используйте `logspace` из `NumPy`. Укажите у `LogisticRegressionCV` параметры `multi_class`='multinomial' и `random_state`=17. Для кросс-валидации используйте объект `skf`, созданный ранее. Для распараллеливания задайте `n_jobs=-1`.**\n",
    "\n",
    "**Нарисуйте кривые валидации по параметру `C`.**"
   ]
  },
  {
   "cell_type": "code",
   "execution_count": 107,
   "metadata": {},
   "outputs": [
    {
     "name": "stdout",
     "output_type": "stream",
     "text": [
      "Wall time: 25.9 s\n"
     ]
    }
   ],
   "source": [
    "%%time\n",
    "logit_c_values1 = np.logspace(-4, 2, 10)\n",
    "\n",
    "logit_grid_searcher1 = LogisticRegressionCV(Cs=logit_c_values1, cv=skf, multi_class='multinomial', \n",
    "                                            n_jobs=-1, random_state=17)\n",
    "logit_grid_searcher1.fit(X_train, y_train)"
   ]
  },
  {
   "cell_type": "code",
   "execution_count": 108,
   "metadata": {},
   "outputs": [
    {
     "data": {
      "text/plain": [
       "array([1.00000000e-04, 4.64158883e-04, 2.15443469e-03, 1.00000000e-02,\n",
       "       4.64158883e-02, 2.15443469e-01, 1.00000000e+00, 4.64158883e+00,\n",
       "       2.15443469e+01, 1.00000000e+02])"
      ]
     },
     "execution_count": 108,
     "metadata": {},
     "output_type": "execute_result"
    }
   ],
   "source": [
    "logit_c_values1"
   ]
  },
  {
   "cell_type": "code",
   "execution_count": null,
   "metadata": {},
   "outputs": [],
   "source": []
  },
  {
   "cell_type": "code",
   "execution_count": 109,
   "metadata": {},
   "outputs": [
    {
     "data": {
      "image/png": "[encoded data removed]",
      "text/plain": [
       "<Figure size 1080x504 with 1 Axes>"
      ]
     },
     "metadata": {
      "needs_background": "light"
     },
     "output_type": "display_data"
    }
   ],
   "source": [
    "#logit_grid_searcher1.scores_\n",
    "#print(logit_grid_searcher1.scores_[31])\n",
    "ascores = np.array(next(iter(logit_grid_searcher1.scores_.values())))\n",
    "\n",
    "#print(ascores)\n",
    "\n",
    "#print(ascores.mean(axis=0).argmax())\n",
    "#plt.plot(logit_c_values1, score_mean)\n",
    "plt.figure(figsize=(15, 7))\n",
    "for l in ascores:\n",
    "    plt.plot(logit_c_values1, l)\n",
    "plt.xscale('log')\n",
    "plt.grid(True)\n",
    "plt.title('Кривые валидации по параметру C.')\n",
    "\n",
    "plt.show()"
   ]
  },
  {
   "cell_type": "code",
   "execution_count": 110,
   "metadata": {},
   "outputs": [
    {
     "data": {
      "text/plain": [
       "{31, 33, 39, 50, 100, 127, 128, 207, 237, 241}"
      ]
     },
     "execution_count": 110,
     "metadata": {},
     "output_type": "execute_result"
    }
   ],
   "source": [
    "set(y_train)"
   ]
  },
  {
   "cell_type": "code",
   "execution_count": 111,
   "metadata": {},
   "outputs": [],
   "source": [
    "score = logit_grid_searcher1.score(X_valid, y_valid)"
   ]
  },
  {
   "cell_type": "markdown",
   "metadata": {},
   "source": [
    "Средние значения доли правильных ответов на кросс-валидации по каждому из 10 параметров `C`."
   ]
  },
  {
   "cell_type": "code",
   "execution_count": 112,
   "metadata": {},
   "outputs": [],
   "source": [
    "logit_mean_cv_scores1 = ascores.mean(axis=0) # ''' ВАШ КОД ЗДЕСЬ '''"
   ]
  },
  {
   "cell_type": "markdown",
   "metadata": {},
   "source": [
    "Выведите лучшее значение доли правильных ответов на кросс-валидации и соответствующее значение `C`."
   ]
  },
  {
   "cell_type": "code",
   "execution_count": 113,
   "metadata": {},
   "outputs": [
    {
     "name": "stdout",
     "output_type": "stream",
     "text": [
      "Выведите лучшее значение доли правильных ответов на кросс-валидации:0.7627517686365012\n",
      "и соответствующее значение C: 4.641588833612772\n"
     ]
    }
   ],
   "source": [
    "best_pos = logit_mean_cv_scores1.argmax() #''' ВАШ КОД ЗДЕСЬ '''\n",
    "print('Выведите лучшее значение доли правильных ответов на кросс-валидации:{}\\n'\n",
    "      'и соответствующее значение C: {}'.format(logit_mean_cv_scores1[best_pos], logit_c_values1[best_pos] ))"
   ]
  },
  {
   "cell_type": "markdown",
   "metadata": {},
   "source": [
    "Нарисуйте график зависимости доли правильных ответов на кросс-валидации от `C`."
   ]
  },
  {
   "cell_type": "code",
   "execution_count": 114,
   "metadata": {},
   "outputs": [
    {
     "data": {
      "image/png": "[encoded data removed]",
      "text/plain": [
       "<Figure size 1080x504 with 1 Axes>"
      ]
     },
     "metadata": {
      "needs_background": "light"
     },
     "output_type": "display_data"
    }
   ],
   "source": [
    "plt.figure(figsize=(15, 7))\n",
    "plt.plot(logit_c_values1, logit_mean_cv_scores1)\n",
    "plt.xscale('log')\n",
    "plt.grid(True)\n",
    "plt.title('График зависимости доли правильных ответов на кросс-валидации от C.')\n",
    "\n",
    "plt.show()"
   ]
  },
  {
   "cell_type": "markdown",
   "metadata": {},
   "source": [
    "**Теперь то же самое, только значения параметра `C` перебирайте в диапазоне `np.linspace`(0.1, 7, 20). Опять нарисуйте кривые валидации, определите максимальное значение доли правильных ответов на кросс-валидации.**"
   ]
  },
  {
   "cell_type": "code",
   "execution_count": 115,
   "metadata": {},
   "outputs": [
    {
     "name": "stdout",
     "output_type": "stream",
     "text": [
      "Wall time: 1min 8s\n"
     ]
    }
   ],
   "source": [
    "%%time\n",
    "logit_c_values2 = np.linspace(0.1, 7, 20)\n",
    "\n",
    "logit_grid_searcher2 = LogisticRegressionCV(Cs=logit_c_values2, cv=skf, multi_class='multinomial', \n",
    "                                            n_jobs=-1, random_state=17) # ''' ВАШ КОД ЗДЕСЬ '''\n",
    "logit_grid_searcher2.fit(X_train, y_train)"
   ]
  },
  {
   "cell_type": "markdown",
   "metadata": {},
   "source": [
    "Средние значения доли правильных ответов на кросс-валидации по каждому из 10 параметров `C`."
   ]
  },
  {
   "cell_type": "code",
   "execution_count": 116,
   "metadata": {},
   "outputs": [],
   "source": [
    "#''' ВАШ КОД ЗДЕСЬ '''\n",
    "ascores2 = np.array(next(iter(logit_grid_searcher2.scores_.values())))\n",
    "logit_mean_cv_scores2 = ascores2.mean(axis=0)"
   ]
  },
  {
   "cell_type": "markdown",
   "metadata": {},
   "source": [
    "Выведите лучшее значение доли правильных ответов на кросс-валидации и соответствующее значение `C`."
   ]
  },
  {
   "cell_type": "code",
   "execution_count": 117,
   "metadata": {},
   "outputs": [
    {
     "name": "stdout",
     "output_type": "stream",
     "text": [
      "Выведите лучшее значение доли правильных ответов на кросс-валидации:0.7638695627611528\n",
      "и соответствующее значение C: 1.5526315789473686\n"
     ]
    }
   ],
   "source": [
    "#''' ВАШ КОД ЗДЕСЬ '''\n",
    "best_pos2 = logit_mean_cv_scores2.argmax() #''' ВАШ КОД ЗДЕСЬ '''\n",
    "print('Выведите лучшее значение доли правильных ответов на кросс-валидации:{}\\n'\n",
    "      'и соответствующее значение C: {}'.format(logit_mean_cv_scores2[best_pos2], logit_c_values2[best_pos2] ))"
   ]
  },
  {
   "cell_type": "markdown",
   "metadata": {},
   "source": [
    "Нарисуйте график зависимости доли правильных ответов на кросс-валидации от `C`."
   ]
  },
  {
   "cell_type": "code",
   "execution_count": 118,
   "metadata": {},
   "outputs": [
    {
     "data": {
      "image/png": "[encoded data removed]",
      "text/plain": [
       "<Figure size 1080x504 with 1 Axes>"
      ]
     },
     "metadata": {
      "needs_background": "light"
     },
     "output_type": "display_data"
    }
   ],
   "source": [
    "plt.figure(figsize=(15, 7))\n",
    "plt.plot(logit_c_values2, logit_mean_cv_scores2)\n",
    "#plt.xscale('log')\n",
    "plt.grid(True)\n",
    "plt.title('График зависимости доли правильных ответов на кросс-валидации от C.')\n",
    "plt.show()"
   ]
  },
  {
   "cell_type": "markdown",
   "metadata": {},
   "source": [
    "Выведите долю правильных ответов на выборке `(X_valid, y_valid)` для логистической регрессии с лучшим найденным значением `C`."
   ]
  },
  {
   "cell_type": "code",
   "execution_count": 119,
   "metadata": {},
   "outputs": [
    {
     "data": {
      "text/plain": [
       "array([1.55263158, 1.55263158, 1.55263158, 1.55263158, 1.55263158,\n",
       "       1.55263158, 1.55263158, 1.55263158, 1.55263158, 1.55263158])"
      ]
     },
     "execution_count": 119,
     "metadata": {},
     "output_type": "execute_result"
    }
   ],
   "source": [
    "logit_grid_searcher2.C_"
   ]
  },
  {
   "cell_type": "code",
   "execution_count": 120,
   "metadata": {},
   "outputs": [
    {
     "name": "stdout",
     "output_type": "stream",
     "text": [
      "0.7795686181559611\n",
      "0.7795686181559611\n"
     ]
    }
   ],
   "source": [
    "logit_cv_acc = accuracy_score(y_valid, logit_grid_searcher2.predict(X_valid))\n",
    "#''' ВАШ КОД ЗДЕСЬ '''\n",
    "# Демонстрация того, что результат одинаков.\n",
    "print(logit_cv_acc)\n",
    "print(logit_grid_searcher2.score(X_valid, y_valid))"
   ]
  },
  {
   "cell_type": "markdown",
   "metadata": {},
   "source": [
    "**<font color='red'>Вопрос 3. </font>Посчитайте доли правильных ответов для `logit_grid_searcher2` на кросс-валидации для лучшего значения параметра `C` и на отложенной выборке. Округлите каждое до 3 знаков после запятой и выведите через пробел.**"
   ]
  },
  {
   "cell_type": "code",
   "execution_count": 121,
   "metadata": {},
   "outputs": [
    {
     "name": "stdout",
     "output_type": "stream",
     "text": [
      "0.764, 0.780\n"
     ]
    }
   ],
   "source": [
    "#''' ВАШ КОД ЗДЕСЬ '''\n",
    "ans_3_0 = logit_mean_cv_scores2[best_pos2]\n",
    "ans_3_1 = logit_grid_searcher2.score(X_valid, y_valid)\n",
    "print('{:.3f}, {:.3f}'.format(ans_3_0, ans_3_1))\n",
    "save_answer_Array(3, [ans_3_0, ans_3_1])"
   ]
  },
  {
   "cell_type": "markdown",
   "metadata": {},
   "source": [
    "**4. Обучите линейный SVM (`LinearSVC`) с параметром `C`=1 и `random_state`=17 (для воспроизводимости). Посмотрите на долю правильных ответов на кросс-валидации (используйте объект `skf`, созданный ранее) и на выборке `(X_valid, y_valid)`.**"
   ]
  },
  {
   "cell_type": "code",
   "execution_count": 122,
   "metadata": {},
   "outputs": [],
   "source": [
    "from sklearn.svm import LinearSVC"
   ]
  },
  {
   "cell_type": "code",
   "execution_count": 123,
   "metadata": {},
   "outputs": [
    {
     "name": "stdout",
     "output_type": "stream",
     "text": [
      "доля правильных ответов на кросс-валидации    0.890\n",
      "доля правильных ответов на отложенной выборке 0.777\n"
     ]
    }
   ],
   "source": [
    "#''' ВАШ КОД ЗДЕСЬ '''\n",
    "svm = LinearSVC(C=1, random_state=17).fit(X_train, y_train)\n",
    "print('доля правильных ответов на кросс-валидации    {:.3f}'.format(test_KNeighbors(svm, X_train, y_train)))\n",
    "print('доля правильных ответов на отложенной выборке {:.3f}'.format(svm.score(X_valid, y_valid)))"
   ]
  },
  {
   "cell_type": "markdown",
   "metadata": {},
   "source": [
    "**С помощью `GridSearchCV` подберите параметр `C` для SVM сначала в широком диапазоне: 10 значений от 1e-4 до 1e4, используйте `linspace` из NumPy. Нарисуйте кривые валидации.**"
   ]
  },
  {
   "cell_type": "code",
   "execution_count": 16,
   "metadata": {},
   "outputs": [
    {
     "name": "stdout",
     "output_type": "stream",
     "text": [
      "Wall time: 1min 1s\n"
     ]
    }
   ],
   "source": [
    "%%time\n",
    "svm_params1 = {'C': np.linspace(1e-4, 1e4, 10)}\n",
    "\n",
    "svm_grid_searcher1 = GridSearchCV(svm, svm_params1)\n",
    "#''' ВАШ КОД ЗДЕСЬ '''\n",
    "svm_grid_searcher1.fit(X_train, y_train)"
   ]
  },
  {
   "cell_type": "markdown",
   "metadata": {},
   "source": [
    "Выведите лучшее значение доли правильных ответов на кросс-валидации и соответствующее значение `C`."
   ]
  },
  {
   "cell_type": "code",
   "execution_count": 18,
   "metadata": {},
   "outputs": [
    {
     "name": "stdout",
     "output_type": "stream",
     "text": [
      "0.692237350132087\n",
      "{'C': 3333.3334000000004}\n"
     ]
    }
   ],
   "source": [
    "#''' ВАШ КОД ЗДЕСЬ '''\n",
    "print(svm_grid_searcher1.best_score_)\n",
    "print(svm_grid_searcher1.best_params_)"
   ]
  },
  {
   "cell_type": "markdown",
   "metadata": {},
   "source": [
    "Нарисуйте график зависимости доли правильных ответов на кросс-валидации от `C`."
   ]
  },
  {
   "cell_type": "code",
   "execution_count": 27,
   "metadata": {},
   "outputs": [
    {
     "data": {
      "image/png": "[encoded data removed]",
      "text/plain": [
       "<Figure size 1080x504 with 1 Axes>"
      ]
     },
     "metadata": {
      "needs_background": "light"
     },
     "output_type": "display_data"
    }
   ],
   "source": [
    "#plot_validation_curves(svm_params1['C'], svm_grid_searcher1.cv_results_)\n",
    "\n",
    "plt.figure(figsize=(15, 7))\n",
    "plt.plot(svm_params1['C'], svm_grid_searcher1.cv_results_['mean_test_score'])\n",
    "#plt.xscale('log')\n",
    "plt.grid(True)\n",
    "plt.title('График зависимости доли правильных ответов на кросс-валидации от C.');"
   ]
  },
  {
   "cell_type": "markdown",
   "metadata": {},
   "source": [
    "**Но мы помним, что с параметром регуляризации по умолчанию (С=1) на кросс-валидации доля правильных ответов выше. Это тот случай (не редкий), когда можно ошибиться и перебирать параметры не в том диапазоне (причина в том, что мы взяли равномерную сетку на большом интервале и упустили действительно хороший интервал значений `C`). Здесь намного осмысленней подбирать `C` в районе 1, к тому же, так модель быстрее обучается, чем при больших `C`. **\n",
    "\n",
    "**С помощью `GridSearchCV` подберите параметр `C` для SVM в диапазоне (1e-3, 1), 30 значений, используйте `linspace` из NumPy. Нарисуйте кривые валидации.**"
   ]
  },
  {
   "cell_type": "code",
   "execution_count": 156,
   "metadata": {},
   "outputs": [
    {
     "name": "stdout",
     "output_type": "stream",
     "text": [
      "Wall time: 1min 34s\n"
     ]
    }
   ],
   "source": [
    "%%time\n",
    "svm_params2 = {'C': np.linspace(1e-3, 1, 30)}\n",
    "\n",
    "svm_grid_searcher2 = GridSearchCV(svm, svm_params2)\n",
    "#''' ВАШ КОД ЗДЕСЬ '''\n",
    "svm_grid_searcher2.fit(X_train, y_train)"
   ]
  },
  {
   "cell_type": "markdown",
   "metadata": {},
   "source": [
    "Выведите лучшее значение доли правильных ответов на кросс-валидации и соответствующее значение `C`."
   ]
  },
  {
   "cell_type": "code",
   "execution_count": 157,
   "metadata": {},
   "outputs": [
    {
     "name": "stdout",
     "output_type": "stream",
     "text": [
      "0.7661044503149766\n",
      "{'C': 0.13879310344827586}\n"
     ]
    }
   ],
   "source": [
    "#''' ВАШ КОД ЗДЕСЬ '''\n",
    "print(svm_grid_searcher2.best_score_)\n",
    "print(svm_grid_searcher2.best_params_)"
   ]
  },
  {
   "cell_type": "markdown",
   "metadata": {},
   "source": [
    "Нарисуйте график зависимости доли правильных ответов на кросс-валидации от С."
   ]
  },
  {
   "cell_type": "code",
   "execution_count": 30,
   "metadata": {},
   "outputs": [
    {
     "data": {
      "image/png": "[encoded data removed]",
      "text/plain": [
       "<Figure size 1080x504 with 1 Axes>"
      ]
     },
     "metadata": {
      "needs_background": "light"
     },
     "output_type": "display_data"
    }
   ],
   "source": [
    "#plot_validation_curves(svm_params2['C'], svm_grid_searcher2.cv_results_)\n",
    "plt.figure(figsize=(15, 7))\n",
    "plt.plot(svm_params2['C'], svm_grid_searcher2.cv_results_['mean_test_score'])\n",
    "#plt.xscale('log')\n",
    "plt.grid(True)\n",
    "plt.title('График зависимости доли правильных ответов на кросс-валидации от C.');"
   ]
  },
  {
   "cell_type": "markdown",
   "metadata": {},
   "source": [
    "Выведите долю правильных ответов на выборке `(X_valid, y_valid)` для `LinearSVC` с лучшим найденным значением `C`."
   ]
  },
  {
   "cell_type": "code",
   "execution_count": 160,
   "metadata": {},
   "outputs": [
    {
     "name": "stdout",
     "output_type": "stream",
     "text": [
      "доля правильных ответов на отложенной выборке 0.782\n"
     ]
    }
   ],
   "source": [
    "svm_cv_acc = accuracy_score(y_valid, svm_grid_searcher2.best_estimator_.predict(X_valid))\n",
    "#''' ВАШ КОД ЗДЕСЬ '''\n",
    "print('доля правильных ответов на отложенной выборке {:.3f}'.format(svm_cv_acc))"
   ]
  },
  {
   "cell_type": "markdown",
   "metadata": {},
   "source": [
    "**<font color='red'>Вопрос 4. </font> Посчитайте доли правильных ответов для `svm_grid_searcher2` на кросс-валидации для лучшего значения параметра `C` и на отложенной выборке. Округлите каждое до 3 знаков после запятой и выведите через пробел.**"
   ]
  },
  {
   "cell_type": "code",
   "execution_count": 153,
   "metadata": {},
   "outputs": [
    {
     "data": {
      "text/plain": [
       "GridSearchCV(cv='warn', error_score='raise-deprecating',\n",
       "             estimator=LinearSVC(C=1, class_weight=None, dual=True,\n",
       "                                 fit_intercept=True, intercept_scaling=1,\n",
       "                                 loss='squared_hinge', max_iter=1000,\n",
       "                                 multi_class='ovr', penalty='l2',\n",
       "                                 random_state=17, tol=0.0001, verbose=0),\n",
       "             iid='warn', n_jobs=None,\n",
       "             param_grid={'C': array([0.001     , 0.03544828, 0.06989655, 0.10434483, 0.1387931 ,\n",
       "       0.17324138, 0.20768966, 0.24213793, 0.27658621, 0.31103448,\n",
       "       0.34548276, 0.37993103, 0.41437931, 0.44882759, 0.48327586,\n",
       "       0.51772414, 0.55217241, 0.58662069, 0.62106897, 0.65551724,\n",
       "       0.68996552, 0.72441379, 0.75886207, 0.79331034, 0.82775862,\n",
       "       0.8622069 , 0.89665517, 0.93110345, 0.96555172, 1.        ])},\n",
       "             pre_dispatch='2*n_jobs', refit=True, return_train_score=False,\n",
       "             scoring=None, verbose=0)"
      ]
     },
     "execution_count": 153,
     "metadata": {},
     "output_type": "execute_result"
    }
   ],
   "source": [
    "svm_grid_searcher2"
   ]
  },
  {
   "cell_type": "code",
   "execution_count": 163,
   "metadata": {},
   "outputs": [
    {
     "name": "stdout",
     "output_type": "stream",
     "text": [
      "0.764, 0.782\n"
     ]
    }
   ],
   "source": [
    "#''' ВАШ КОД ЗДЕСЬ '''\n",
    "#ans_4_0 = test_KNeighbors(svm_grid_searcher2, X_train, y_train)\n",
    "\n",
    "#ascores3 = np.array(next(iter(svm_grid_searcher2.scores_.values()))).mean(axis=0)\n",
    "#logit_mean_cv_scores2 = ascores3.mean(axis=0)\n",
    "\n",
    "#ans_4_00 = ans_3_0 = logit_mean_cv_scores2[best_pos2]\n",
    "\n",
    "\n",
    "ans_4_00 = cross_val_score(svm_grid_searcher2.best_estimator_, X_train, y_train, cv=skf).mean()\n",
    "\n",
    "#ans_4_1 = svm_grid_searcher2.best_estimator_.score(X_valid, y_valid)\n",
    "\n",
    "print('{:.3f}, {:.3f}'.format(ans_4_00, svm_cv_acc))\n",
    "#save_answer_Array(4, [ans_4_00, ans_4_1])"
   ]
  },
  {
   "cell_type": "code",
   "execution_count": 162,
   "metadata": {},
   "outputs": [],
   "source": [
    "save_answer_Array(4, [ans_4_00, svm_cv_acc])"
   ]
  },
  {
   "cell_type": "markdown",
   "metadata": {},
   "source": [
    "## Часть 2. Выбор параметров – длины сессии и ширины окна"
   ]
  },
  {
   "cell_type": "markdown",
   "metadata": {},
   "source": [
    "**Возьмем `LinearSVC`, показавший лучшее качество на кросс-валидации в 1 части, и проверим его работу еще на 8 выборках для 10 пользователей (с разными сочетаниями параметров *session_length* и *window_size*). Поскольку тут уже вычислений побольше, мы не будем каждый раз заново подбирать параметр регуляризации `C`.**\n",
    "\n",
    "**Определите функцию `model_assessment`, ее документация описана ниже. Обратите внимание на все детали. Например, на то, что разбиение  выборки с `train_test_split` должно быть стратифицированным. Не теряйте нигде `random_state`.**"
   ]
  },
  {
   "cell_type": "code",
   "execution_count": 44,
   "metadata": {},
   "outputs": [],
   "source": [
    "def model_assessment(estimator, path_to_X_pickle, path_to_y_pickle, cv, random_state=17, test_size=0.3):\n",
    "    '''\n",
    "    Estimates CV-accuracy for (1 - test_size) share of (X_sparse, y) \n",
    "    loaded from path_to_X_pickle and path_to_y_pickle and holdout accuracy for (test_size) \n",
    "    share of (X_sparse, y).\n",
    "    The split is made with stratified train_test_split with params random_state and test_size.\n",
    "    \n",
    "    :param estimator – Scikit-learn estimator (classifier or regressor)\n",
    "    :param path_to_X_pickle – path to pickled sparse X (instances and their features)\n",
    "    :param path_to_y_pickle – path to pickled y (responses)\n",
    "    :param cv – cross-validation as in cross_val_score (use StratifiedKFold here)\n",
    "    :param random_state –  for train_test_split\n",
    "    :param test_size –  for train_test_split\n",
    "    \n",
    "    :returns mean CV-accuracy for (X_train, y_train) and accuracy for (X_valid, y_valid) \n",
    "    where (X_train, y_train)\n",
    "    and (X_valid, y_valid) are (1 - test_size) and (testsize) shares of (X_sparse, y).\n",
    "    '''\n",
    "    start_time = time.time()\n",
    "    with open(path_to_X_pickle, 'rb') as f:\n",
    "        X = pickle.load(f)\n",
    "    with open(path_to_y_pickle, 'rb') as f:\n",
    "        y = pickle.load(f)\n",
    "    \n",
    "    X_train, X_valid, y_train, y_valid = train_test_split(X, y, test_size=test_size, \n",
    "                                                     random_state=random_state, stratify=y)\n",
    "    estimator.fit(X_train, y_train)\n",
    "    return (cross_val_score(estimator, X_train, y_train, cv=cv).mean(), \n",
    "            estimator.score(X_valid, y_valid),\n",
    "            time.time() - start_time\n",
    "           )\n",
    "    #''' ВАШ КОД ЗДЕСЬ '''"
   ]
  },
  {
   "cell_type": "markdown",
   "metadata": {},
   "source": [
    "**Убедитесь, что функция работает.**"
   ]
  },
  {
   "cell_type": "code",
   "execution_count": 35,
   "metadata": {},
   "outputs": [
    {
     "data": {
      "text/plain": [
       "LinearSVC(C=0.13879310344827586, class_weight=None, dual=True,\n",
       "          fit_intercept=True, intercept_scaling=1, loss='squared_hinge',\n",
       "          max_iter=1000, multi_class='ovr', penalty='l2', random_state=17,\n",
       "          tol=0.0001, verbose=0)"
      ]
     },
     "execution_count": 35,
     "metadata": {},
     "output_type": "execute_result"
    }
   ],
   "source": [
    "svm_grid_searcher2.best_estimator_"
   ]
  },
  {
   "cell_type": "code",
   "execution_count": 39,
   "metadata": {},
   "outputs": [
    {
     "data": {
      "text/plain": [
       "(0.7641736364262918, 0.7817018250770325)"
      ]
     },
     "execution_count": 39,
     "metadata": {},
     "output_type": "execute_result"
    }
   ],
   "source": [
    "model_assessment(svm_grid_searcher2.best_estimator_, \n",
    "                 os.path.join(PATH_TO_DATA, 'X_sparse_10users.pkl'),\n",
    "        os.path.join(PATH_TO_DATA, 'y_10users.pkl'), skf, random_state=17, test_size=0.3)"
   ]
  },
  {
   "cell_type": "markdown",
   "metadata": {},
   "source": [
    "**Примените функцию *model_assessment* для лучшего алгоритма из предыдущей части (а именно, `svm_grid_searcher2.best_estimator_`) и 9 выборок вида с разными сочетаниями параметров *session_length* и *window_size* для 10 пользователей. Выведите в цикле параметры *session_length* и *window_size*, а также результат вывода функции *model_assessment*. \n",
    "Удобно сделать так, чтоб *model_assessment* возвращала 3-им элементом время, за которое она выполнилась. На моем ноуте этот участок кода выполнился за 20 секунд. Но со 150 пользователями каждая итерация занимает уже несколько минут.**"
   ]
  },
  {
   "cell_type": "markdown",
   "metadata": {},
   "source": [
    "Здесь для удобства стоит создать копии ранее созданных pickle-файлов X_sparse_10users.pkl, X_sparse_150users.pkl, y_10users.pkl и y_150users.pkl, добавив к их названиям s10_w10, что означает длину сессии 10 и ширину окна 10. "
   ]
  },
  {
   "cell_type": "code",
   "execution_count": 42,
   "metadata": {},
   "outputs": [
    {
     "name": "stdout",
     "output_type": "stream",
     "text": [
      "        1 file(s) copied.\n",
      "        1 file(s) copied.\n",
      "        1 file(s) copied.\n",
      "        1 file(s) copied.\n"
     ]
    }
   ],
   "source": [
    "!copy $PATH_TO_DATA\\X_sparse_10users.pkl $PATH_TO_DATA\\X_sparse_10users_s10_w10.pkl \n",
    "!copy $PATH_TO_DATA\\X_sparse_150users.pkl $PATH_TO_DATA\\X_sparse_150users_s10_w10.pkl \n",
    "!copy $PATH_TO_DATA\\y_10users.pkl $PATH_TO_DATA\\y_10users_s10_w10.pkl \n",
    "!copy $PATH_TO_DATA\\y_150users.pkl $PATH_TO_DATA\\y_150users_s10_w10.pkl "
   ]
  },
  {
   "cell_type": "code",
   "execution_count": 46,
   "metadata": {},
   "outputs": [
    {
     "name": "stdout",
     "output_type": "stream",
     "text": [
      "(0.8259531982725311, 0.8400094809196492, 4.319108486175537)\n",
      "(0.7641736364262918, 0.7817018250770325, 2.63682222366333)\n",
      "(0.8504951852074757, 0.8544881367181019, 6.4707136154174805)\n",
      "(0.8001385385477496, 0.8075327692052431, 3.9295408725738525)\n",
      "(0.7512069688975528, 0.7629002820640451, 2.2388601303100586)\n",
      "(0.8706948653050466, 0.8764817449027975, 9.03088116645813)\n",
      "(0.816431449231953, 0.8253911806543386, 4.832031011581421)\n",
      "(0.773092677463695, 0.7871028923660502, 2.955077886581421)\n",
      "(0.7230970052618901, 0.7367235656709341, 1.92578125)\n",
      "Wall time: 38.4 s\n"
     ]
    }
   ],
   "source": [
    "%%time\n",
    "nusers = 10\n",
    "estimator = svm_grid_searcher2.best_estimator_\n",
    "\n",
    "for window_size, session_length in itertools.product([10, 7, 5], [15, 10, 7, 5]):\n",
    "    if window_size <= session_length:\n",
    "        path_to_X_pkl = os.path.join(PATH_TO_DATA, 'X_sparse_{}users_s{:02d}_w{:02d}.pkl'.format(nusers, session_length, window_size))\n",
    "        path_to_y_pkl = os.path.join(PATH_TO_DATA, 'y_{}users_s{:02d}_w{:02d}.pkl'.format(nusers, session_length, window_size))\n",
    "        print (model_assessment(estimator, path_to_X_pkl, path_to_y_pkl, skf))"
   ]
  },
  {
   "cell_type": "markdown",
   "metadata": {},
   "source": [
    "**<font color='red'>Вопрос 5. </font> Посчитайте доли правильных ответов для `LinearSVC` с настроенным параметром `C` и выборки `X_sparse_10users_s15_w5`. Укажите доли правильных ответов на кросс-валидации и на отложенной выборке. Округлите каждое до 3 знаков после запятой и выведите через пробел.**"
   ]
  },
  {
   "cell_type": "code",
   "execution_count": 49,
   "metadata": {},
   "outputs": [
    {
     "name": "stdout",
     "output_type": "stream",
     "text": [
      "Wall time: 7.83 s\n"
     ]
    }
   ],
   "source": [
    "%%time\n",
    "#''' ВАШ КОД ЗДЕСЬ '''\n",
    "session_length, window_size, nusers = 15, 5, 10\n",
    "path_to_X_pkl = os.path.join(PATH_TO_DATA, 'X_sparse_{}users_s{:02d}_w{:02d}.pkl'.format(nusers, session_length, window_size))\n",
    "path_to_y_pkl = os.path.join(PATH_TO_DATA, 'y_{}users_s{:02d}_w{:02d}.pkl'.format(nusers, session_length, window_size))\n",
    "ans_5 = model_assessment(estimator, path_to_X_pkl, path_to_y_pkl, skf)\n"
   ]
  },
  {
   "cell_type": "code",
   "execution_count": 83,
   "metadata": {},
   "outputs": [
    {
     "name": "stdout",
     "output_type": "stream",
     "text": [
      "0.871, 0.876\n"
     ]
    }
   ],
   "source": [
    "print('{:.3f}, {:.3f}'.format(ans_5[0], ans_5[1]))\n",
    "save_answer_Array(5, [ans_5[0], ans_5[1]])"
   ]
  },
  {
   "cell_type": "markdown",
   "metadata": {},
   "source": [
    "**Прокомментируйте полученные результаты. Сравните для 150 пользователей доли правильных ответов на кросс-валидации и оставленной выборке для сочетаний параметров (*session_length, window_size*): (5,5), (7,7) и (10,10). На среднем ноуте это может занять до часа – запаситесь терпением, это Data Science :) **\n",
    "\n",
    "**Сделайте вывод о том, как качество классификации зависит от длины сессии и ширины окна.**"
   ]
  },
  {
   "cell_type": "code",
   "execution_count": null,
   "metadata": {
    "collapsed": true
   },
   "outputs": [],
   "source": [
    "%%time\n",
    "nusers = 150\n",
    "estimator = svm_grid_searcher2.best_estimator_\n",
    "\n",
    "for window_size, session_length in [(5,5), (7,7), (10,10)]:\n",
    "    path_to_X_pkl = os.path.join(PATH_TO_DATA, 'X_sparse_{}users_s{:02d}_w{:02d}.pkl'.format(nusers, session_length, window_size))\n",
    "    path_to_y_pkl = os.path.join(PATH_TO_DATA, 'y_{}users_s{:02d}_w{:02d}.pkl'.format(nusers, session_length, window_size))\n",
    "    print (model_assessment(estimator, path_to_X_pkl, path_to_y_pkl, skf))"
   ]
  },
  {
   "cell_type": "markdown",
   "metadata": {},
   "source": [
    "**<font color='red'>Вопрос 6. </font> Посчитайте доли правильных ответов для `LinearSVC` с настроенным параметром `C` и выборки `X_sparse_150users`. Укажите доли правильных ответов на кросс-валидации и на отложенной выборке. Округлите каждое до 3 знаков после запятой и выведите через пробел.**"
   ]
  },
  {
   "cell_type": "code",
   "execution_count": 177,
   "metadata": {},
   "outputs": [
    {
     "name": "stdout",
     "output_type": "stream",
     "text": [
      "Wall time: 8min 1s\n"
     ]
    }
   ],
   "source": [
    "%%time\n",
    "#''' ВАШ КОД ЗДЕСЬ '''\n",
    "session_length, window_size, nusers = 10, 10, 150\n",
    "path_to_X_pkl = os.path.join(PATH_TO_DATA, 'X_sparse_{}users_s{:02d}_w{:02d}.pkl'.format(nusers, session_length, window_size))\n",
    "path_to_y_pkl = os.path.join(PATH_TO_DATA, 'y_{}users_s{:02d}_w{:02d}.pkl'.format(nusers, session_length, window_size))\n",
    "ans_6 = model_assessment(estimator, path_to_X_pkl, path_to_y_pkl, skf)"
   ]
  },
  {
   "cell_type": "code",
   "execution_count": 178,
   "metadata": {},
   "outputs": [
    {
     "name": "stdout",
     "output_type": "stream",
     "text": [
      "0.462, 0.484\n"
     ]
    }
   ],
   "source": [
    "print('{:.3f}, {:.3f}'.format(ans_6[0], ans_6[1]))\n",
    "save_answer_Array(6, [ans_6[0], ans_6[1]])"
   ]
  },
  {
   "cell_type": "markdown",
   "metadata": {},
   "source": [
    "## Часть 3. Идентификация  конкретного пользователя и кривые обучения"
   ]
  },
  {
   "cell_type": "markdown",
   "metadata": {},
   "source": [
    "**Поскольку может разочаровать, что многоклассовая доля правильных ответов на выборке из 150 пользовалей невелика, порадуемся тому, что конкретного пользователя можно идентифицировать достаточно хорошо. **"
   ]
  },
  {
   "cell_type": "markdown",
   "metadata": {},
   "source": [
    "**Загрузим сериализованные ранее объекты *X_sparse_150users* и *y_150users*, соответствующие обучающей выборке для 150 пользователей с параметрами (*session_length, window_size*) = (10,10). Так же точно разобьем их на 70% и 30%.**"
   ]
  },
  {
   "cell_type": "code",
   "execution_count": 52,
   "metadata": {},
   "outputs": [],
   "source": [
    "with open(os.path.join(PATH_TO_DATA, 'X_sparse_150users.pkl'), 'rb') as X_sparse_150users_pkl:\n",
    "     X_sparse_150users = pickle.load(X_sparse_150users_pkl)\n",
    "with open(os.path.join(PATH_TO_DATA, 'y_150users.pkl'), 'rb') as y_150users_pkl:\n",
    "    y_150users = pickle.load(y_150users_pkl)"
   ]
  },
  {
   "cell_type": "code",
   "execution_count": 53,
   "metadata": {},
   "outputs": [],
   "source": [
    "X_train_150, X_valid_150, y_train_150, y_valid_150 = train_test_split(X_sparse_150users, \n",
    "                                                                      y_150users, test_size=0.3, \n",
    "                                                     random_state=17, stratify=y_150users)"
   ]
  },
  {
   "cell_type": "markdown",
   "metadata": {},
   "source": [
    "**Обучите `LogisticRegressionCV` для одного значения параметра `C` (лучшего на кросс-валидации в 1 части, используйте точное значение, не на глаз). Теперь будем решать 150 задач \"Один-против-Всех\", поэтому укажите аргумент `multi_class`='ovr'. Как всегда, где возможно, указывайте `n_jobs=-1` и `random_state`=17.**"
   ]
  },
  {
   "cell_type": "code",
   "execution_count": 61,
   "metadata": {},
   "outputs": [
    {
     "name": "stdout",
     "output_type": "stream",
     "text": [
      "Wall time: 6min 23s\n"
     ]
    }
   ],
   "source": [
    "%%time\n",
    "logit_cv_150users = LogisticRegressionCV(Cs=[0.13879310344827586], cv=skf, multi_class='ovr', \n",
    "                                            n_jobs=-1, random_state=17)\n",
    "#''' ВАШ КОД ЗДЕСЬ '''\n",
    "logit_cv_150users.fit(X_train_150, y_train_150)"
   ]
  },
  {
   "cell_type": "markdown",
   "metadata": {},
   "source": [
    "**Посмотрите на средние доли правильных ответов на кросс-валидации в задаче идентификации каждого пользователя по отдельности.**"
   ]
  },
  {
   "cell_type": "code",
   "execution_count": 73,
   "metadata": {},
   "outputs": [
    {
     "name": "stdout",
     "output_type": "stream",
     "text": [
      "User 6, CV score: 0.9954852141128171\n",
      "User 13, CV score: 0.9960171401128292\n",
      "User 15, CV score: 0.9948806948644039\n",
      "User 16, CV score: 0.9912734861939572\n",
      "User 28, CV score: 0.9893028298861936\n",
      "User 31, CV score: 0.9945470980004254\n",
      "User 33, CV score: 0.9933689093092516\n",
      "User 39, CV score: 0.9854972455754702\n",
      "User 46, CV score: 0.9977480444318939\n",
      "User 49, CV score: 0.9944744524596446\n",
      "User 50, CV score: 0.9942552871914891\n",
      "User 53, CV score: 0.9933901038037072\n",
      "User 65, CV score: 0.996903490376949\n",
      "User 66, CV score: 0.9949329091396398\n",
      "User 82, CV score: 0.9963300277334731\n",
      "User 85, CV score: 0.9963091489890576\n",
      "User 89, CV score: 0.9903245941272175\n",
      "User 92, CV score: 0.994244675898179\n",
      "User 100, CV score: 0.9947556519752707\n",
      "User 102, CV score: 0.99097094156892\n",
      "User 103, CV score: 0.9788453899311049\n",
      "User 105, CV score: 0.9965176603516094\n",
      "User 106, CV score: 0.99390097671818\n",
      "User 118, CV score: 0.9901890949257263\n",
      "User 119, CV score: 0.9963196048273691\n",
      "User 120, CV score: 0.9940048483649789\n",
      "User 126, CV score: 0.9948180959293614\n",
      "User 127, CV score: 0.9902618353711804\n",
      "User 128, CV score: 0.9839744482264273\n",
      "User 138, CV score: 0.9972474868949099\n",
      "User 158, CV score: 0.9970390365567302\n",
      "User 160, CV score: 0.9966533150080994\n",
      "User 165, CV score: 0.9972163683175069\n",
      "User 172, CV score: 0.9964551510071503\n",
      "User 177, CV score: 0.9965801803242481\n",
      "User 203, CV score: 0.9970180633816884\n",
      "User 207, CV score: 0.9868421833003219\n",
      "User 223, CV score: 0.9964759546811113\n",
      "User 233, CV score: 0.9962362162644479\n",
      "User 235, CV score: 0.996747046566627\n",
      "User 236, CV score: 0.989886564346771\n",
      "User 237, CV score: 0.9889062296946426\n",
      "User 238, CV score: 0.9962674946628457\n",
      "User 240, CV score: 0.9957878299163595\n",
      "User 241, CV score: 0.9960902520186058\n",
      "User 242, CV score: 0.9948703194106366\n",
      "User 245, CV score: 0.9958609035758387\n",
      "User 246, CV score: 0.9971224202796085\n",
      "User 249, CV score: 0.9951519233187929\n",
      "User 252, CV score: 0.9963821475780826\n",
      "User 254, CV score: 0.9912840500349307\n",
      "User 256, CV score: 0.9959964119833694\n",
      "User 258, CV score: 0.9957045164238926\n",
      "User 259, CV score: 0.9951310963927104\n",
      "User 260, CV score: 0.9972265558581149\n",
      "User 261, CV score: 0.9893756308819731\n",
      "User 263, CV score: 0.9925034285835078\n",
      "User 264, CV score: 0.9966325350603066\n",
      "User 269, CV score: 0.9867171268391535\n",
      "User 270, CV score: 0.9881558392088733\n",
      "User 273, CV score: 0.9943489858178093\n",
      "User 287, CV score: 0.9902202846816341\n",
      "User 294, CV score: 0.9959443536371788\n",
      "User 298, CV score: 0.9908772342106072\n",
      "User 301, CV score: 0.9969452197736154\n",
      "User 308, CV score: 0.9955585332919252\n",
      "User 315, CV score: 0.9972684315037404\n",
      "User 318, CV score: 0.9955688433553241\n",
      "User 327, CV score: 0.9966428165574942\n",
      "User 332, CV score: 0.996799245847687\n",
      "User 333, CV score: 0.9959027181970922\n",
      "User 339, CV score: 0.996809560751129\n",
      "User 340, CV score: 0.996653117414854\n",
      "User 342, CV score: 0.9921073737193565\n",
      "User 344, CV score: 0.9967574743127741\n",
      "User 351, CV score: 0.9922843766321043\n",
      "User 356, CV score: 0.9972370780348884\n",
      "User 361, CV score: 0.9966324406296803\n",
      "User 363, CV score: 0.9963508314074341\n",
      "User 411, CV score: 0.9901681977692324\n",
      "User 417, CV score: 0.9967679582432502\n",
      "User 425, CV score: 0.9941926596902354\n",
      "User 430, CV score: 0.9959962710484999\n",
      "User 435, CV score: 0.9971536986780062\n",
      "User 436, CV score: 0.9950893195437075\n",
      "User 440, CV score: 0.9970806860428992\n",
      "User 444, CV score: 0.9971744742598028\n",
      "User 475, CV score: 0.9893026894253708\n",
      "User 476, CV score: 0.996715801100437\n",
      "User 486, CV score: 0.9952977984480983\n",
      "User 515, CV score: 0.9941405824579196\n",
      "User 533, CV score: 0.9935253860517811\n",
      "User 561, CV score: 0.9843818679327133\n",
      "User 563, CV score: 0.9968719858190944\n",
      "User 564, CV score: 0.9951622614743564\n",
      "User 568, CV score: 0.9918259054319799\n",
      "User 569, CV score: 0.9887814739893385\n",
      "User 570, CV score: 0.9981129158023206\n",
      "User 573, CV score: 0.9909502468457143\n",
      "User 575, CV score: 0.9896262300035249\n",
      "User 576, CV score: 0.9943803818989552\n",
      "User 580, CV score: 0.9859246965207674\n",
      "User 583, CV score: 0.9797727436611842\n",
      "User 584, CV score: 0.9809407031475502\n",
      "User 600, CV score: 0.9910233025671619\n",
      "User 603, CV score: 0.9953813143738536\n",
      "User 605, CV score: 0.9967888427758022\n",
      "User 640, CV score: 0.9970703241611675\n",
      "User 647, CV score: 0.9968929260619288\n",
      "User 653, CV score: 0.9972996348316839\n",
      "User 664, CV score: 0.9951413967760231\n",
      "User 665, CV score: 0.9969138522586808\n",
      "User 677, CV score: 0.9963405731623679\n",
      "User 692, CV score: 0.9968825690202401\n",
      "User 697, CV score: 0.9955375693229226\n",
      "User 705, CV score: 0.9964551413270644\n",
      "User 722, CV score: 0.9942447979469232\n",
      "User 740, CV score: 0.9966323931773435\n",
      "User 741, CV score: 0.9970598964150205\n",
      "User 756, CV score: 0.9954958404003031\n",
      "User 780, CV score: 0.9962465074417217\n",
      "User 784, CV score: 0.9963300984379312\n",
      "User 785, CV score: 0.9972265984704084\n",
      "User 797, CV score: 0.9955687348786154\n",
      "User 812, CV score: 0.9942445586894779\n",
      "User 844, CV score: 0.9969452246136584\n",
      "User 859, CV score: 0.9977689096042739\n",
      "User 868, CV score: 0.9967678972188779\n",
      "User 875, CV score: 0.9944737928673996\n",
      "User 932, CV score: 0.9895844158563181\n",
      "User 996, CV score: 0.991815815739901\n",
      "User 1014, CV score: 0.9966742082726437\n",
      "User 1040, CV score: 0.996663483662582\n",
      "User 1054, CV score: 0.996465682389963\n",
      "User 1248, CV score: 0.9975082638769837\n",
      "User 1267, CV score: 0.9972683753194115\n",
      "User 1299, CV score: 0.9969347121169708\n",
      "User 1371, CV score: 0.9932539968283036\n",
      "User 1797, CV score: 0.9936085247290771\n",
      "User 1798, CV score: 0.9957462085223551\n",
      "User 1993, CV score: 0.9963927588713926\n",
      "User 2118, CV score: 0.9972893339743242\n",
      "User 2174, CV score: 0.995433532541039\n",
      "User 2191, CV score: 0.9949849674858303\n",
      "User 2250, CV score: 0.9974247624713574\n",
      "User 2355, CV score: 0.9950370824903967\n",
      "User 2408, CV score: 0.9930561059651013\n",
      "User 2493, CV score: 0.9965175194167398\n",
      "User 2625, CV score: 0.9957045019037635\n",
      "User 2902, CV score: 0.9968824750636603\n"
     ]
    }
   ],
   "source": [
    "cv_scores_by_user = {}\n",
    "for user_id in logit_cv_150users.scores_:\n",
    "    print('User {}, CV score: {}'.format(user_id, logit_cv_150users.scores_[user_id].mean()))\n",
    "#''' ВАШ КОД ЗДЕСЬ '''"
   ]
  },
  {
   "cell_type": "markdown",
   "metadata": {},
   "source": [
    "**Результаты кажутся впечатляющими, но возможно, мы забываем про дисбаланс классов, и высокую долю правильных ответов можно получить константным прогнозом. Посчитайте для каждого пользователя разницу между долей правильных ответов на кросс-валидации (только что посчитанную с помощью `LogisticRegressionCV`) и долей меток в *y_train_150*, отличных от ID \n",
    " этого пользователя (именно такую долю правильных ответов можно получить, если классификатор всегда \"говорит\", что это не пользователь с номером $i$ в задаче классификации $i$-vs-All).**"
   ]
  },
  {
   "cell_type": "code",
   "execution_count": 165,
   "metadata": {},
   "outputs": [
    {
     "data": {
      "text/plain": [
       "0.9954852141128171"
      ]
     },
     "execution_count": 165,
     "metadata": {},
     "output_type": "execute_result"
    }
   ],
   "source": [
    "logit_cv_150users.scores_[6].mean()"
   ]
  },
  {
   "cell_type": "code",
   "execution_count": 176,
   "metadata": {},
   "outputs": [
    {
     "data": {
      "text/plain": [
       "0.984402531460803"
      ]
     },
     "execution_count": 176,
     "metadata": {},
     "output_type": "execute_result"
    }
   ],
   "source": [
    "(y_train_150.shape[0] - class_distr[6])/y_train_150.shape[0]"
   ]
  },
  {
   "cell_type": "code",
   "execution_count": 169,
   "metadata": {},
   "outputs": [],
   "source": [
    "class_distr = np.bincount(y_train_150.astype('int'))\n",
    "#print(class_distr.sum())\n",
    "acc_diff_vs_constant = {}\n",
    "for user_id in np.unique(y_train_150):\n",
    "    acc_diff_vs_constant[user_id] =  logit_cv_150users.scores_[user_id].mean() - 1. + class_distr[user_id]/y_train_150.shape[0]\n",
    "    \n",
    "#    ''' ВАШ КОД ЗДЕСЬ '''\n"
   ]
  },
  {
   "cell_type": "code",
   "execution_count": 170,
   "metadata": {},
   "outputs": [
    {
     "name": "stdout",
     "output_type": "stream",
     "text": [
      "134\n"
     ]
    }
   ],
   "source": [
    "num_better_than_default = (np.array(list(acc_diff_vs_constant.values())) > 0).sum()\n",
    "print(num_better_than_default)"
   ]
  },
  {
   "cell_type": "code",
   "execution_count": 174,
   "metadata": {},
   "outputs": [
    {
     "data": {
      "text/plain": [
       "array([ True,  True,  True,  True,  True,  True,  True,  True,  True,\n",
       "        True,  True,  True, False,  True, False,  True,  True,  True,\n",
       "        True,  True,  True,  True,  True,  True,  True,  True,  True,\n",
       "        True,  True,  True,  True,  True,  True,  True,  True,  True,\n",
       "        True,  True,  True, False,  True,  True,  True,  True, False,\n",
       "        True,  True,  True,  True,  True,  True,  True, False, False,\n",
       "        True,  True,  True,  True,  True,  True,  True,  True, False,\n",
       "        True,  True,  True,  True,  True,  True, False,  True,  True,\n",
       "        True,  True, False,  True,  True,  True,  True,  True,  True,\n",
       "        True,  True,  True,  True, False,  True,  True,  True,  True,\n",
       "        True,  True,  True,  True,  True, False,  True,  True, False,\n",
       "        True, False,  True,  True,  True,  True,  True,  True,  True,\n",
       "        True,  True,  True,  True,  True,  True,  True,  True,  True,\n",
       "        True,  True,  True,  True,  True,  True,  True,  True, False,\n",
       "        True, False,  True,  True,  True,  True,  True,  True,  True,\n",
       "        True,  True,  True,  True,  True,  True,  True,  True,  True,\n",
       "       False,  True,  True,  True,  True,  True])"
      ]
     },
     "execution_count": 174,
     "metadata": {},
     "output_type": "execute_result"
    }
   ],
   "source": [
    "np.array(list(acc_diff_vs_constant.values())) > 0"
   ]
  },
  {
   "cell_type": "markdown",
   "metadata": {},
   "source": [
    "**<font color='red'>Вопрос 7. </font> Посчитайте долю пользователей, для которых логистическая регрессия на кросс-валидации дает прогноз лучше константного. Округлите до 3 знаков после запятой.**"
   ]
  },
  {
   "cell_type": "code",
   "execution_count": 85,
   "metadata": {},
   "outputs": [
    {
     "name": "stdout",
     "output_type": "stream",
     "text": [
      "0.893\n"
     ]
    }
   ],
   "source": [
    "#''' ВАШ КОД ЗДЕСЬ '''\n",
    "ans_7 = num_better_than_default/len(np.unique(y_train_150))\n",
    "print('{:.3f}'.format(ans_7))\n",
    "save_answer_Array(7, [ans_7])"
   ]
  },
  {
   "cell_type": "markdown",
   "metadata": {},
   "source": [
    "**Дальше будем строить кривые обучения для конкретного пользователя, допустим, для 128-го. Составьте новый бинарный вектор на основе *y_150users*, его значения будут 1 или 0 в зависимости от того, равен ли ID-шник пользователя 128.**"
   ]
  },
  {
   "cell_type": "code",
   "execution_count": null,
   "metadata": {
    "collapsed": true
   },
   "outputs": [],
   "source": [
    "y_binary_128 = ''' ВАШ КОД ЗДЕСЬ '''"
   ]
  },
  {
   "cell_type": "code",
   "execution_count": null,
   "metadata": {
    "collapsed": true
   },
   "outputs": [],
   "source": [
    "from sklearn.model_selection import learning_curve\n",
    "\n",
    "def plot_learning_curve(val_train, val_test, train_sizes, \n",
    "                        xlabel='Training Set Size', ylabel='score'):\n",
    "    def plot_with_err(x, data, **kwargs):\n",
    "        mu, std = data.mean(1), data.std(1)\n",
    "        lines = plt.plot(x, mu, '-', **kwargs)\n",
    "        plt.fill_between(x, mu - std, mu + std, edgecolor='none',\n",
    "                         facecolor=lines[0].get_color(), alpha=0.2)\n",
    "    plot_with_err(train_sizes, val_train, label='train')\n",
    "    plot_with_err(train_sizes, val_test, label='valid')\n",
    "    plt.xlabel(xlabel); plt.ylabel(ylabel)\n",
    "    plt.legend(loc='lower right');"
   ]
  },
  {
   "cell_type": "markdown",
   "metadata": {},
   "source": [
    "**Посчитайте доли правильных ответов на кросс-валидации в задаче классификации \"user128-vs-All\" в зависимости от размера выборки. Не помешает посмотреть встроенную документацию для *learning_curve*.**"
   ]
  },
  {
   "cell_type": "code",
   "execution_count": null,
   "metadata": {
    "collapsed": true
   },
   "outputs": [],
   "source": [
    "%%time\n",
    "train_sizes = np.linspace(0.25, 1, 20)\n",
    "estimator = svm_grid_searcher2.best_estimator_\n",
    "n_train, val_train, val_test = learning_curve ''' ВАШ КОД ЗДЕСЬ '''"
   ]
  },
  {
   "cell_type": "code",
   "execution_count": null,
   "metadata": {
    "collapsed": true
   },
   "outputs": [],
   "source": [
    "plot_learning_curve(val_train, val_test, n_train, \n",
    "                    xlabel='train_size', ylabel='accuracy')"
   ]
  },
  {
   "cell_type": "markdown",
   "metadata": {},
   "source": [
    "**Сделайте выводы о том, помогут ли алгоритму новые размеченные данные при той же постановке задачи.**"
   ]
  },
  {
   "cell_type": "markdown",
   "metadata": {},
   "source": [
    "## Пути улучшения\n",
    "- конечно, можно проверить еще кучу алгоритмов, например, Xgboost, но в такой задаче очень маловероятно, что что-то справится лучше линейных методов\n",
    "- интересно проверить качество алгоритма на данных, где сессии выделялись не по количеству посещенных сайтов, а по времени, например, 5, 7, 10 и 15 минут. Отдельно стоит отметить данные нашего [соревнования](https://inclass.kaggle.com/c/catch-me-if-you-can-intruder-detection-through-webpage-session-tracking2) \n",
    "- опять же, если ресурсы позволяют, можно проверить, насколько хорошо можно решить задачу для 3000 пользователей\n",
    "\n",
    "\n",
    "На следующей неделе мы вспомним про линейные модели, обучаемые стохастическим градиентным спуском, и порадуемся тому, насколько быстрее они работают. Также сделаем первые (или не первые) посылки в [соревновании](https://inclass.kaggle.com/c/catch-me-if-you-can-intruder-detection-through-webpage-session-tracking2) Kaggle Inclass."
   ]
  }
 ],
 "metadata": {
  "anaconda-cloud": {},
  "kernelspec": {
   "display_name": "Python [conda env:newpy]",
   "language": "python",
   "name": "conda-env-newpy-py"
  },
  "language_info": {
   "codemirror_mode": {
    "name": "ipython",
    "version": 3
   },
   "file_extension": ".py",
   "mimetype": "text/x-python",
   "name": "python",
   "nbconvert_exporter": "python",
   "pygments_lexer": "ipython3",
   "version": "3.7.3"
  }
 },
 "nbformat": 4,
 "nbformat_minor": 1
}
