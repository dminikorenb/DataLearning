{
 "cells": [
  {
   "cell_type": "markdown",
   "metadata": {},
   "source": [
    "<center>\n",
    "<img src=\"https://habrastorage.org/web/677/8e1/337/6778e1337c3d4b159d7e99df94227cb2.jpg\"/>\n",
    "## Специализация \"Машинное обучение и анализ данных\"\n",
    "<center>Автор материала: программист-исследователь Mail.Ru Group, старший преподаватель Факультета Компьютерных Наук ВШЭ [Юрий Кашницкий](https://yorko.github.io/)"
   ]
  },
  {
   "cell_type": "markdown",
   "metadata": {},
   "source": [
    "# <center> Capstone проект №1 <br> Идентификация пользователей по посещенным веб-страницам\n",
    "<img src='http://i.istockimg.com/file_thumbview_approve/21546327/5/stock-illustration-21546327-identification-de-l-utilisateur.jpg'>\n",
    "\n",
    "# <center>Неделя 4.  Сравнение алгоритмов классификации\n",
    "\n",
    "Теперь мы наконец подойдем к обучению моделей классификации, сравним на кросс-валидации несколько алгоритмов, разберемся, какие параметры длины сессии (*session_length* и *window_size*) лучше использовать. Также для выбранного алгоритма построим кривые валидации (как качество классификации зависит от одного из гиперпараметров алгоритма) и кривые обучения (как качество классификации зависит от объема выборки).\n",
    "\n",
    "**План 4 недели:**\n",
    "- Часть 1. Сравнение нескольких алгоритмов на сессиях из 10 сайтов\n",
    "- Часть 2. Выбор параметров – длины сессии и ширины окна\n",
    "- Часть 3. Идентификация  конкретного пользователя и кривые обучения\n",
    " \n",
    "\n",
    "\n",
    "**В этой части проекта Вам могут быть полезны видеозаписи следующих лекций курса \"Обучение на размеченных данных\":**\n",
    "   - [Линейная классификация](https://www.coursera.org/learn/supervised-learning/lecture/jqLcO/linieinaia-klassifikatsiia)\n",
    "   - [Сравнение алгоритмов и выбор гиперпараметров](https://www.coursera.org/learn/supervised-learning/lecture/aF79U/sravnieniie-alghoritmov-i-vybor-ghipierparamietrov)\n",
    "   - [Кросс-валидация. Sklearn.cross_validation](https://www.coursera.org/learn/supervised-learning/lecture/XbHEk/kross-validatsiia-sklearn-cross-validation)\n",
    "   - [Линейные модели. Sklearn.linear_model. Классификация](https://www.coursera.org/learn/supervised-learning/lecture/EBg9t/linieinyie-modieli-sklearn-linear-model-klassifikatsiia)\n",
    "   - и многие другие\n"
   ]
  },
  {
   "cell_type": "markdown",
   "metadata": {},
   "source": [
    "### Задание\n",
    "1. Заполните код в этой тетрадке \n",
    "2. Если вы проходите специализацию Яндеса и МФТИ, пошлите файл с ответами в соответствующем Programming Assignment. <br> Если вы проходите курс ODS, выберите ответы в [веб-форме](https://docs.google.com/forms/d/12VB7kmzDoSVzSpQNaJp0tR-2t8K8PynQopP3dypf7i4).  "
   ]
  },
  {
   "cell_type": "code",
   "execution_count": 1,
   "metadata": {},
   "outputs": [],
   "source": [
    "# pip install watermark\n",
    "%load_ext watermark"
   ]
  },
  {
   "cell_type": "code",
   "execution_count": 2,
   "metadata": {},
   "outputs": [
    {
     "name": "stdout",
     "output_type": "stream",
     "text": [
      "CPython 3.7.3\n",
      "IPython 7.5.0\n",
      "\n",
      "numpy 1.16.3\n",
      "scipy 1.2.1\n",
      "pandas 0.24.2\n",
      "matplotlib 3.0.3\n",
      "statsmodels 0.9.0\n",
      "sklearn 0.21.0\n",
      "\n",
      "compiler   : MSC v.1915 64 bit (AMD64)\n",
      "system     : Windows\n",
      "release    : 7\n",
      "machine    : AMD64\n",
      "processor  : Intel64 Family 6 Model 69 Stepping 1, GenuineIntel\n",
      "CPU cores  : 2\n",
      "interpreter: 64bit\n",
      "Git hash   : e616e15ba4f84018a6ff2751d92431d028f25d69\n"
     ]
    }
   ],
   "source": [
    "%watermark -v -m -p numpy,scipy,pandas,matplotlib,statsmodels,sklearn -g"
   ]
  },
  {
   "cell_type": "code",
   "execution_count": 3,
   "metadata": {},
   "outputs": [],
   "source": [
    "# %watermark -v -m -p numpy,scipy,pandas,matplotlib,statsmodels,sklearn -g"
   ]
  },
  {
   "cell_type": "code",
   "execution_count": 4,
   "metadata": {},
   "outputs": [],
   "source": [
    "from __future__ import division, print_function\n",
    "# отключим всякие предупреждения Anaconda\n",
    "import warnings\n",
    "warnings.filterwarnings('ignore')\n",
    "from time import time\n",
    "import itertools\n",
    "import os\n",
    "import numpy as np\n",
    "import pandas as pd\n",
    "import seaborn as sns\n",
    "%matplotlib inline\n",
    "from matplotlib import pyplot as plt\n",
    "import pickle\n",
    "from scipy.sparse import csr_matrix\n",
    "from sklearn.model_selection import train_test_split, cross_val_score, StratifiedKFold, GridSearchCV\n",
    "from sklearn.metrics import accuracy_score, f1_score\n",
    "from sklearn.linear_model import LogisticRegression, LogisticRegressionCV\n",
    "import time"
   ]
  },
  {
   "cell_type": "code",
   "execution_count": 5,
   "metadata": {},
   "outputs": [],
   "source": [
    "# Поменяйте на свой путь к данным\n",
    "PATH_TO_DATA = 'capstone_user_identification'"
   ]
  },
  {
   "cell_type": "code",
   "execution_count": 6,
   "metadata": {},
   "outputs": [],
   "source": [
    "def save_answer_Array(fnameNum, array):\n",
    "    with open('dminik6_w4_{}.txt'.format(fnameNum),\"w\") as fout:\n",
    "        fout.write(\" \".join(['{:.3f}'.format(el) for el in array]))"
   ]
  },
  {
   "cell_type": "markdown",
   "metadata": {},
   "source": [
    "## Часть 1. Сравнение нескольких алгоритмов на сессиях из 10 сайтов"
   ]
  },
  {
   "cell_type": "markdown",
   "metadata": {},
   "source": [
    "**Загрузим сериализованные ранее объекты *X_sparse_10users* и *y_10users*, соответствующие обучающей выборке для 10 пользователей.**"
   ]
  },
  {
   "cell_type": "code",
   "execution_count": 7,
   "metadata": {},
   "outputs": [],
   "source": [
    "with open(os.path.join(PATH_TO_DATA, \n",
    "         'X_sparse_10users.pkl'), 'rb') as X_sparse_10users_pkl:\n",
    "    X_sparse_10users = pickle.load(X_sparse_10users_pkl)\n",
    "with open(os.path.join(PATH_TO_DATA, \n",
    "                       'y_10users.pkl'), 'rb') as y_10users_pkl:\n",
    "    y_10users = pickle.load(y_10users_pkl)"
   ]
  },
  {
   "cell_type": "markdown",
   "metadata": {},
   "source": [
    "**Здесь более 14 тысяч сессий и почти 5 тысяч уникальных посещенных сайтов.**"
   ]
  },
  {
   "cell_type": "code",
   "execution_count": 8,
   "metadata": {},
   "outputs": [
    {
     "data": {
      "text/plain": [
       "(14061, 4913)"
      ]
     },
     "execution_count": 8,
     "metadata": {},
     "output_type": "execute_result"
    }
   ],
   "source": [
    "X_sparse_10users.shape"
   ]
  },
  {
   "cell_type": "markdown",
   "metadata": {},
   "source": [
    "**Разобьем выборку на 2 части. На одной будем проводить кросс-валидацию, на второй – оценивать модель, обученную после кросс-валидации.**"
   ]
  },
  {
   "cell_type": "code",
   "execution_count": 9,
   "metadata": {},
   "outputs": [],
   "source": [
    "X_train, X_valid, y_train, y_valid = train_test_split(X_sparse_10users, y_10users, \n",
    "                                                      test_size=0.3, \n",
    "                                                     random_state=17, stratify=y_10users)"
   ]
  },
  {
   "cell_type": "code",
   "execution_count": null,
   "metadata": {},
   "outputs": [],
   "source": []
  },
  {
   "cell_type": "markdown",
   "metadata": {},
   "source": [
    "**Зададим заранее тип кросс-валидации: 3-кратная, с перемешиванием, параметр random_state=17 – для воспроизводимости.**"
   ]
  },
  {
   "cell_type": "code",
   "execution_count": 10,
   "metadata": {},
   "outputs": [],
   "source": [
    "skf = StratifiedKFold(n_splits=3, shuffle=True, random_state=17)"
   ]
  },
  {
   "cell_type": "markdown",
   "metadata": {},
   "source": [
    "**Вспомогательная функция для отрисовки кривых валидации после запуска GridSearchCV (или RandomizedCV).**"
   ]
  },
  {
   "cell_type": "code",
   "execution_count": 11,
   "metadata": {},
   "outputs": [],
   "source": [
    "def plot_validation_curves(param_values, grid_cv_results_):\n",
    "    train_mu, train_std = grid_cv_results_['mean_train_score'], grid_cv_results_['std_train_score']\n",
    "    valid_mu, valid_std = grid_cv_results_['mean_test_score'], grid_cv_results_['std_test_score']\n",
    "    train_line = plt.plot(param_values, train_mu, '-', label='train', color='green')\n",
    "    valid_line = plt.plot(param_values, valid_mu, '-', label='test', color='red')\n",
    "    plt.fill_between(param_values, train_mu - train_std, train_mu + train_std, edgecolor='none',\n",
    "                     facecolor=train_line[0].get_color(), alpha=0.2)\n",
    "    plt.fill_between(param_values, valid_mu - valid_std, valid_mu + valid_std, edgecolor='none',\n",
    "                     facecolor=valid_line[0].get_color(), alpha=0.2)\n",
    "    plt.grid(True)\n",
    "    plt.legend()"
   ]
  },
  {
   "cell_type": "markdown",
   "metadata": {},
   "source": [
    "**1. Обучите `KNeighborsClassifier` со 100 ближайшими соседями (остальные параметры оставьте по умолчанию, только `n_jobs`=-1 для распараллеливания) и посмотрите на долю правильных ответов на 3-кратной кросс-валидации (ради воспроизводимости используйте для этого объект `StratifiedKFold` `skf`) по выборке `(X_train, y_train)` и отдельно на выборке `(X_valid, y_valid)`.**"
   ]
  },
  {
   "cell_type": "code",
   "execution_count": 12,
   "metadata": {},
   "outputs": [],
   "source": [
    "from sklearn.neighbors import KNeighborsClassifier"
   ]
  },
  {
   "cell_type": "code",
   "execution_count": 13,
   "metadata": {},
   "outputs": [],
   "source": [
    "#def test_KNeighbors(knn, X, y, skf):\n",
    "#    m = []\n",
    "#    # skf = StratifiedKFold(n_splits=3, shuffle=True, random_state=17)\n",
    "#    #skf.get_n_splits(X, y)\n",
    "#   for train_index, test_index in skf.split(X, y):\n",
    "#        X_train, X_test = X[train_index], X[test_index]\n",
    "#        y_train, y_test = y[train_index], y[test_index]\n",
    "#        m.append( [knn.score(X_train, y_train), knn.score(X_test, y_test)])\n",
    "#        #m.append( knn.score(X_train, y_train) )\n",
    "#    return m\n",
    "\n",
    "# "
   ]
  },
  {
   "cell_type": "code",
   "execution_count": 14,
   "metadata": {},
   "outputs": [
    {
     "name": "stdout",
     "output_type": "stream",
     "text": [
      "Wall time: 0 ns\n"
     ]
    }
   ],
   "source": [
    "%%time\n",
    "knn = KNeighborsClassifier(n_neighbors=100, n_jobs=-1)\n",
    "knn.fit(X_train, y_train)\n",
    "# Разобраться, почему test_KNeighbors и cross_val_score возвращают разные значения\n",
    "# хотя при выполнении Вопроса 3 решение принято.\n",
    "###ans_1_0 = test_KNeighbors(knn,  X_train, y_train) \n",
    "\n",
    "###print(ans_1_0, ans_1_00)"
   ]
  },
  {
   "cell_type": "code",
   "execution_count": 15,
   "metadata": {
    "scrolled": false
   },
   "outputs": [],
   "source": [
    "# %%time\n",
    "# ans_1_1 = test_KNeighbors(knn,  X_train, y_train, skf)\n",
    "\n",
    "# # print('{:.3f}'.format(ans_1_1))"
   ]
  },
  {
   "cell_type": "code",
   "execution_count": 16,
   "metadata": {},
   "outputs": [
    {
     "data": {
      "text/plain": [
       "(9842, 4913)"
      ]
     },
     "execution_count": 16,
     "metadata": {},
     "output_type": "execute_result"
    }
   ],
   "source": [
    "#ans_1_1\n",
    "X_train.shape"
   ]
  },
  {
   "cell_type": "code",
   "execution_count": 18,
   "metadata": {},
   "outputs": [],
   "source": [
    "# cross_val_score(knn, X_train, y_train, cv=skf)"
   ]
  },
  {
   "cell_type": "markdown",
   "metadata": {},
   "source": [
    "**<font color='red'>Вопрос 1. </font> Посчитайте доли правильных ответов для KNeighborsClassifier на кросс-валидации и отложенной выборке. Округлите каждое до 3 знаков после запятой и введите через пробел.**"
   ]
  },
  {
   "cell_type": "code",
   "execution_count": 19,
   "metadata": {},
   "outputs": [
    {
     "name": "stdout",
     "output_type": "stream",
     "text": [
      "Доля правильных ответов для KNeighborsClassifier на кросс-валидации    0.560\n",
      "Доля правильных ответов для KNeighborsClassifier на отложенной выборке 0.583\n",
      "Wall time: 9.42 s\n"
     ]
    }
   ],
   "source": [
    "%%time\n",
    "# Ответ на вопрос 1\n",
    "ans_1_00 = cross_val_score(knn, X_train, y_train, cv=skf).mean()\n",
    "ans_1_10 = knn.score(X_valid, y_valid)\n",
    "print('Доля правильных ответов для KNeighborsClassifier на кросс-валидации    {:.3f}'.format(ans_1_00))\n",
    "print('Доля правильных ответов для KNeighborsClassifier на отложенной выборке {:.3f}'.format(ans_1_10))\n",
    "save_answer_Array(1, [ans_1_00, ans_1_10])\n",
    "# Доля правильных ответов для KNeighborsClassifier на кросс-валидации    0.562\n",
    "# Доля правильных ответов для KNeighborsClassifier на отложенной выборке 0.582"
   ]
  },
  {
   "cell_type": "markdown",
   "metadata": {},
   "source": [
    "**2. Обучите случайный лес (`RandomForestClassifier`) из 100 деревьев (для воспроизводимости `random_state`=17). Посмотрите на OOB-оценку (для этого надо сразу установить `oob_score`=True) и на долю правильных ответов на выборке `(X_valid, y_valid)`. Для распараллеливания задайте `n_jobs`=-1.**"
   ]
  },
  {
   "cell_type": "code",
   "execution_count": 18,
   "metadata": {},
   "outputs": [],
   "source": [
    "from sklearn.ensemble import RandomForestClassifier"
   ]
  },
  {
   "cell_type": "code",
   "execution_count": 19,
   "metadata": {},
   "outputs": [
    {
     "name": "stdout",
     "output_type": "stream",
     "text": [
      "CPU times: user 19.8 s, sys: 123 ms, total: 20 s\n",
      "Wall time: 4.06 s\n"
     ]
    }
   ],
   "source": [
    "%%time\n",
    "forest = RandomForestClassifier(n_estimators=100, random_state=17, \n",
    "                                n_jobs=-1, oob_score=True).fit( X_train, y_train)"
   ]
  },
  {
   "cell_type": "code",
   "execution_count": 20,
   "metadata": {},
   "outputs": [],
   "source": [
    "# forest.oob_score_"
   ]
  },
  {
   "cell_type": "code",
   "execution_count": 21,
   "metadata": {},
   "outputs": [],
   "source": [
    "#ans_2_0 = forest.score(X_train, y_train)\n",
    "#ans_2_00 = cross_val_score(forest, X_train, y_train, cv=skf).mean()\n"
   ]
  },
  {
   "cell_type": "markdown",
   "metadata": {},
   "source": [
    "**<font color='red'>Вопрос 2. </font> Посчитайте доли правильных ответов для `RandomForestClassifier` при Out-of-Bag оценке и на отложенной выборке. Округлите каждое до 3 знаков после запятой и введите через пробел.**"
   ]
  },
  {
   "cell_type": "code",
   "execution_count": 22,
   "metadata": {},
   "outputs": [
    {
     "name": "stdout",
     "output_type": "stream",
     "text": [
      "Доля правильных ответов по Out-of-Bag оценке                             0.725\n",
      "Доля правильных ответов для RandomForestClassifier на отложенной выборке 0.729\n",
      "CPU times: user 943 ms, sys: 625 ms, total: 1.57 s\n",
      "Wall time: 312 ms\n"
     ]
    }
   ],
   "source": [
    "%%time\n",
    "ans_2_01 = forest.oob_score_\n",
    "ans_2_1 = forest.score(X_valid, y_valid)\n",
    "print('Доля правильных ответов по Out-of-Bag оценке                             {:.3f}'.format(ans_2_01))\n",
    "print('Доля правильных ответов для RandomForestClassifier на отложенной выборке {:.3f}'.format(ans_2_1))\n",
    "save_answer_Array(2, [ans_2_01, ans_2_1])\n",
    "# Доля правильных ответов по Out-of-Bag оценке                             0.725\n",
    "# Доля правильных ответов для RandomForestClassifier на отложенной выборке 0.729"
   ]
  },
  {
   "cell_type": "code",
   "execution_count": 23,
   "metadata": {},
   "outputs": [],
   "source": [
    "#!cat answer4_2.txt"
   ]
  },
  {
   "cell_type": "markdown",
   "metadata": {},
   "source": [
    "**3. Обучите логистическую регрессию (`LogisticRegression`) с параметром `C` по умолчанию и `random_state`=17 (для воспроизводимости). Посмотрите на долю правильных ответов на кросс-валидации (используйте объект `skf`, созданный ранее) и на выборке `(X_valid, y_valid)`. Для распараллеливания задайте `n_jobs=-1`.**"
   ]
  },
  {
   "cell_type": "code",
   "execution_count": 20,
   "metadata": {},
   "outputs": [],
   "source": [
    "from sklearn.linear_model import LogisticRegression, LogisticRegressionCV"
   ]
  },
  {
   "cell_type": "code",
   "execution_count": 21,
   "metadata": {},
   "outputs": [
    {
     "name": "stdout",
     "output_type": "stream",
     "text": [
      "Wall time: 3.13 s\n"
     ]
    }
   ],
   "source": [
    "%%time\n",
    "logit = LogisticRegression(C=1.0, random_state=17).fit(X_train, y_train)"
   ]
  },
  {
   "cell_type": "code",
   "execution_count": 22,
   "metadata": {},
   "outputs": [],
   "source": [
    "#logit.score(X_train, y_train)\n",
    "#cross_val_score(logit, X_train, y_train, cv=skf)"
   ]
  },
  {
   "cell_type": "code",
   "execution_count": 23,
   "metadata": {},
   "outputs": [
    {
     "name": "stdout",
     "output_type": "stream",
     "text": [
      "Доля правильных ответов для LogisticRegression на кросс-валидации    0.763\n",
      "Доля правильных ответов для LogisticRegression на отложенной выборке 0.780\n"
     ]
    }
   ],
   "source": [
    "#ans_3_0=test_KNeighbors(logit, X_train, y_train, skf)\n",
    "val_cv =cross_val_score(logit, X_train, y_train, cv=skf).mean()\n",
    "val_val=logit.score(X_valid, y_valid)\n",
    "print('Доля правильных ответов для LogisticRegression на кросс-валидации    {:.3f}'.format(val_cv))\n",
    "print('Доля правильных ответов для LogisticRegression на отложенной выборке {:.3f}'.format(val_val))"
   ]
  },
  {
   "cell_type": "markdown",
   "metadata": {},
   "source": [
    "**Почитайте документацию к [LogisticRegressionCV](http://scikit-learn.org/stable/modules/generated/sklearn.linear_model.LogisticRegressionCV.html). Логистическая регрессия хорошо изучена, и для нее существуют алгоритмы быстрого подбора параметра регуляризации `C` (быстрее, чем с `GridSearchCV`).**\n",
    "\n",
    "**С помощью `LogisticRegressionCV` подберите параметр `C` для `LogisticRegression` сначала в широком диапазоне: 10 значений от 1e-4 до 1e2, используйте `logspace` из `NumPy`. Укажите у `LogisticRegressionCV` параметры `multi_class`='multinomial' и `random_state`=17. Для кросс-валидации используйте объект `skf`, созданный ранее. Для распараллеливания задайте `n_jobs=-1`.**\n",
    "\n",
    "**Нарисуйте кривые валидации по параметру `C`.**"
   ]
  },
  {
   "cell_type": "code",
   "execution_count": 24,
   "metadata": {},
   "outputs": [
    {
     "name": "stdout",
     "output_type": "stream",
     "text": [
      "Wall time: 2min 3s\n"
     ]
    }
   ],
   "source": [
    "%%time \n",
    "logit_c_values1 = np.logspace(-4, 2, 10)\n",
    "\n",
    "logit_grid_searcher1 = LogisticRegressionCV(Cs=logit_c_values1, cv=skf, multi_class='multinomial', \n",
    "                                             random_state=17, max_iter=2000)\n",
    "logit_grid_searcher1.fit(X_train, y_train)"
   ]
  },
  {
   "cell_type": "code",
   "execution_count": null,
   "metadata": {},
   "outputs": [],
   "source": [
    "# train_mu, train_std = grid_cv_results_['mean_train_score'], grid_cv_results_['std_train_score']\n",
    "#     valid_mu, valid_std = grid_cv_results_['mean_test_score'], grid_cv_results_['std_test_score']"
   ]
  },
  {
   "cell_type": "code",
   "execution_count": null,
   "metadata": {},
   "outputs": [],
   "source": [
    "# logit_grid_searcher1.cv_re"
   ]
  },
  {
   "cell_type": "code",
   "execution_count": null,
   "metadata": {},
   "outputs": [],
   "source": []
  },
  {
   "cell_type": "code",
   "execution_count": null,
   "metadata": {},
   "outputs": [],
   "source": [
    "#logit_grid_searcher1.scores_\n",
    "# for l in logit_grid_searcher1.scores_:\n",
    "#     print ('Max auc_roc:', logit_grid_searcher1.scores_[l].mean(axis=0).max())  # is correct"
   ]
  },
  {
   "cell_type": "code",
   "execution_count": null,
   "metadata": {},
   "outputs": [],
   "source": [
    "# train_scores, test_scores = validation_curve(\n",
    "#     SVC(), X, y, param_name=\"gamma\", param_range=param_range,\n",
    "#     cv=5, scoring=\"accuracy\", n_jobs=1)\n",
    "# train_scores_mean = np.mean(train_scores, axis=1)\n",
    "# train_scores_std = np.std(train_scores, axis=1)\n",
    "# test_scores_mean = np.mean(test_scores, axis=1)\n",
    "# test_scores_std = np.std(test_scores, axis=1)\n",
    "\n",
    "# plt.title(\"Validation Curve with SVM\")\n",
    "# plt.xlabel(r\"$\\gamma$\")\n",
    "# plt.ylabel(\"Score\")\n",
    "# plt.ylim(0.0, 1.1)\n",
    "# lw = 2\n",
    "# plt.semilogx(param_range, train_scores_mean, label=\"Training score\",\n",
    "#              color=\"darkorange\", lw=lw)\n",
    "# plt.fill_between(param_range, train_scores_mean - train_scores_std,\n",
    "#                  train_scores_mean + train_scores_std, alpha=0.2,\n",
    "#                  color=\"darkorange\", lw=lw)\n",
    "# plt.semilogx(param_range, test_scores_mean, label=\"Cross-validation score\",\n",
    "#              color=\"navy\", lw=lw)\n",
    "# plt.fill_between(param_range, test_scores_mean - test_scores_std,\n",
    "#                  test_scores_mean + test_scores_std, alpha=0.2,\n",
    "#                  color=\"navy\", lw=lw)\n",
    "# plt.legend(loc=\"best\")\n",
    "# plt.show()"
   ]
  },
  {
   "cell_type": "code",
   "execution_count": 26,
   "metadata": {},
   "outputs": [
    {
     "data": {
      "image/png": "[encoded data removed]",
      "text/plain": [
       "<Figure size 1080x504 with 1 Axes>"
      ]
     },
     "metadata": {
      "needs_background": "light"
     },
     "output_type": "display_data"
    }
   ],
   "source": [
    "#logit_grid_searcher1.scores_\n",
    "#print(logit_grid_searcher1.scores_[31])\n",
    "ascores = np.array(next(iter(logit_grid_searcher1.scores_.values())))\n",
    "\n",
    "#print(ascores)\n",
    "\n",
    "#print(ascores.mean(axis=0).argmax())\n",
    "#plt.plot(logit_c_values1, score_mean)\n",
    "plt.figure(figsize=(15, 7))\n",
    "for l in ascores:\n",
    "    plt.plot(logit_c_values1, l)\n",
    "plt.xscale('log')\n",
    "plt.grid(True)\n",
    "plt.title('Кривые валидации по параметру C.')\n",
    "\n",
    "plt.show()"
   ]
  },
  {
   "cell_type": "code",
   "execution_count": 27,
   "metadata": {},
   "outputs": [
    {
     "data": {
      "text/plain": [
       "{31, 33, 39, 50, 100, 127, 128, 207, 237, 241}"
      ]
     },
     "execution_count": 27,
     "metadata": {},
     "output_type": "execute_result"
    }
   ],
   "source": [
    "set(y_train)"
   ]
  },
  {
   "cell_type": "code",
   "execution_count": 28,
   "metadata": {},
   "outputs": [],
   "source": [
    "score = logit_grid_searcher1.score(X_valid, y_valid)"
   ]
  },
  {
   "cell_type": "markdown",
   "metadata": {},
   "source": [
    "Средние значения доли правильных ответов на кросс-валидации по каждому из 10 параметров `C`."
   ]
  },
  {
   "cell_type": "code",
   "execution_count": 29,
   "metadata": {},
   "outputs": [],
   "source": [
    "logit_mean_cv_scores1 = ascores.mean(axis=0) # ''' ВАШ КОД ЗДЕСЬ '''"
   ]
  },
  {
   "cell_type": "markdown",
   "metadata": {},
   "source": [
    "Выведите лучшее значение доли правильных ответов на кросс-валидации и соответствующее значение `C`."
   ]
  },
  {
   "cell_type": "code",
   "execution_count": 30,
   "metadata": {},
   "outputs": [
    {
     "name": "stdout",
     "output_type": "stream",
     "text": [
      "Выведите лучшее значение доли правильных ответов на кросс-валидации:0.76295418489589\n",
      "и соответствующее значение C: 4.641588833612772\n"
     ]
    }
   ],
   "source": [
    "best_pos = logit_mean_cv_scores1.argmax() #''' ВАШ КОД ЗДЕСЬ '''\n",
    "print('Выведите лучшее значение доли правильных ответов на кросс-валидации:{}\\n'\n",
    "      'и соответствующее значение C: {}'.format(logit_mean_cv_scores1[best_pos], logit_c_values1[best_pos] ))"
   ]
  },
  {
   "cell_type": "markdown",
   "metadata": {},
   "source": [
    "Нарисуйте график зависимости доли правильных ответов на кросс-валидации от `C`."
   ]
  },
  {
   "cell_type": "code",
   "execution_count": 31,
   "metadata": {},
   "outputs": [
    {
     "data": {
      "image/png": "[encoded data removed]",
      "text/plain": [
       "<Figure size 1080x504 with 1 Axes>"
      ]
     },
     "metadata": {
      "needs_background": "light"
     },
     "output_type": "display_data"
    }
   ],
   "source": [
    "plt.figure(figsize=(15, 7))\n",
    "plt.plot(logit_c_values1, logit_mean_cv_scores1)\n",
    "plt.xscale('log')\n",
    "plt.grid(True)\n",
    "plt.title('График зависимости доли правильных ответов на кросс-валидации от C.')\n",
    "\n",
    "plt.show()"
   ]
  },
  {
   "cell_type": "markdown",
   "metadata": {},
   "source": [
    "**Теперь то же самое, только значения параметра `C` перебирайте в диапазоне `np.linspace`(0.1, 7, 20). Опять нарисуйте кривые валидации, определите максимальное значение доли правильных ответов на кросс-валидации.**"
   ]
  },
  {
   "cell_type": "code",
   "execution_count": 32,
   "metadata": {},
   "outputs": [
    {
     "name": "stdout",
     "output_type": "stream",
     "text": [
      "Wall time: 1min 5s\n"
     ]
    }
   ],
   "source": [
    "%%time\n",
    "logit_c_values2 = np.linspace(0.1, 7, 20)\n",
    "\n",
    "logit_grid_searcher2 = LogisticRegressionCV(Cs=logit_c_values2, cv=skf, multi_class='multinomial', \n",
    "                                            n_jobs=-1, random_state=17) # ''' ВАШ КОД ЗДЕСЬ '''\n",
    "logit_grid_searcher2.fit(X_train, y_train)"
   ]
  },
  {
   "cell_type": "code",
   "execution_count": 33,
   "metadata": {
    "collapsed": true
   },
   "outputs": [
    {
     "data": {
      "text/plain": [
       "{31: array([[0.73302892, 0.752207  , 0.75981735, 0.76316591, 0.76347032,\n",
       "         0.7652968 , 0.76468798, 0.76377473, 0.76468798, 0.76347032,\n",
       "         0.76468798, 0.76377473, 0.76377473, 0.76347032, 0.76255708,\n",
       "         0.76103501, 0.76012177, 0.75951294, 0.76012177, 0.76012177],\n",
       "        [0.73498018, 0.75510826, 0.75846295, 0.76090271, 0.76242757,\n",
       "         0.76120769, 0.7621226 , 0.76181763, 0.76090271, 0.76181763,\n",
       "         0.76151266, 0.76120769, 0.76181763, 0.76242757, 0.76242757,\n",
       "         0.76151266, 0.76120769, 0.76090271, 0.76090271, 0.76059774],\n",
       "        [0.73703478, 0.76266016, 0.76327029, 0.76418548, 0.7657108 ,\n",
       "         0.76418548, 0.76327029, 0.76418548, 0.76418548, 0.76418548,\n",
       "         0.76235509, 0.76266016, 0.76266016, 0.76357535, 0.76235509,\n",
       "         0.76174497, 0.76174497, 0.76082977, 0.75960952, 0.75930445]]),\n",
       " 33: array([[0.73302892, 0.752207  , 0.75981735, 0.76316591, 0.76347032,\n",
       "         0.7652968 , 0.76468798, 0.76377473, 0.76468798, 0.76347032,\n",
       "         0.76468798, 0.76377473, 0.76377473, 0.76347032, 0.76255708,\n",
       "         0.76103501, 0.76012177, 0.75951294, 0.76012177, 0.76012177],\n",
       "        [0.73498018, 0.75510826, 0.75846295, 0.76090271, 0.76242757,\n",
       "         0.76120769, 0.7621226 , 0.76181763, 0.76090271, 0.76181763,\n",
       "         0.76151266, 0.76120769, 0.76181763, 0.76242757, 0.76242757,\n",
       "         0.76151266, 0.76120769, 0.76090271, 0.76090271, 0.76059774],\n",
       "        [0.73703478, 0.76266016, 0.76327029, 0.76418548, 0.7657108 ,\n",
       "         0.76418548, 0.76327029, 0.76418548, 0.76418548, 0.76418548,\n",
       "         0.76235509, 0.76266016, 0.76266016, 0.76357535, 0.76235509,\n",
       "         0.76174497, 0.76174497, 0.76082977, 0.75960952, 0.75930445]]),\n",
       " 39: array([[0.73302892, 0.752207  , 0.75981735, 0.76316591, 0.76347032,\n",
       "         0.7652968 , 0.76468798, 0.76377473, 0.76468798, 0.76347032,\n",
       "         0.76468798, 0.76377473, 0.76377473, 0.76347032, 0.76255708,\n",
       "         0.76103501, 0.76012177, 0.75951294, 0.76012177, 0.76012177],\n",
       "        [0.73498018, 0.75510826, 0.75846295, 0.76090271, 0.76242757,\n",
       "         0.76120769, 0.7621226 , 0.76181763, 0.76090271, 0.76181763,\n",
       "         0.76151266, 0.76120769, 0.76181763, 0.76242757, 0.76242757,\n",
       "         0.76151266, 0.76120769, 0.76090271, 0.76090271, 0.76059774],\n",
       "        [0.73703478, 0.76266016, 0.76327029, 0.76418548, 0.7657108 ,\n",
       "         0.76418548, 0.76327029, 0.76418548, 0.76418548, 0.76418548,\n",
       "         0.76235509, 0.76266016, 0.76266016, 0.76357535, 0.76235509,\n",
       "         0.76174497, 0.76174497, 0.76082977, 0.75960952, 0.75930445]]),\n",
       " 50: array([[0.73302892, 0.752207  , 0.75981735, 0.76316591, 0.76347032,\n",
       "         0.7652968 , 0.76468798, 0.76377473, 0.76468798, 0.76347032,\n",
       "         0.76468798, 0.76377473, 0.76377473, 0.76347032, 0.76255708,\n",
       "         0.76103501, 0.76012177, 0.75951294, 0.76012177, 0.76012177],\n",
       "        [0.73498018, 0.75510826, 0.75846295, 0.76090271, 0.76242757,\n",
       "         0.76120769, 0.7621226 , 0.76181763, 0.76090271, 0.76181763,\n",
       "         0.76151266, 0.76120769, 0.76181763, 0.76242757, 0.76242757,\n",
       "         0.76151266, 0.76120769, 0.76090271, 0.76090271, 0.76059774],\n",
       "        [0.73703478, 0.76266016, 0.76327029, 0.76418548, 0.7657108 ,\n",
       "         0.76418548, 0.76327029, 0.76418548, 0.76418548, 0.76418548,\n",
       "         0.76235509, 0.76266016, 0.76266016, 0.76357535, 0.76235509,\n",
       "         0.76174497, 0.76174497, 0.76082977, 0.75960952, 0.75930445]]),\n",
       " 100: array([[0.73302892, 0.752207  , 0.75981735, 0.76316591, 0.76347032,\n",
       "         0.7652968 , 0.76468798, 0.76377473, 0.76468798, 0.76347032,\n",
       "         0.76468798, 0.76377473, 0.76377473, 0.76347032, 0.76255708,\n",
       "         0.76103501, 0.76012177, 0.75951294, 0.76012177, 0.76012177],\n",
       "        [0.73498018, 0.75510826, 0.75846295, 0.76090271, 0.76242757,\n",
       "         0.76120769, 0.7621226 , 0.76181763, 0.76090271, 0.76181763,\n",
       "         0.76151266, 0.76120769, 0.76181763, 0.76242757, 0.76242757,\n",
       "         0.76151266, 0.76120769, 0.76090271, 0.76090271, 0.76059774],\n",
       "        [0.73703478, 0.76266016, 0.76327029, 0.76418548, 0.7657108 ,\n",
       "         0.76418548, 0.76327029, 0.76418548, 0.76418548, 0.76418548,\n",
       "         0.76235509, 0.76266016, 0.76266016, 0.76357535, 0.76235509,\n",
       "         0.76174497, 0.76174497, 0.76082977, 0.75960952, 0.75930445]]),\n",
       " 127: array([[0.73302892, 0.752207  , 0.75981735, 0.76316591, 0.76347032,\n",
       "         0.7652968 , 0.76468798, 0.76377473, 0.76468798, 0.76347032,\n",
       "         0.76468798, 0.76377473, 0.76377473, 0.76347032, 0.76255708,\n",
       "         0.76103501, 0.76012177, 0.75951294, 0.76012177, 0.76012177],\n",
       "        [0.73498018, 0.75510826, 0.75846295, 0.76090271, 0.76242757,\n",
       "         0.76120769, 0.7621226 , 0.76181763, 0.76090271, 0.76181763,\n",
       "         0.76151266, 0.76120769, 0.76181763, 0.76242757, 0.76242757,\n",
       "         0.76151266, 0.76120769, 0.76090271, 0.76090271, 0.76059774],\n",
       "        [0.73703478, 0.76266016, 0.76327029, 0.76418548, 0.7657108 ,\n",
       "         0.76418548, 0.76327029, 0.76418548, 0.76418548, 0.76418548,\n",
       "         0.76235509, 0.76266016, 0.76266016, 0.76357535, 0.76235509,\n",
       "         0.76174497, 0.76174497, 0.76082977, 0.75960952, 0.75930445]]),\n",
       " 128: array([[0.73302892, 0.752207  , 0.75981735, 0.76316591, 0.76347032,\n",
       "         0.7652968 , 0.76468798, 0.76377473, 0.76468798, 0.76347032,\n",
       "         0.76468798, 0.76377473, 0.76377473, 0.76347032, 0.76255708,\n",
       "         0.76103501, 0.76012177, 0.75951294, 0.76012177, 0.76012177],\n",
       "        [0.73498018, 0.75510826, 0.75846295, 0.76090271, 0.76242757,\n",
       "         0.76120769, 0.7621226 , 0.76181763, 0.76090271, 0.76181763,\n",
       "         0.76151266, 0.76120769, 0.76181763, 0.76242757, 0.76242757,\n",
       "         0.76151266, 0.76120769, 0.76090271, 0.76090271, 0.76059774],\n",
       "        [0.73703478, 0.76266016, 0.76327029, 0.76418548, 0.7657108 ,\n",
       "         0.76418548, 0.76327029, 0.76418548, 0.76418548, 0.76418548,\n",
       "         0.76235509, 0.76266016, 0.76266016, 0.76357535, 0.76235509,\n",
       "         0.76174497, 0.76174497, 0.76082977, 0.75960952, 0.75930445]]),\n",
       " 207: array([[0.73302892, 0.752207  , 0.75981735, 0.76316591, 0.76347032,\n",
       "         0.7652968 , 0.76468798, 0.76377473, 0.76468798, 0.76347032,\n",
       "         0.76468798, 0.76377473, 0.76377473, 0.76347032, 0.76255708,\n",
       "         0.76103501, 0.76012177, 0.75951294, 0.76012177, 0.76012177],\n",
       "        [0.73498018, 0.75510826, 0.75846295, 0.76090271, 0.76242757,\n",
       "         0.76120769, 0.7621226 , 0.76181763, 0.76090271, 0.76181763,\n",
       "         0.76151266, 0.76120769, 0.76181763, 0.76242757, 0.76242757,\n",
       "         0.76151266, 0.76120769, 0.76090271, 0.76090271, 0.76059774],\n",
       "        [0.73703478, 0.76266016, 0.76327029, 0.76418548, 0.7657108 ,\n",
       "         0.76418548, 0.76327029, 0.76418548, 0.76418548, 0.76418548,\n",
       "         0.76235509, 0.76266016, 0.76266016, 0.76357535, 0.76235509,\n",
       "         0.76174497, 0.76174497, 0.76082977, 0.75960952, 0.75930445]]),\n",
       " 237: array([[0.73302892, 0.752207  , 0.75981735, 0.76316591, 0.76347032,\n",
       "         0.7652968 , 0.76468798, 0.76377473, 0.76468798, 0.76347032,\n",
       "         0.76468798, 0.76377473, 0.76377473, 0.76347032, 0.76255708,\n",
       "         0.76103501, 0.76012177, 0.75951294, 0.76012177, 0.76012177],\n",
       "        [0.73498018, 0.75510826, 0.75846295, 0.76090271, 0.76242757,\n",
       "         0.76120769, 0.7621226 , 0.76181763, 0.76090271, 0.76181763,\n",
       "         0.76151266, 0.76120769, 0.76181763, 0.76242757, 0.76242757,\n",
       "         0.76151266, 0.76120769, 0.76090271, 0.76090271, 0.76059774],\n",
       "        [0.73703478, 0.76266016, 0.76327029, 0.76418548, 0.7657108 ,\n",
       "         0.76418548, 0.76327029, 0.76418548, 0.76418548, 0.76418548,\n",
       "         0.76235509, 0.76266016, 0.76266016, 0.76357535, 0.76235509,\n",
       "         0.76174497, 0.76174497, 0.76082977, 0.75960952, 0.75930445]]),\n",
       " 241: array([[0.73302892, 0.752207  , 0.75981735, 0.76316591, 0.76347032,\n",
       "         0.7652968 , 0.76468798, 0.76377473, 0.76468798, 0.76347032,\n",
       "         0.76468798, 0.76377473, 0.76377473, 0.76347032, 0.76255708,\n",
       "         0.76103501, 0.76012177, 0.75951294, 0.76012177, 0.76012177],\n",
       "        [0.73498018, 0.75510826, 0.75846295, 0.76090271, 0.76242757,\n",
       "         0.76120769, 0.7621226 , 0.76181763, 0.76090271, 0.76181763,\n",
       "         0.76151266, 0.76120769, 0.76181763, 0.76242757, 0.76242757,\n",
       "         0.76151266, 0.76120769, 0.76090271, 0.76090271, 0.76059774],\n",
       "        [0.73703478, 0.76266016, 0.76327029, 0.76418548, 0.7657108 ,\n",
       "         0.76418548, 0.76327029, 0.76418548, 0.76418548, 0.76418548,\n",
       "         0.76235509, 0.76266016, 0.76266016, 0.76357535, 0.76235509,\n",
       "         0.76174497, 0.76174497, 0.76082977, 0.75960952, 0.75930445]])}"
      ]
     },
     "execution_count": 33,
     "metadata": {},
     "output_type": "execute_result"
    }
   ],
   "source": [
    "logit_grid_searcher2.scores_"
   ]
  },
  {
   "cell_type": "markdown",
   "metadata": {},
   "source": [
    "Средние значения доли правильных ответов на кросс-валидации по каждому из 10 параметров `C`."
   ]
  },
  {
   "cell_type": "code",
   "execution_count": 34,
   "metadata": {},
   "outputs": [],
   "source": [
    "#''' ВАШ КОД ЗДЕСЬ '''\n",
    "ascores2 = np.array(next(iter(logit_grid_searcher2.scores_.values())))\n",
    "logit_mean_cv_scores2 = ascores2.mean(axis=0)"
   ]
  },
  {
   "cell_type": "markdown",
   "metadata": {},
   "source": [
    "Выведите лучшее значение доли правильных ответов на кросс-валидации и соответствующее значение `C`."
   ]
  },
  {
   "cell_type": "code",
   "execution_count": 35,
   "metadata": {},
   "outputs": [
    {
     "name": "stdout",
     "output_type": "stream",
     "text": [
      "Выведите лучшее значение доли правильных ответов на кросс-валидации:0.7638695627611528\n",
      "и соответствующее значение C: 1.5526315789473686\n"
     ]
    }
   ],
   "source": [
    "#''' ВАШ КОД ЗДЕСЬ '''\n",
    "best_pos2 = logit_mean_cv_scores2.argmax() #''' ВАШ КОД ЗДЕСЬ '''\n",
    "print('Выведите лучшее значение доли правильных ответов на кросс-валидации:{}\\n'\n",
    "      'и соответствующее значение C: {}'.format(logit_mean_cv_scores2[best_pos2], logit_c_values2[best_pos2] ))"
   ]
  },
  {
   "cell_type": "code",
   "execution_count": 57,
   "metadata": {},
   "outputs": [
    {
     "data": {
      "text/plain": [
       "3.7315789473684213"
      ]
     },
     "execution_count": 57,
     "metadata": {},
     "output_type": "execute_result"
    }
   ],
   "source": [
    "logit_c_values2[10]\n",
    "#ascores2"
   ]
  },
  {
   "cell_type": "markdown",
   "metadata": {},
   "source": [
    "Нарисуйте график зависимости доли правильных ответов на кросс-валидации от `C`."
   ]
  },
  {
   "cell_type": "code",
   "execution_count": 55,
   "metadata": {},
   "outputs": [
    {
     "name": "stdout",
     "output_type": "stream",
     "text": [
      "[[5.         0.7652968 ]\n",
      " [4.         0.76242757]\n",
      " [4.         0.7657108 ]]\n",
      "1.5526315789473686\n",
      "[4.        0.7657108]\n"
     ]
    }
   ],
   "source": [
    "l = np.array( [[np.argmax(l), np.max(l)] for l in ascores2] )\n",
    "print(l)\n",
    "#print(np.argmax(ascores2[2]))\n",
    "print(logit_c_values2[4])\n",
    "print(l[l[:,1].argmax()])\n"
   ]
  },
  {
   "cell_type": "code",
   "execution_count": 45,
   "metadata": {
    "scrolled": true
   },
   "outputs": [
    {
     "ename": "TypeError",
     "evalue": "list indices must be integers or slices, not tuple",
     "output_type": "error",
     "traceback": [
      "\u001b[1;31m---------------------------------------------------------------------------\u001b[0m",
      "\u001b[1;31mTypeError\u001b[0m                                 Traceback (most recent call last)",
      "\u001b[1;32m<ipython-input-45-231e3a04cb95>\u001b[0m in \u001b[0;36m<module>\u001b[1;34m\u001b[0m\n\u001b[1;32m----> 1\u001b[1;33m \u001b[0ml\u001b[0m\u001b[1;33m[\u001b[0m\u001b[1;33m:\u001b[0m\u001b[1;33m,\u001b[0m\u001b[1;36m1\u001b[0m\u001b[1;33m]\u001b[0m\u001b[1;33m\u001b[0m\u001b[1;33m\u001b[0m\u001b[0m\n\u001b[0m",
      "\u001b[1;31mTypeError\u001b[0m: list indices must be integers or slices, not tuple"
     ]
    }
   ],
   "source": [
    "l[:,1]"
   ]
  },
  {
   "cell_type": "code",
   "execution_count": 58,
   "metadata": {},
   "outputs": [
    {
     "data": {
      "image/png": "[encoded data removed]",
      "text/plain": [
       "<Figure size 1080x504 with 1 Axes>"
      ]
     },
     "metadata": {
      "needs_background": "light"
     },
     "output_type": "display_data"
    }
   ],
   "source": [
    "plt.figure(figsize=(15, 7))\n",
    "plt.plot(logit_c_values2, ascores2[0]) # logit_mean_cv_scores2)\n",
    "plt.plot(logit_c_values2, ascores2[1]) # logit_mean_cv_scores2)\n",
    "plt.plot(logit_c_values2, ascores2[2]) # logit_mean_cv_scores2)\n",
    "#plt.plot(logit_c_values2, ascores2.mean(axis=0)) # logit_mean_cv_scores2)\n",
    "# for i in range(0, 20):\n",
    "#     plt.axvline(x=logit_c_values2[i])\n",
    "plt.axvline(x=logit_c_values2[10])\n",
    "\n",
    "\n",
    "#plt.xscale('log')\n",
    "plt.grid(True)\n",
    "plt.title('График зависимости доли правильных ответов на кросс-валидации от C.')\n",
    "plt.show()"
   ]
  },
  {
   "cell_type": "markdown",
   "metadata": {},
   "source": [
    "Выведите долю правильных ответов на выборке `(X_valid, y_valid)` для логистической регрессии с лучшим найденным значением `C`."
   ]
  },
  {
   "cell_type": "code",
   "execution_count": null,
   "metadata": {},
   "outputs": [],
   "source": [
    "logit_grid_searcher2.C_"
   ]
  },
  {
   "cell_type": "code",
   "execution_count": 59,
   "metadata": {},
   "outputs": [
    {
     "name": "stdout",
     "output_type": "stream",
     "text": [
      "0.7786205261910405\n",
      "0.7786205261910405\n"
     ]
    }
   ],
   "source": [
    "logit_cv_acc = accuracy_score(y_valid, logit_grid_searcher2.predict(X_valid))\n",
    "#''' ВАШ КОД ЗДЕСЬ '''\n",
    "# Демонстрация того, что результат одинаков.\n",
    "print(logit_cv_acc)\n",
    "print(logit_grid_searcher2.score(X_valid, y_valid))"
   ]
  },
  {
   "cell_type": "markdown",
   "metadata": {},
   "source": [
    "**<font color='red'>Вопрос 3. </font>Посчитайте доли правильных ответов для `logit_grid_searcher2` на кросс-валидации для лучшего значения параметра `C` и на отложенной выборке. Округлите каждое до 3 знаков после запятой и выведите через пробел.**"
   ]
  },
  {
   "cell_type": "code",
   "execution_count": 115,
   "metadata": {},
   "outputs": [
    {
     "name": "stdout",
     "output_type": "stream",
     "text": [
      "0.764, 0.779\n"
     ]
    }
   ],
   "source": [
    "#''' ВАШ КОД ЗДЕСЬ '''\n",
    "ans_3_0 = logit_mean_cv_scores2[best_pos2]\n",
    "ans_3_1 = logit_grid_searcher2.score(X_valid, y_valid)\n",
    "print('{:.3f}, {:.3f}'.format(ans_3_0, ans_3_1))\n",
    "save_answer_Array(3, [ans_3_0, ans_3_1])"
   ]
  },
  {
   "cell_type": "markdown",
   "metadata": {},
   "source": [
    "# !!!"
   ]
  },
  {
   "cell_type": "code",
   "execution_count": 60,
   "metadata": {},
   "outputs": [],
   "source": [
    "l_score = []\n",
    "for c in  np.linspace(0.1, 7, 20):\n",
    "    logit_00 = LogisticRegression(C=c, random_state=17).fit(X_train, y_train)\n",
    "    logit_00.fit(X_train, y_train)\n",
    "    l_score.append( logit_00.score(X_valid, y_valid) )\n"
   ]
  },
  {
   "cell_type": "code",
   "execution_count": 61,
   "metadata": {},
   "outputs": [
    {
     "data": {
      "image/png": "[encoded data removed]",
      "text/plain": [
       "<Figure size 1080x504 with 1 Axes>"
      ]
     },
     "metadata": {
      "needs_background": "light"
     },
     "output_type": "display_data"
    }
   ],
   "source": [
    "plt.figure(figsize=(15, 7))\n",
    "plt.plot(logit_c_values2, l_score) # logit_mean_cv_scores2)\n",
    "# plt.plot(logit_c_values2, ascores2[1]) # logit_mean_cv_scores2)\n",
    "# plt.plot(logit_c_values2, ascores2[2]) # logit_mean_cv_scores2)\n",
    "#plt.plot(logit_c_values2, ascores2.mean(axis=0)) # logit_mean_cv_scores2)\n",
    "# for i in range(0, 20):\n",
    "#     plt.axvline(x=logit_c_values2[i])\n",
    "plt.axvline(x=logit_c_values2[10])\n",
    "\n",
    "\n",
    "#plt.xscale('log')\n",
    "plt.grid(True)\n",
    "plt.title('График зависимости доли правильных ответов на кросс-валидации от C.')\n",
    "plt.show()"
   ]
  },
  {
   "cell_type": "markdown",
   "metadata": {},
   "source": [
    "**4. Обучите линейный SVM (`LinearSVC`) с параметром `C`=1 и `random_state`=17 (для воспроизводимости). Посмотрите на долю правильных ответов на кросс-валидации (используйте объект `skf`, созданный ранее) и на выборке `(X_valid, y_valid)`.**"
   ]
  },
  {
   "cell_type": "code",
   "execution_count": 30,
   "metadata": {},
   "outputs": [],
   "source": [
    "from sklearn.svm import LinearSVC"
   ]
  },
  {
   "cell_type": "code",
   "execution_count": 31,
   "metadata": {},
   "outputs": [],
   "source": [
    "#''' ВАШ КОД ЗДЕСЬ '''\n",
    "svm = LinearSVC(C=1., random_state=17).fit(X_train, y_train)\n",
    "###print('доля правильных ответов на кросс-валидации    {:.3f}'.format(test_KNeighbors(svm, X_train, y_train)))\n",
    "### print('доля правильных ответов на отложенной выборке {:.3f}'.format(svm.score(X_valid, y_valid)))"
   ]
  },
  {
   "cell_type": "markdown",
   "metadata": {},
   "source": [
    "**С помощью `GridSearchCV` подберите параметр `C` для SVM сначала в широком диапазоне: 10 значений от 1e-4 до 1e4, используйте `linspace` из NumPy. Нарисуйте кривые валидации.**"
   ]
  },
  {
   "cell_type": "code",
   "execution_count": 45,
   "metadata": {},
   "outputs": [
    {
     "name": "stdout",
     "output_type": "stream",
     "text": [
      "CPU times: user 5.5 s, sys: 16.7 ms, total: 5.52 s\n",
      "Wall time: 18.8 s\n"
     ]
    }
   ],
   "source": [
    "%%time\n",
    "svm_params1 = {'C': np.linspace(1e-4, 1e4, 10)}\n",
    "svm_grid_searcher1 = GridSearchCV(svm, svm_params1, cv=skf, n_jobs=-1, \n",
    "                                  return_train_score=True)\n",
    "#''' ВАШ КОД ЗДЕСЬ '''\n",
    "result = svm_grid_searcher1.fit(X_train, y_train)"
   ]
  },
  {
   "cell_type": "markdown",
   "metadata": {},
   "source": [
    "Выведите лучшее значение доли правильных ответов на кросс-валидации и соответствующее значение `C`."
   ]
  },
  {
   "cell_type": "code",
   "execution_count": 33,
   "metadata": {},
   "outputs": [
    {
     "name": "stdout",
     "output_type": "stream",
     "text": [
      "0.692237350132087\n",
      "{'C': 5555.555600000001}\n"
     ]
    }
   ],
   "source": [
    "#''' ВАШ КОД ЗДЕСЬ '''\n",
    "print(svm_grid_searcher1.best_score_)\n",
    "print(svm_grid_searcher1.best_params_)"
   ]
  },
  {
   "cell_type": "markdown",
   "metadata": {},
   "source": [
    "Нарисуйте график зависимости доли правильных ответов на кросс-валидации от `C`."
   ]
  },
  {
   "cell_type": "code",
   "execution_count": 75,
   "metadata": {},
   "outputs": [
    {
     "data": {
      "image/png": "[encoded data removed]",
      "text/plain": [
       "<Figure size 432x288 with 1 Axes>"
      ]
     },
     "metadata": {
      "needs_background": "light"
     },
     "output_type": "display_data"
    }
   ],
   "source": [
    " plot_validation_curves(svm_params1['C'], svm_grid_searcher1.cv_results_)"
   ]
  },
  {
   "cell_type": "code",
   "execution_count": null,
   "metadata": {},
   "outputs": [],
   "source": [
    "#plot_validation_curves(svm_params1['C'], svm_grid_searcher1.cv_results_)\n",
    "\n",
    "# plt.figure(figsize=(15, 7))\n",
    "# plt.plot(svm_params1['C'], svm_grid_searcher1.cv_results_['mean_test_score'])\n",
    "# #plt.xscale('log')\n",
    "# plt.grid(True)\n",
    "# plt.title('График зависимости доли правильных ответов на кросс-валидации от C.');"
   ]
  },
  {
   "cell_type": "markdown",
   "metadata": {},
   "source": [
    "**Но мы помним, что с параметром регуляризации по умолчанию (С=1) на кросс-валидации доля правильных ответов выше. Это тот случай (не редкий), когда можно ошибиться и перебирать параметры не в том диапазоне (причина в том, что мы взяли равномерную сетку на большом интервале и упустили действительно хороший интервал значений `C`). Здесь намного осмысленней подбирать `C` в районе 1, к тому же, так модель быстрее обучается, чем при больших `C`. **\n",
    "\n",
    "**С помощью `GridSearchCV` подберите параметр `C` для SVM в диапазоне (1e-3, 1), 30 значений, используйте `linspace` из NumPy. Нарисуйте кривые валидации.**"
   ]
  },
  {
   "cell_type": "code",
   "execution_count": 79,
   "metadata": {},
   "outputs": [
    {
     "name": "stdout",
     "output_type": "stream",
     "text": [
      "0.7649867913025807\n",
      "{'C': 0.24213793103448275}\n",
      "CPU times: user 3.12 s, sys: 51.7 ms, total: 3.17 s\n",
      "Wall time: 27 s\n"
     ]
    }
   ],
   "source": [
    "%%time\n",
    "svm_params2 = {'C': np.linspace(1e-3, 1, 30)}\n",
    "\n",
    "svm_grid_searcher2 = GridSearchCV(svm, svm_params2, cv=skf, n_jobs=-1,\n",
    "                                 return_train_score=True)\n",
    "#''' ВАШ КОД ЗДЕСЬ '''\n",
    "svm_grid_searcher2.fit(X_train, y_train)\n",
    "print(svm_grid_searcher2.best_score_)\n",
    "print(svm_grid_searcher2.best_params_)"
   ]
  },
  {
   "cell_type": "code",
   "execution_count": null,
   "metadata": {},
   "outputs": [],
   "source": [
    "svm_grid_searcher2"
   ]
  },
  {
   "cell_type": "markdown",
   "metadata": {},
   "source": [
    "Выведите лучшее значение доли правильных ответов на кросс-валидации и соответствующее значение `C`."
   ]
  },
  {
   "cell_type": "code",
   "execution_count": null,
   "metadata": {},
   "outputs": [],
   "source": [
    "#''' ВАШ КОД ЗДЕСЬ '''\n",
    "print(svm_grid_searcher2.best_score_)\n",
    "print(svm_grid_searcher2.best_params_)"
   ]
  },
  {
   "cell_type": "markdown",
   "metadata": {},
   "source": [
    "Нарисуйте график зависимости доли правильных ответов на кросс-валидации от С."
   ]
  },
  {
   "cell_type": "code",
   "execution_count": 84,
   "metadata": {},
   "outputs": [
    {
     "data": {
      "text/plain": [
       "0.34548275862068967"
      ]
     },
     "execution_count": 84,
     "metadata": {},
     "output_type": "execute_result"
    }
   ],
   "source": [
    "svm_params2['C'][10]"
   ]
  },
  {
   "cell_type": "code",
   "execution_count": 120,
   "metadata": {},
   "outputs": [
    {
     "data": {
      "image/png": "[encoded data removed]",
      "text/plain": [
       "<Figure size 432x288 with 1 Axes>"
      ]
     },
     "metadata": {
      "needs_background": "light"
     },
     "output_type": "display_data"
    }
   ],
   "source": [
    " plot_validation_curves(svm_params2['C'], svm_grid_searcher2.cv_results_)"
   ]
  },
  {
   "cell_type": "code",
   "execution_count": null,
   "metadata": {},
   "outputs": [],
   "source": [
    "# #plot_validation_curves(svm_params2['C'], svm_grid_searcher2.cv_results_)\n",
    "# plt.figure(figsize=(15, 7))\n",
    "# plt.plot(svm_params2['C'], svm_grid_searcher2.cv_results_['mean_test_score'])\n",
    "# #plt.xscale('log')\n",
    "# plt.grid(True)\n",
    "# plt.title('График зависимости доли правильных ответов на кросс-валидации от C.');"
   ]
  },
  {
   "cell_type": "markdown",
   "metadata": {},
   "source": [
    "Выведите долю правильных ответов на выборке `(X_valid, y_valid)` для `LinearSVC` с лучшим найденным значением `C`."
   ]
  },
  {
   "cell_type": "code",
   "execution_count": null,
   "metadata": {},
   "outputs": [],
   "source": [
    "svm_cv_acc = accuracy_score(y_valid, svm_grid_searcher2.best_estimator_.predict(X_valid))\n",
    "#''' ВАШ КОД ЗДЕСЬ '''\n",
    "print('доля правильных ответов на отложенной выборке {:.3f}'.format(svm_cv_acc))"
   ]
  },
  {
   "cell_type": "markdown",
   "metadata": {},
   "source": [
    "**<font color='red'>Вопрос 4. </font> Посчитайте доли правильных ответов для `svm_grid_searcher2` на кросс-валидации для лучшего значения параметра `C` и на отложенной выборке. Округлите каждое до 3 знаков после запятой и выведите через пробел.**"
   ]
  },
  {
   "cell_type": "code",
   "execution_count": null,
   "metadata": {},
   "outputs": [],
   "source": [
    "svm_grid_searcher2"
   ]
  },
  {
   "cell_type": "code",
   "execution_count": null,
   "metadata": {},
   "outputs": [],
   "source": [
    "#''' ВАШ КОД ЗДЕСЬ '''\n",
    "#ans_4_0 = test_KNeighbors(svm_grid_searcher2, X_train, y_train)\n",
    "\n",
    "#ascores3 = np.array(next(iter(svm_grid_searcher2.scores_.values()))).mean(axis=0)\n",
    "#logit_mean_cv_scores2 = ascores3.mean(axis=0)\n",
    "\n",
    "#ans_4_00 = ans_3_0 = logit_mean_cv_scores2[best_pos2]\n",
    "\n",
    "\n",
    "ans_4_00 = cross_val_score(svm_grid_searcher2.best_estimator_, X_train, y_train, cv=skf).mean()\n",
    "\n",
    "#ans_4_1 = svm_grid_searcher2.best_estimator_.score(X_valid, y_valid)\n",
    "\n",
    "print('{:.3f}, {:.3f}'.format(ans_4_00, svm_cv_acc))\n",
    "#save_answer_Array(4, [ans_4_00, ans_4_1])"
   ]
  },
  {
   "cell_type": "code",
   "execution_count": null,
   "metadata": {},
   "outputs": [],
   "source": [
    "save_answer_Array(4, [ans_4_00, svm_cv_acc])"
   ]
  },
  {
   "cell_type": "markdown",
   "metadata": {},
   "source": [
    "## Часть 2. Выбор параметров – длины сессии и ширины окна"
   ]
  },
  {
   "cell_type": "markdown",
   "metadata": {},
   "source": [
    "**Возьмем `LinearSVC`, показавший лучшее качество на кросс-валидации в 1 части, и проверим его работу еще на 8 выборках для 10 пользователей (с разными сочетаниями параметров *session_length* и *window_size*). Поскольку тут уже вычислений побольше, мы не будем каждый раз заново подбирать параметр регуляризации `C`.**\n",
    "\n",
    "**Определите функцию `model_assessment`, ее документация описана ниже. Обратите внимание на все детали. Например, на то, что разбиение  выборки с `train_test_split` должно быть стратифицированным. Не теряйте нигде `random_state`.**"
   ]
  },
  {
   "cell_type": "code",
   "execution_count": null,
   "metadata": {},
   "outputs": [],
   "source": [
    "def model_assessment(estimator, path_to_X_pickle, path_to_y_pickle, cv, random_state=17, test_size=0.3):\n",
    "    '''\n",
    "    Estimates CV-accuracy for (1 - test_size) share of (X_sparse, y) \n",
    "    loaded from path_to_X_pickle and path_to_y_pickle and holdout accuracy for (test_size) \n",
    "    share of (X_sparse, y).\n",
    "    The split is made with stratified train_test_split with params random_state and test_size.\n",
    "    \n",
    "    :param estimator – Scikit-learn estimator (classifier or regressor)\n",
    "    :param path_to_X_pickle – path to pickled sparse X (instances and their features)\n",
    "    :param path_to_y_pickle – path to pickled y (responses)\n",
    "    :param cv – cross-validation as in cross_val_score (use StratifiedKFold here)\n",
    "    :param random_state –  for train_test_split\n",
    "    :param test_size –  for train_test_split\n",
    "    \n",
    "    :returns mean CV-accuracy for (X_train, y_train) and accuracy for (X_valid, y_valid) \n",
    "    where (X_train, y_train)\n",
    "    and (X_valid, y_valid) are (1 - test_size) and (testsize) shares of (X_sparse, y).\n",
    "    '''\n",
    "    start_time = time.time()\n",
    "    with open(path_to_X_pickle, 'rb') as f:\n",
    "        X = pickle.load(f)\n",
    "    with open(path_to_y_pickle, 'rb') as f:\n",
    "        y = pickle.load(f)\n",
    "    \n",
    "    X_train, X_valid, y_train, y_valid = train_test_split(X, y, test_size=test_size, \n",
    "                                                     random_state=random_state, stratify=y)\n",
    "    estimator.fit(X_train, y_train)\n",
    "    return (cross_val_score(estimator, X_train, y_train, cv=cv).mean(), \n",
    "            estimator.score(X_valid, y_valid),\n",
    "            time.time() - start_time\n",
    "           )\n",
    "    #''' ВАШ КОД ЗДЕСЬ '''"
   ]
  },
  {
   "cell_type": "markdown",
   "metadata": {},
   "source": [
    "**Убедитесь, что функция работает.**"
   ]
  },
  {
   "cell_type": "code",
   "execution_count": null,
   "metadata": {},
   "outputs": [],
   "source": [
    "svm_grid_searcher2.best_estimator_"
   ]
  },
  {
   "cell_type": "code",
   "execution_count": null,
   "metadata": {},
   "outputs": [],
   "source": [
    "model_assessment(svm_grid_searcher2.best_estimator_, \n",
    "                 os.path.join(PATH_TO_DATA, 'X_sparse_10users.pkl'),\n",
    "        os.path.join(PATH_TO_DATA, 'y_10users.pkl'), skf, random_state=17, test_size=0.3)"
   ]
  },
  {
   "cell_type": "markdown",
   "metadata": {},
   "source": [
    "**Примените функцию *model_assessment* для лучшего алгоритма из предыдущей части (а именно, `svm_grid_searcher2.best_estimator_`) и 9 выборок вида с разными сочетаниями параметров *session_length* и *window_size* для 10 пользователей. Выведите в цикле параметры *session_length* и *window_size*, а также результат вывода функции *model_assessment*. \n",
    "Удобно сделать так, чтоб *model_assessment* возвращала 3-им элементом время, за которое она выполнилась. На моем ноуте этот участок кода выполнился за 20 секунд. Но со 150 пользователями каждая итерация занимает уже несколько минут.**"
   ]
  },
  {
   "cell_type": "markdown",
   "metadata": {},
   "source": [
    "Здесь для удобства стоит создать копии ранее созданных pickle-файлов X_sparse_10users.pkl, X_sparse_150users.pkl, y_10users.pkl и y_150users.pkl, добавив к их названиям s10_w10, что означает длину сессии 10 и ширину окна 10. "
   ]
  },
  {
   "cell_type": "code",
   "execution_count": null,
   "metadata": {},
   "outputs": [],
   "source": [
    "!copy $PATH_TO_DATA\\X_sparse_10users.pkl $PATH_TO_DATA\\X_sparse_10users_s10_w10.pkl \n",
    "!copy $PATH_TO_DATA\\X_sparse_150users.pkl $PATH_TO_DATA\\X_sparse_150users_s10_w10.pkl \n",
    "!copy $PATH_TO_DATA\\y_10users.pkl $PATH_TO_DATA\\y_10users_s10_w10.pkl \n",
    "!copy $PATH_TO_DATA\\y_150users.pkl $PATH_TO_DATA\\y_150users_s10_w10.pkl "
   ]
  },
  {
   "cell_type": "code",
   "execution_count": null,
   "metadata": {},
   "outputs": [],
   "source": [
    "%%time\n",
    "nusers = 10\n",
    "estimator = svm_grid_searcher2.best_estimator_\n",
    "\n",
    "for window_size, session_length in itertools.product([10, 7, 5], [15, 10, 7, 5]):\n",
    "    if window_size <= session_length:\n",
    "        path_to_X_pkl = os.path.join(PATH_TO_DATA, 'X_sparse_{}users_s{:02d}_w{:02d}.pkl'.format(nusers, session_length, window_size))\n",
    "        path_to_y_pkl = os.path.join(PATH_TO_DATA, 'y_{}users_s{:02d}_w{:02d}.pkl'.format(nusers, session_length, window_size))\n",
    "        print (model_assessment(estimator, path_to_X_pkl, path_to_y_pkl, skf))"
   ]
  },
  {
   "cell_type": "markdown",
   "metadata": {},
   "source": [
    "**<font color='red'>Вопрос 5. </font> Посчитайте доли правильных ответов для `LinearSVC` с настроенным параметром `C` и выборки `X_sparse_10users_s15_w5`. Укажите доли правильных ответов на кросс-валидации и на отложенной выборке. Округлите каждое до 3 знаков после запятой и выведите через пробел.**"
   ]
  },
  {
   "cell_type": "code",
   "execution_count": null,
   "metadata": {},
   "outputs": [],
   "source": [
    "%%time\n",
    "#''' ВАШ КОД ЗДЕСЬ '''\n",
    "session_length, window_size, nusers = 15, 5, 10\n",
    "path_to_X_pkl = os.path.join(PATH_TO_DATA, 'X_sparse_{}users_s{:02d}_w{:02d}.pkl'.format(nusers, session_length, window_size))\n",
    "path_to_y_pkl = os.path.join(PATH_TO_DATA, 'y_{}users_s{:02d}_w{:02d}.pkl'.format(nusers, session_length, window_size))\n",
    "ans_5 = model_assessment(estimator, path_to_X_pkl, path_to_y_pkl, skf)\n"
   ]
  },
  {
   "cell_type": "code",
   "execution_count": null,
   "metadata": {},
   "outputs": [],
   "source": [
    "print('{:.3f}, {:.3f}'.format(ans_5[0], ans_5[1]))\n",
    "save_answer_Array(5, [ans_5[0], ans_5[1]])"
   ]
  },
  {
   "cell_type": "markdown",
   "metadata": {},
   "source": [
    "**Прокомментируйте полученные результаты. Сравните для 150 пользователей доли правильных ответов на кросс-валидации и оставленной выборке для сочетаний параметров (*session_length, window_size*): (5,5), (7,7) и (10,10). На среднем ноуте это может занять до часа – запаситесь терпением, это Data Science :) **\n",
    "\n",
    "**Сделайте вывод о том, как качество классификации зависит от длины сессии и ширины окна.**"
   ]
  },
  {
   "cell_type": "code",
   "execution_count": null,
   "metadata": {},
   "outputs": [],
   "source": [
    "%%time\n",
    "nusers = 150\n",
    "estimator = svm_grid_searcher2.best_estimator_\n",
    "\n",
    "for window_size, session_length in [(5,5), (7,7), (10,10)]:\n",
    "    path_to_X_pkl = os.path.join(PATH_TO_DATA, 'X_sparse_{}users_s{:02d}_w{:02d}.pkl'.format(nusers, session_length, window_size))\n",
    "    path_to_y_pkl = os.path.join(PATH_TO_DATA, 'y_{}users_s{:02d}_w{:02d}.pkl'.format(nusers, session_length, window_size))\n",
    "    print (model_assessment(estimator, path_to_X_pkl, path_to_y_pkl, skf))"
   ]
  },
  {
   "cell_type": "markdown",
   "metadata": {},
   "source": [
    "**<font color='red'>Вопрос 6. </font> Посчитайте доли правильных ответов для `LinearSVC` с настроенным параметром `C` и выборки `X_sparse_150users`. Укажите доли правильных ответов на кросс-валидации и на отложенной выборке. Округлите каждое до 3 знаков после запятой и выведите через пробел.**"
   ]
  },
  {
   "cell_type": "code",
   "execution_count": null,
   "metadata": {},
   "outputs": [],
   "source": [
    "%%time\n",
    "#''' ВАШ КОД ЗДЕСЬ '''\n",
    "session_length, window_size, nusers = 10, 10, 150\n",
    "path_to_X_pkl = os.path.join(PATH_TO_DATA, 'X_sparse_{}users_s{:02d}_w{:02d}.pkl'.format(nusers, session_length, window_size))\n",
    "path_to_y_pkl = os.path.join(PATH_TO_DATA, 'y_{}users_s{:02d}_w{:02d}.pkl'.format(nusers, session_length, window_size))\n",
    "ans_6 = model_assessment(estimator, path_to_X_pkl, path_to_y_pkl, skf)"
   ]
  },
  {
   "cell_type": "code",
   "execution_count": null,
   "metadata": {},
   "outputs": [],
   "source": [
    "print('{:.3f}, {:.3f}'.format(ans_6[0], ans_6[1]))\n",
    "save_answer_Array(6, [ans_6[0], ans_6[1]])"
   ]
  },
  {
   "cell_type": "markdown",
   "metadata": {},
   "source": [
    "## Часть 3. Идентификация  конкретного пользователя и кривые обучения"
   ]
  },
  {
   "cell_type": "markdown",
   "metadata": {},
   "source": [
    "**Поскольку может разочаровать, что многоклассовая доля правильных ответов на выборке из 150 пользовалей невелика, порадуемся тому, что конкретного пользователя можно идентифицировать достаточно хорошо. **"
   ]
  },
  {
   "cell_type": "markdown",
   "metadata": {},
   "source": [
    "**Загрузим сериализованные ранее объекты *X_sparse_150users* и *y_150users*, соответствующие обучающей выборке для 150 пользователей с параметрами (*session_length, window_size*) = (10,10). Так же точно разобьем их на 70% и 30%.**"
   ]
  },
  {
   "cell_type": "code",
   "execution_count": 62,
   "metadata": {},
   "outputs": [],
   "source": [
    "with open(os.path.join(PATH_TO_DATA, 'X_sparse_150users.pkl'), 'rb') as X_sparse_150users_pkl:\n",
    "     X_sparse_150users = pickle.load(X_sparse_150users_pkl)\n",
    "with open(os.path.join(PATH_TO_DATA, 'y_150users.pkl'), 'rb') as y_150users_pkl:\n",
    "    y_150users = pickle.load(y_150users_pkl)"
   ]
  },
  {
   "cell_type": "code",
   "execution_count": 63,
   "metadata": {},
   "outputs": [],
   "source": [
    "X_train_150, X_valid_150, y_train_150, y_valid_150 = train_test_split(X_sparse_150users, \n",
    "                                                                      y_150users, test_size=0.3, \n",
    "                                                     random_state=17, stratify=y_150users)"
   ]
  },
  {
   "cell_type": "markdown",
   "metadata": {},
   "source": [
    "**Обучите `LogisticRegressionCV` для одного значения параметра `C` (лучшего на кросс-валидации в 1 части, используйте точное значение, не на глаз). Теперь будем решать 150 задач \"Один-против-Всех\", поэтому укажите аргумент `multi_class`='ovr'. Как всегда, где возможно, указывайте `n_jobs=-1` и `random_state`=17.**"
   ]
  },
  {
   "cell_type": "markdown",
   "metadata": {},
   "source": [
    "<font color='red'>\n",
    "Выяснить, почему правильно logit_grid_searcher2.Cs_[10]\n",
    " </font>"
   ]
  },
  {
   "cell_type": "code",
   "execution_count": 64,
   "metadata": {},
   "outputs": [
    {
     "name": "stdout",
     "output_type": "stream",
     "text": [
      "Wall time: 11min 37s\n"
     ]
    }
   ],
   "source": [
    "%%time\n",
    "## пробовал 1.5526315789473686, 0.13879310344827586 0.24213793103448275\n",
    "## Прошло 3.7315789473684213 (Cs_[10]) - но почему???\n",
    "\n",
    "logit_cv_150users = LogisticRegressionCV(Cs=[logit_grid_searcher2.Cs_[10]], cv=skf, multi_class='ovr', \n",
    "                                            n_jobs=-1, random_state=17)\n",
    "#''' ВАШ КОД ЗДЕСЬ '''\n",
    "logit_cv_150users.fit(X_train_150, y_train_150)"
   ]
  },
  {
   "cell_type": "code",
   "execution_count": null,
   "metadata": {},
   "outputs": [],
   "source": [
    "# В форуме предлагается использовать\n",
    "# logit_grid_searcher2.Cs_[10]\n",
    "#logit_grid_searcher2"
   ]
  },
  {
   "cell_type": "markdown",
   "metadata": {},
   "source": [
    "**Посмотрите на средние доли правильных ответов на кросс-валидации в задаче идентификации каждого пользователя по отдельности.**"
   ]
  },
  {
   "cell_type": "code",
   "execution_count": null,
   "metadata": {},
   "outputs": [],
   "source": [
    "cv_scores_by_user = {}\n",
    "for user_id in logit_cv_150users.scores_:\n",
    "    print('User {}, CV score: {}'.format(user_id, logit_cv_150users.scores_[user_id].mean()))\n",
    "#''' ВАШ КОД ЗДЕСЬ '''"
   ]
  },
  {
   "cell_type": "markdown",
   "metadata": {},
   "source": [
    "**Результаты кажутся впечатляющими, но возможно, мы забываем про дисбаланс классов, и высокую долю правильных ответов можно получить константным прогнозом. Посчитайте для каждого пользователя разницу между долей правильных ответов на кросс-валидации (только что посчитанную с помощью `LogisticRegressionCV`) и долей меток в *y_train_150*, отличных от ID \n",
    " этого пользователя (именно такую долю правильных ответов можно получить, если классификатор всегда \"говорит\", что это не пользователь с номером $i$ в задаче классификации $i$-vs-All).**"
   ]
  },
  {
   "cell_type": "code",
   "execution_count": null,
   "metadata": {},
   "outputs": [],
   "source": [
    "logit_cv_150users.scores_[6].mean()"
   ]
  },
  {
   "cell_type": "code",
   "execution_count": null,
   "metadata": {},
   "outputs": [],
   "source": [
    "(y_train_150.shape[0] - class_distr[6])/y_train_150.shape[0]"
   ]
  },
  {
   "cell_type": "code",
   "execution_count": null,
   "metadata": {},
   "outputs": [],
   "source": [
    "class_distr = np.bincount(y_train_150.astype('int'))\n",
    "#print(class_distr.sum())\n",
    "acc_diff_vs_constant = {}\n",
    "for user_id in np.unique(y_train_150):\n",
    "    acc_diff_vs_constant[user_id] =  logit_cv_150users.scores_[user_id].mean() - 1. + 1.*class_distr[user_id]/y_train_150.shape[0]\n",
    "    \n",
    "#    ''' ВАШ КОД ЗДЕСЬ '''\n"
   ]
  },
  {
   "cell_type": "code",
   "execution_count": null,
   "metadata": {},
   "outputs": [],
   "source": [
    "num_better_than_default = (np.array(list(acc_diff_vs_constant.values())) > 0).sum()\n",
    "print(num_better_than_default)\n",
    "# Не правильно 129, 134, 136, 121"
   ]
  },
  {
   "cell_type": "code",
   "execution_count": null,
   "metadata": {},
   "outputs": [],
   "source": [
    "np.array(list(acc_diff_vs_constant.values())) > 0"
   ]
  },
  {
   "cell_type": "markdown",
   "metadata": {},
   "source": [
    "**<font color='red'>Вопрос 7. </font> Посчитайте долю пользователей, для которых логистическая регрессия на кросс-валидации дает прогноз лучше константного. Округлите до 3 знаков после запятой.**"
   ]
  },
  {
   "cell_type": "code",
   "execution_count": null,
   "metadata": {},
   "outputs": [],
   "source": [
    "#''' ВАШ КОД ЗДЕСЬ '''\n",
    "ans_7 = num_better_than_default/len(np.unique(y_train_150))\n",
    "print('{:.3f}'.format(ans_7))\n",
    "save_answer_Array(7, [ans_7])\n",
    "# Не правильно 0.860 0.907 \n",
    "#Правильно: 0.807"
   ]
  },
  {
   "cell_type": "markdown",
   "metadata": {},
   "source": [
    "**Дальше будем строить кривые обучения для конкретного пользователя, допустим, для 128-го. Составьте новый бинарный вектор на основе *y_150users*, его значения будут 1 или 0 в зависимости от того, равен ли ID-шник пользователя 128.**"
   ]
  },
  {
   "cell_type": "code",
   "execution_count": null,
   "metadata": {},
   "outputs": [],
   "source": [
    "y_binary_128 = ''' ВАШ КОД ЗДЕСЬ '''"
   ]
  },
  {
   "cell_type": "code",
   "execution_count": null,
   "metadata": {},
   "outputs": [],
   "source": [
    "from sklearn.model_selection import learning_curve\n",
    "\n",
    "def plot_learning_curve(val_train, val_test, train_sizes, \n",
    "                        xlabel='Training Set Size', ylabel='score'):\n",
    "    def plot_with_err(x, data, **kwargs):\n",
    "        mu, std = data.mean(1), data.std(1)\n",
    "        lines = plt.plot(x, mu, '-', **kwargs)\n",
    "        plt.fill_between(x, mu - std, mu + std, edgecolor='none',\n",
    "                         facecolor=lines[0].get_color(), alpha=0.2)\n",
    "    plot_with_err(train_sizes, val_train, label='train')\n",
    "    plot_with_err(train_sizes, val_test, label='valid')\n",
    "    plt.xlabel(xlabel); plt.ylabel(ylabel)\n",
    "    plt.legend(loc='lower right');"
   ]
  },
  {
   "cell_type": "markdown",
   "metadata": {},
   "source": [
    "**Посчитайте доли правильных ответов на кросс-валидации в задаче классификации \"user128-vs-All\" в зависимости от размера выборки. Не помешает посмотреть встроенную документацию для *learning_curve*.**"
   ]
  },
  {
   "cell_type": "code",
   "execution_count": null,
   "metadata": {},
   "outputs": [],
   "source": [
    "%%time\n",
    "train_sizes = np.linspace(0.25, 1, 20)\n",
    "estimator = svm_grid_searcher2.best_estimator_\n",
    "n_train, val_train, val_test = learning_curve ''' ВАШ КОД ЗДЕСЬ '''"
   ]
  },
  {
   "cell_type": "code",
   "execution_count": null,
   "metadata": {},
   "outputs": [],
   "source": [
    "plot_learning_curve(val_train, val_test, n_train, \n",
    "                    xlabel='train_size', ylabel='accuracy')"
   ]
  },
  {
   "cell_type": "markdown",
   "metadata": {},
   "source": [
    "**Сделайте выводы о том, помогут ли алгоритму новые размеченные данные при той же постановке задачи.**"
   ]
  },
  {
   "cell_type": "markdown",
   "metadata": {},
   "source": [
    "## Пути улучшения\n",
    "- конечно, можно проверить еще кучу алгоритмов, например, Xgboost, но в такой задаче очень маловероятно, что что-то справится лучше линейных методов\n",
    "- интересно проверить качество алгоритма на данных, где сессии выделялись не по количеству посещенных сайтов, а по времени, например, 5, 7, 10 и 15 минут. Отдельно стоит отметить данные нашего [соревнования](https://inclass.kaggle.com/c/catch-me-if-you-can-intruder-detection-through-webpage-session-tracking2) \n",
    "- опять же, если ресурсы позволяют, можно проверить, насколько хорошо можно решить задачу для 3000 пользователей\n",
    "\n",
    "\n",
    "На следующей неделе мы вспомним про линейные модели, обучаемые стохастическим градиентным спуском, и порадуемся тому, насколько быстрее они работают. Также сделаем первые (или не первые) посылки в [соревновании](https://inclass.kaggle.com/c/catch-me-if-you-can-intruder-detection-through-webpage-session-tracking2) Kaggle Inclass."
   ]
  }
 ],
 "metadata": {
  "anaconda-cloud": {},
  "kernelspec": {
   "display_name": "Python [conda env:newpy]",
   "language": "python",
   "name": "conda-env-newpy-py"
  },
  "language_info": {
   "codemirror_mode": {
    "name": "ipython",
    "version": 3
   },
   "file_extension": ".py",
   "mimetype": "text/x-python",
   "name": "python",
   "nbconvert_exporter": "python",
   "pygments_lexer": "ipython3",
   "version": "3.7.3"
  }
 },
 "nbformat": 4,
 "nbformat_minor": 1
}
