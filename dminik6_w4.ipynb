{
 "cells": [
  {
   "cell_type": "markdown",
   "metadata": {},
   "source": [
    "<center>\n",
    "<img src=\"https://habrastorage.org/web/677/8e1/337/6778e1337c3d4b159d7e99df94227cb2.jpg\"/>\n",
    "## Специализация \"Машинное обучение и анализ данных\"\n",
    "<center>Автор материала: программист-исследователь Mail.Ru Group, старший преподаватель Факультета Компьютерных Наук ВШЭ [Юрий Кашницкий](https://yorko.github.io/)"
   ]
  },
  {
   "cell_type": "markdown",
   "metadata": {},
   "source": [
    "# <center> Capstone проект №1 <br> Идентификация пользователей по посещенным веб-страницам\n",
    "<img src='http://i.istockimg.com/file_thumbview_approve/21546327/5/stock-illustration-21546327-identification-de-l-utilisateur.jpg'>\n",
    "\n",
    "# <center>Неделя 4.  Сравнение алгоритмов классификации\n",
    "\n",
    "Теперь мы наконец подойдем к обучению моделей классификации, сравним на кросс-валидации несколько алгоритмов, разберемся, какие параметры длины сессии (*session_length* и *window_size*) лучше использовать. Также для выбранного алгоритма построим кривые валидации (как качество классификации зависит от одного из гиперпараметров алгоритма) и кривые обучения (как качество классификации зависит от объема выборки).\n",
    "\n",
    "**План 4 недели:**\n",
    "- Часть 1. Сравнение нескольких алгоритмов на сессиях из 10 сайтов\n",
    "- Часть 2. Выбор параметров – длины сессии и ширины окна\n",
    "- Часть 3. Идентификация  конкретного пользователя и кривые обучения\n",
    " \n",
    "\n",
    "\n",
    "**В этой части проекта Вам могут быть полезны видеозаписи следующих лекций курса \"Обучение на размеченных данных\":**\n",
    "   - [Линейная классификация](https://www.coursera.org/learn/supervised-learning/lecture/jqLcO/linieinaia-klassifikatsiia)\n",
    "   - [Сравнение алгоритмов и выбор гиперпараметров](https://www.coursera.org/learn/supervised-learning/lecture/aF79U/sravnieniie-alghoritmov-i-vybor-ghipierparamietrov)\n",
    "   - [Кросс-валидация. Sklearn.cross_validation](https://www.coursera.org/learn/supervised-learning/lecture/XbHEk/kross-validatsiia-sklearn-cross-validation)\n",
    "   - [Линейные модели. Sklearn.linear_model. Классификация](https://www.coursera.org/learn/supervised-learning/lecture/EBg9t/linieinyie-modieli-sklearn-linear-model-klassifikatsiia)\n",
    "   - и многие другие\n"
   ]
  },
  {
   "cell_type": "markdown",
   "metadata": {},
   "source": [
    "### Задание\n",
    "1. Заполните код в этой тетрадке \n",
    "2. Если вы проходите специализацию Яндеса и МФТИ, пошлите файл с ответами в соответствующем Programming Assignment. <br> Если вы проходите курс ODS, выберите ответы в [веб-форме](https://docs.google.com/forms/d/12VB7kmzDoSVzSpQNaJp0tR-2t8K8PynQopP3dypf7i4).  "
   ]
  },
  {
   "cell_type": "code",
   "execution_count": 58,
   "metadata": {},
   "outputs": [],
   "source": [
    "# pip install watermark\n",
    "%load_ext watermark"
   ]
  },
  {
   "cell_type": "code",
   "execution_count": 59,
   "metadata": {},
   "outputs": [
    {
     "name": "stdout",
     "output_type": "stream",
     "text": [
      "CPython 3.7.3\n",
      "IPython 7.5.0\n",
      "\n",
      "numpy 1.16.3\n",
      "scipy 1.2.1\n",
      "pandas 0.24.2\n",
      "matplotlib 3.0.3\n",
      "statsmodels 0.9.0\n",
      "sklearn 0.21.0\n",
      "\n",
      "compiler   : MSC v.1915 64 bit (AMD64)\n",
      "system     : Windows\n",
      "release    : 7\n",
      "machine    : AMD64\n",
      "processor  : Intel64 Family 6 Model 69 Stepping 1, GenuineIntel\n",
      "CPU cores  : 2\n",
      "interpreter: 64bit\n",
      "Git hash   : 3513b6f47d8182a7a648434307003db29ef8aeba\n"
     ]
    }
   ],
   "source": [
    "%watermark -v -m -p numpy,scipy,pandas,matplotlib,statsmodels,sklearn -g"
   ]
  },
  {
   "cell_type": "code",
   "execution_count": 3,
   "metadata": {},
   "outputs": [],
   "source": [
    "# %watermark -v -m -p numpy,scipy,pandas,matplotlib,statsmodels,sklearn -g"
   ]
  },
  {
   "cell_type": "code",
   "execution_count": 60,
   "metadata": {},
   "outputs": [],
   "source": [
    "from __future__ import division, print_function\n",
    "# отключим всякие предупреждения Anaconda\n",
    "import warnings\n",
    "warnings.filterwarnings('ignore')\n",
    "from time import time\n",
    "import itertools\n",
    "import os\n",
    "import numpy as np\n",
    "import pandas as pd\n",
    "import seaborn as sns\n",
    "%matplotlib inline\n",
    "from matplotlib import pyplot as plt\n",
    "import pickle\n",
    "from scipy.sparse import csr_matrix\n",
    "from sklearn.model_selection import train_test_split, cross_val_score, StratifiedKFold, GridSearchCV\n",
    "from sklearn.metrics import accuracy_score, f1_score\n",
    "from sklearn.linear_model import LogisticRegression, LogisticRegressionCV\n",
    "import time"
   ]
  },
  {
   "cell_type": "code",
   "execution_count": 3,
   "metadata": {},
   "outputs": [],
   "source": [
    "# Поменяйте на свой путь к данным\n",
    "PATH_TO_DATA = 'capstone_user_identification'"
   ]
  },
  {
   "cell_type": "code",
   "execution_count": 4,
   "metadata": {},
   "outputs": [],
   "source": [
    "def save_answer_Array(fnameNum, array):\n",
    "    with open('dminik6_w4_{}.txt'.format(fnameNum),\"w\") as fout:\n",
    "        fout.write(\" \".join(['{:.3f}'.format(el) for el in array]))"
   ]
  },
  {
   "cell_type": "markdown",
   "metadata": {},
   "source": [
    "## Часть 1. Сравнение нескольких алгоритмов на сессиях из 10 сайтов"
   ]
  },
  {
   "cell_type": "markdown",
   "metadata": {},
   "source": [
    "**Загрузим сериализованные ранее объекты *X_sparse_10users* и *y_10users*, соответствующие обучающей выборке для 10 пользователей.**"
   ]
  },
  {
   "cell_type": "code",
   "execution_count": 5,
   "metadata": {},
   "outputs": [],
   "source": [
    "with open(os.path.join(PATH_TO_DATA, \n",
    "         'X_sparse_10users.pkl'), 'rb') as X_sparse_10users_pkl:\n",
    "    X_sparse_10users = pickle.load(X_sparse_10users_pkl)\n",
    "with open(os.path.join(PATH_TO_DATA, \n",
    "                       'y_10users.pkl'), 'rb') as y_10users_pkl:\n",
    "    y_10users = pickle.load(y_10users_pkl)"
   ]
  },
  {
   "cell_type": "markdown",
   "metadata": {},
   "source": [
    "**Здесь более 14 тысяч сессий и почти 5 тысяч уникальных посещенных сайтов.**"
   ]
  },
  {
   "cell_type": "code",
   "execution_count": 6,
   "metadata": {},
   "outputs": [
    {
     "data": {
      "text/plain": [
       "(14061, 4913)"
      ]
     },
     "execution_count": 6,
     "metadata": {},
     "output_type": "execute_result"
    }
   ],
   "source": [
    "X_sparse_10users.shape"
   ]
  },
  {
   "cell_type": "markdown",
   "metadata": {},
   "source": [
    "**Разобьем выборку на 2 части. На одной будем проводить кросс-валидацию, на второй – оценивать модель, обученную после кросс-валидации.**"
   ]
  },
  {
   "cell_type": "code",
   "execution_count": 7,
   "metadata": {},
   "outputs": [],
   "source": [
    "X_train, X_valid, y_train, y_valid = train_test_split(X_sparse_10users, y_10users, \n",
    "                                                      test_size=0.3, \n",
    "                                                     random_state=17, stratify=y_10users)"
   ]
  },
  {
   "cell_type": "markdown",
   "metadata": {},
   "source": [
    "**Зададим заранее тип кросс-валидации: 3-кратная, с перемешиванием, параметр random_state=17 – для воспроизводимости.**"
   ]
  },
  {
   "cell_type": "code",
   "execution_count": 8,
   "metadata": {},
   "outputs": [],
   "source": [
    "skf = StratifiedKFold(n_splits=3, shuffle=True, random_state=17)"
   ]
  },
  {
   "cell_type": "markdown",
   "metadata": {},
   "source": [
    "**Вспомогательная функция для отрисовки кривых валидации после запуска GridSearchCV (или RandomizedCV).**"
   ]
  },
  {
   "cell_type": "code",
   "execution_count": 9,
   "metadata": {},
   "outputs": [],
   "source": [
    "def plot_validation_curves(param_values, grid_cv_results_):\n",
    "    train_mu, train_std = grid_cv_results_['mean_train_score'], grid_cv_results_['std_train_score']\n",
    "    valid_mu, valid_std = grid_cv_results_['mean_test_score'], grid_cv_results_['std_test_score']\n",
    "    train_line = plt.plot(param_values, train_mu, '-', label='train', color='green')\n",
    "    valid_line = plt.plot(param_values, valid_mu, '-', label='test', color='red')\n",
    "    plt.fill_between(param_values, train_mu - train_std, train_mu + train_std, edgecolor='none',\n",
    "                     facecolor=train_line[0].get_color(), alpha=0.2)\n",
    "    plt.fill_between(param_values, valid_mu - valid_std, valid_mu + valid_std, edgecolor='none',\n",
    "                     facecolor=valid_line[0].get_color(), alpha=0.2)\n",
    "    plt.legend()"
   ]
  },
  {
   "cell_type": "markdown",
   "metadata": {},
   "source": [
    "**1. Обучите `KNeighborsClassifier` со 100 ближайшими соседями (остальные параметры оставьте по умолчанию, только `n_jobs`=-1 для распараллеливания) и посмотрите на долю правильных ответов на 3-кратной кросс-валидации (ради воспроизводимости используйте для этого объект `StratifiedKFold` `skf`) по выборке `(X_train, y_train)` и отдельно на выборке `(X_valid, y_valid)`.**"
   ]
  },
  {
   "cell_type": "code",
   "execution_count": 10,
   "metadata": {},
   "outputs": [],
   "source": [
    "from sklearn.neighbors import KNeighborsClassifier"
   ]
  },
  {
   "cell_type": "code",
   "execution_count": 11,
   "metadata": {},
   "outputs": [],
   "source": [
    "def test_KNeighbors(knn, X, y, skf):\n",
    "    m = []\n",
    "    # skf = StratifiedKFold(n_splits=3, shuffle=True, random_state=17)\n",
    "    #skf.get_n_splits(X, y)\n",
    "    for train_index, test_index in skf.split(X, y):\n",
    "        X_train, X_test = X[train_index], X[test_index]\n",
    "        y_train, y_test = y[train_index], y[test_index]\n",
    "        m.append( [knn.score(X_train, y_train), knn.score(X_test, y_test)])\n",
    "        #m.append( knn.score(X_train, y_train) )\n",
    "    return m\n",
    "\n",
    "# "
   ]
  },
  {
   "cell_type": "code",
   "execution_count": 12,
   "metadata": {},
   "outputs": [
    {
     "name": "stdout",
     "output_type": "stream",
     "text": [
      "Wall time: 1.09 ms\n"
     ]
    }
   ],
   "source": [
    "%%time\n",
    "knn = KNeighborsClassifier(n_neighbors=100, n_jobs=-1).fit(X_train, y_train)\n",
    "# Разобраться, почему test_KNeighbors и cross_val_score возвращают разные значения\n",
    "# хотя при выполнении Вопроса 3 решение принято.\n",
    "###ans_1_0 = test_KNeighbors(knn,  X_train, y_train) \n",
    "\n",
    "###print(ans_1_0, ans_1_00)"
   ]
  },
  {
   "cell_type": "code",
   "execution_count": null,
   "metadata": {
    "scrolled": false
   },
   "outputs": [],
   "source": [
    "# %%time\n",
    "# ans_1_1 = test_KNeighbors(knn,  X_train, y_train, skf)\n",
    "\n",
    "# # print('{:.3f}'.format(ans_1_1))"
   ]
  },
  {
   "cell_type": "code",
   "execution_count": 15,
   "metadata": {},
   "outputs": [],
   "source": [
    "#ans_1_1"
   ]
  },
  {
   "cell_type": "code",
   "execution_count": 17,
   "metadata": {},
   "outputs": [],
   "source": [
    "#cross_val_score(knn, X_train, y_train, cv=skf)"
   ]
  },
  {
   "cell_type": "markdown",
   "metadata": {},
   "source": [
    "**<font color='red'>Вопрос 1. </font> Посчитайте доли правильных ответов для KNeighborsClassifier на кросс-валидации и отложенной выборке. Округлите каждое до 3 знаков после запятой и введите через пробел.**"
   ]
  },
  {
   "cell_type": "code",
   "execution_count": 18,
   "metadata": {},
   "outputs": [
    {
     "name": "stdout",
     "output_type": "stream",
     "text": [
      "Доля правильных ответов для KNeighborsClassifier на кросс-валидации    0.561\n",
      "Доля правильных ответов для KNeighborsClassifier на отложенной выборке 0.582\n",
      "Wall time: 8.39 s\n"
     ]
    }
   ],
   "source": [
    "%%time\n",
    "# Ответ на вопрос 1\n",
    "ans_1_00 = cross_val_score(knn, X_train, y_train, cv=skf).mean()\n",
    "ans_1_10 = knn.score(X_valid, y_valid)\n",
    "print('Доля правильных ответов для KNeighborsClassifier на кросс-валидации    {:.3f}'.format(ans_1_00))\n",
    "print('Доля правильных ответов для KNeighborsClassifier на отложенной выборке {:.3f}'.format(ans_1_10))\n",
    "save_answer_Array(1, [ans_1_00, ans_1_10])\n",
    "# Доля правильных ответов для KNeighborsClassifier на кросс-валидации    0.562\n",
    "# Доля правильных ответов для KNeighborsClassifier на отложенной выборке 0.582"
   ]
  },
  {
   "cell_type": "markdown",
   "metadata": {},
   "source": [
    "**2. Обучите случайный лес (`RandomForestClassifier`) из 100 деревьев (для воспроизводимости `random_state`=17). Посмотрите на OOB-оценку (для этого надо сразу установить `oob_score`=True) и на долю правильных ответов на выборке `(X_valid, y_valid)`. Для распараллеливания задайте `n_jobs`=-1.**"
   ]
  },
  {
   "cell_type": "code",
   "execution_count": 19,
   "metadata": {},
   "outputs": [],
   "source": [
    "from sklearn.ensemble import RandomForestClassifier"
   ]
  },
  {
   "cell_type": "code",
   "execution_count": 20,
   "metadata": {},
   "outputs": [
    {
     "name": "stdout",
     "output_type": "stream",
     "text": [
      "Wall time: 9.85 s\n"
     ]
    }
   ],
   "source": [
    "%%time\n",
    "forest = RandomForestClassifier(n_estimators=100, random_state=17, \n",
    "                                n_jobs=-1, oob_score=True).fit( X_train, y_train)"
   ]
  },
  {
   "cell_type": "code",
   "execution_count": 23,
   "metadata": {},
   "outputs": [],
   "source": [
    "# forest.oob_score_"
   ]
  },
  {
   "cell_type": "code",
   "execution_count": 22,
   "metadata": {},
   "outputs": [],
   "source": [
    "#ans_2_0 = forest.score(X_train, y_train)\n",
    "#ans_2_00 = cross_val_score(forest, X_train, y_train, cv=skf).mean()\n"
   ]
  },
  {
   "cell_type": "markdown",
   "metadata": {},
   "source": [
    "**<font color='red'>Вопрос 2. </font> Посчитайте доли правильных ответов для `RandomForestClassifier` при Out-of-Bag оценке и на отложенной выборке. Округлите каждое до 3 знаков после запятой и введите через пробел.**"
   ]
  },
  {
   "cell_type": "code",
   "execution_count": 21,
   "metadata": {},
   "outputs": [
    {
     "name": "stdout",
     "output_type": "stream",
     "text": [
      "Доля правильных ответов по Out-of-Bag оценке                             0.725\n",
      "Доля правильных ответов для RandomForestClassifier на отложенной выборке 0.727\n",
      "Wall time: 205 ms\n"
     ]
    }
   ],
   "source": [
    "%%time\n",
    "ans_2_01 = forest.oob_score_\n",
    "ans_2_1 = forest.score(X_valid, y_valid)\n",
    "print('Доля правильных ответов по Out-of-Bag оценке                             {:.3f}'.format(ans_2_01))\n",
    "print('Доля правильных ответов для RandomForestClassifier на отложенной выборке {:.3f}'.format(ans_2_1))\n",
    "save_answer_Array(2, [ans_2_01, ans_2_1])\n",
    "# Доля правильных ответов по Out-of-Bag оценке                             0.725\n",
    "# Доля правильных ответов для RandomForestClassifier на отложенной выборке 0.729"
   ]
  },
  {
   "cell_type": "code",
   "execution_count": 24,
   "metadata": {},
   "outputs": [],
   "source": [
    "#!cat answer4_2.txt"
   ]
  },
  {
   "cell_type": "markdown",
   "metadata": {},
   "source": [
    "**3. Обучите логистическую регрессию (`LogisticRegression`) с параметром `C` по умолчанию и `random_state`=17 (для воспроизводимости). Посмотрите на долю правильных ответов на кросс-валидации (используйте объект `skf`, созданный ранее) и на выборке `(X_valid, y_valid)`. Для распараллеливания задайте `n_jobs=-1`.**"
   ]
  },
  {
   "cell_type": "code",
   "execution_count": 24,
   "metadata": {},
   "outputs": [],
   "source": [
    "from sklearn.linear_model import LogisticRegression, LogisticRegressionCV"
   ]
  },
  {
   "cell_type": "code",
   "execution_count": 36,
   "metadata": {},
   "outputs": [
    {
     "name": "stdout",
     "output_type": "stream",
     "text": [
      "Wall time: 1.35 s\n"
     ]
    }
   ],
   "source": [
    "%%time\n",
    "logit = LogisticRegression(C=1.0, random_state=17).fit(X_train, y_train)"
   ]
  },
  {
   "cell_type": "code",
   "execution_count": 39,
   "metadata": {},
   "outputs": [],
   "source": [
    "#logit.score(X_train, y_train)\n",
    "#cross_val_score(logit, X_train, y_train, cv=skf)"
   ]
  },
  {
   "cell_type": "code",
   "execution_count": 38,
   "metadata": {},
   "outputs": [
    {
     "name": "stdout",
     "output_type": "stream",
     "text": [
      "Доля правильных ответов для LogisticRegression на кросс-валидации    0.763\n",
      "Доля правильных ответов для LogisticRegression на отложенной выборке 0.780\n"
     ]
    }
   ],
   "source": [
    "#ans_3_0=test_KNeighbors(logit, X_train, y_train, skf)\n",
    "val_cv =cross_val_score(logit, X_train, y_train, cv=skf).mean()\n",
    "val_val=logit.score(X_valid, y_valid)\n",
    "print('Доля правильных ответов для LogisticRegression на кросс-валидации    {:.3f}'.format(val_cv))\n",
    "print('Доля правильных ответов для LogisticRegression на отложенной выборке {:.3f}'.format(val_val))"
   ]
  },
  {
   "cell_type": "markdown",
   "metadata": {},
   "source": [
    "**Почитайте документацию к [LogisticRegressionCV](http://scikit-learn.org/stable/modules/generated/sklearn.linear_model.LogisticRegressionCV.html). Логистическая регрессия хорошо изучена, и для нее существуют алгоритмы быстрого подбора параметра регуляризации `C` (быстрее, чем с `GridSearchCV`).**\n",
    "\n",
    "**С помощью `LogisticRegressionCV` подберите параметр `C` для `LogisticRegression` сначала в широком диапазоне: 10 значений от 1e-4 до 1e2, используйте `logspace` из `NumPy`. Укажите у `LogisticRegressionCV` параметры `multi_class`='multinomial' и `random_state`=17. Для кросс-валидации используйте объект `skf`, созданный ранее. Для распараллеливания задайте `n_jobs=-1`.**\n",
    "\n",
    "**Нарисуйте кривые валидации по параметру `C`.**"
   ]
  },
  {
   "cell_type": "code",
   "execution_count": 42,
   "metadata": {},
   "outputs": [
    {
     "name": "stdout",
     "output_type": "stream",
     "text": [
      "Wall time: 2min 17s\n"
     ]
    }
   ],
   "source": [
    "%%time \n",
    "logit_c_values1 = np.logspace(-4, 2, 10)\n",
    "\n",
    "logit_grid_searcher1 = LogisticRegressionCV(Cs=logit_c_values1, cv=skf, multi_class='multinomial', \n",
    "                                             random_state=17, max_iter=2000)\n",
    "logit_grid_searcher1.fit(X_train, y_train)"
   ]
  },
  {
   "cell_type": "code",
   "execution_count": 44,
   "metadata": {},
   "outputs": [],
   "source": [
    "#logit_grid_searcher1.scores_\n",
    "# for l in logit_grid_searcher1.scores_:\n",
    "#     print ('Max auc_roc:', logit_grid_searcher1.scores_[l].mean(axis=0).max())  # is correct"
   ]
  },
  {
   "cell_type": "code",
   "execution_count": null,
   "metadata": {},
   "outputs": [],
   "source": [
    "# train_scores, test_scores = validation_curve(\n",
    "#     SVC(), X, y, param_name=\"gamma\", param_range=param_range,\n",
    "#     cv=5, scoring=\"accuracy\", n_jobs=1)\n",
    "# train_scores_mean = np.mean(train_scores, axis=1)\n",
    "# train_scores_std = np.std(train_scores, axis=1)\n",
    "# test_scores_mean = np.mean(test_scores, axis=1)\n",
    "# test_scores_std = np.std(test_scores, axis=1)\n",
    "\n",
    "# plt.title(\"Validation Curve with SVM\")\n",
    "# plt.xlabel(r\"$\\gamma$\")\n",
    "# plt.ylabel(\"Score\")\n",
    "# plt.ylim(0.0, 1.1)\n",
    "# lw = 2\n",
    "# plt.semilogx(param_range, train_scores_mean, label=\"Training score\",\n",
    "#              color=\"darkorange\", lw=lw)\n",
    "# plt.fill_between(param_range, train_scores_mean - train_scores_std,\n",
    "#                  train_scores_mean + train_scores_std, alpha=0.2,\n",
    "#                  color=\"darkorange\", lw=lw)\n",
    "# plt.semilogx(param_range, test_scores_mean, label=\"Cross-validation score\",\n",
    "#              color=\"navy\", lw=lw)\n",
    "# plt.fill_between(param_range, test_scores_mean - test_scores_std,\n",
    "#                  test_scores_mean + test_scores_std, alpha=0.2,\n",
    "#                  color=\"navy\", lw=lw)\n",
    "# plt.legend(loc=\"best\")\n",
    "# plt.show()"
   ]
  },
  {
   "cell_type": "code",
   "execution_count": 45,
   "metadata": {},
   "outputs": [
    {
     "data": {
      "image/png": "[encoded data removed]",
      "text/plain": [
       "<Figure size 1080x504 with 1 Axes>"
      ]
     },
     "metadata": {
      "needs_background": "light"
     },
     "output_type": "display_data"
    }
   ],
   "source": [
    "#logit_grid_searcher1.scores_\n",
    "#print(logit_grid_searcher1.scores_[31])\n",
    "ascores = np.array(next(iter(logit_grid_searcher1.scores_.values())))\n",
    "\n",
    "#print(ascores)\n",
    "\n",
    "#print(ascores.mean(axis=0).argmax())\n",
    "#plt.plot(logit_c_values1, score_mean)\n",
    "plt.figure(figsize=(15, 7))\n",
    "for l in ascores:\n",
    "    plt.plot(logit_c_values1, l)\n",
    "plt.xscale('log')\n",
    "plt.grid(True)\n",
    "plt.title('Кривые валидации по параметру C.')\n",
    "\n",
    "plt.show()"
   ]
  },
  {
   "cell_type": "code",
   "execution_count": 46,
   "metadata": {},
   "outputs": [
    {
     "data": {
      "text/plain": [
       "{31, 33, 39, 50, 100, 127, 128, 207, 237, 241}"
      ]
     },
     "execution_count": 46,
     "metadata": {},
     "output_type": "execute_result"
    }
   ],
   "source": [
    "set(y_train)"
   ]
  },
  {
   "cell_type": "code",
   "execution_count": 47,
   "metadata": {},
   "outputs": [],
   "source": [
    "score = logit_grid_searcher1.score(X_valid, y_valid)"
   ]
  },
  {
   "cell_type": "markdown",
   "metadata": {},
   "source": [
    "Средние значения доли правильных ответов на кросс-валидации по каждому из 10 параметров `C`."
   ]
  },
  {
   "cell_type": "code",
   "execution_count": 48,
   "metadata": {},
   "outputs": [],
   "source": [
    "logit_mean_cv_scores1 = ascores.mean(axis=0) # ''' ВАШ КОД ЗДЕСЬ '''"
   ]
  },
  {
   "cell_type": "markdown",
   "metadata": {},
   "source": [
    "Выведите лучшее значение доли правильных ответов на кросс-валидации и соответствующее значение `C`."
   ]
  },
  {
   "cell_type": "code",
   "execution_count": 49,
   "metadata": {},
   "outputs": [
    {
     "name": "stdout",
     "output_type": "stream",
     "text": [
      "Выведите лучшее значение доли правильных ответов на кросс-валидации:0.76295418489589\n",
      "и соответствующее значение C: 4.641588833612772\n"
     ]
    }
   ],
   "source": [
    "best_pos = logit_mean_cv_scores1.argmax() #''' ВАШ КОД ЗДЕСЬ '''\n",
    "print('Выведите лучшее значение доли правильных ответов на кросс-валидации:{}\\n'\n",
    "      'и соответствующее значение C: {}'.format(logit_mean_cv_scores1[best_pos], logit_c_values1[best_pos] ))"
   ]
  },
  {
   "cell_type": "markdown",
   "metadata": {},
   "source": [
    "Нарисуйте график зависимости доли правильных ответов на кросс-валидации от `C`."
   ]
  },
  {
   "cell_type": "code",
   "execution_count": 50,
   "metadata": {},
   "outputs": [
    {
     "data": {
      "image/png": "[encoded data removed]",
      "text/plain": [
       "<Figure size 1080x504 with 1 Axes>"
      ]
     },
     "metadata": {
      "needs_background": "light"
     },
     "output_type": "display_data"
    }
   ],
   "source": [
    "plt.figure(figsize=(15, 7))\n",
    "plt.plot(logit_c_values1, logit_mean_cv_scores1)\n",
    "plt.xscale('log')\n",
    "plt.grid(True)\n",
    "plt.title('График зависимости доли правильных ответов на кросс-валидации от C.')\n",
    "\n",
    "plt.show()"
   ]
  },
  {
   "cell_type": "markdown",
   "metadata": {},
   "source": [
    "**Теперь то же самое, только значения параметра `C` перебирайте в диапазоне `np.linspace`(0.1, 7, 20). Опять нарисуйте кривые валидации, определите максимальное значение доли правильных ответов на кросс-валидации.**"
   ]
  },
  {
   "cell_type": "code",
   "execution_count": 52,
   "metadata": {},
   "outputs": [
    {
     "name": "stdout",
     "output_type": "stream",
     "text": [
      "Wall time: 1min 54s\n"
     ]
    }
   ],
   "source": [
    "%%time\n",
    "logit_c_values2 = np.linspace(0.1, 7, 20)\n",
    "\n",
    "logit_grid_searcher2 = LogisticRegressionCV(Cs=logit_c_values2, cv=skf, multi_class='multinomial', \n",
    "                                            n_jobs=-1, random_state=17, max_iter=2000) # ''' ВАШ КОД ЗДЕСЬ '''\n",
    "logit_grid_searcher2.fit(X_train, y_train)"
   ]
  },
  {
   "cell_type": "markdown",
   "metadata": {},
   "source": [
    "Средние значения доли правильных ответов на кросс-валидации по каждому из 10 параметров `C`."
   ]
  },
  {
   "cell_type": "code",
   "execution_count": 53,
   "metadata": {},
   "outputs": [],
   "source": [
    "#''' ВАШ КОД ЗДЕСЬ '''\n",
    "ascores2 = np.array(next(iter(logit_grid_searcher2.scores_.values())))\n",
    "logit_mean_cv_scores2 = ascores2.mean(axis=0)"
   ]
  },
  {
   "cell_type": "markdown",
   "metadata": {},
   "source": [
    "Выведите лучшее значение доли правильных ответов на кросс-валидации и соответствующее значение `C`."
   ]
  },
  {
   "cell_type": "code",
   "execution_count": 54,
   "metadata": {},
   "outputs": [
    {
     "name": "stdout",
     "output_type": "stream",
     "text": [
      "Выведите лучшее значение доли правильных ответов на кросс-валидации:0.7637679057519019\n",
      "и соответствующее значение C: 1.5526315789473686\n"
     ]
    }
   ],
   "source": [
    "#''' ВАШ КОД ЗДЕСЬ '''\n",
    "best_pos2 = logit_mean_cv_scores2.argmax() #''' ВАШ КОД ЗДЕСЬ '''\n",
    "print('Выведите лучшее значение доли правильных ответов на кросс-валидации:{}\\n'\n",
    "      'и соответствующее значение C: {}'.format(logit_mean_cv_scores2[best_pos2], logit_c_values2[best_pos2] ))"
   ]
  },
  {
   "cell_type": "markdown",
   "metadata": {},
   "source": [
    "Нарисуйте график зависимости доли правильных ответов на кросс-валидации от `C`."
   ]
  },
  {
   "cell_type": "code",
   "execution_count": null,
   "metadata": {},
   "outputs": [],
   "source": [
    "plt.figure(figsize=(15, 7))\n",
    "plt.plot(logit_c_values2, logit_mean_cv_scores2)\n",
    "#plt.xscale('log')\n",
    "plt.grid(True)\n",
    "plt.title('График зависимости доли правильных ответов на кросс-валидации от C.')\n",
    "plt.show()"
   ]
  },
  {
   "cell_type": "markdown",
   "metadata": {},
   "source": [
    "Выведите долю правильных ответов на выборке `(X_valid, y_valid)` для логистической регрессии с лучшим найденным значением `C`."
   ]
  },
  {
   "cell_type": "code",
   "execution_count": null,
   "metadata": {},
   "outputs": [],
   "source": [
    "logit_grid_searcher2.C_"
   ]
  },
  {
   "cell_type": "code",
   "execution_count": null,
   "metadata": {},
   "outputs": [],
   "source": [
    "logit_cv_acc = accuracy_score(y_valid, logit_grid_searcher2.predict(X_valid))\n",
    "#''' ВАШ КОД ЗДЕСЬ '''\n",
    "# Демонстрация того, что результат одинаков.\n",
    "print(logit_cv_acc)\n",
    "print(logit_grid_searcher2.score(X_valid, y_valid))"
   ]
  },
  {
   "cell_type": "markdown",
   "metadata": {},
   "source": [
    "**<font color='red'>Вопрос 3. </font>Посчитайте доли правильных ответов для `logit_grid_searcher2` на кросс-валидации для лучшего значения параметра `C` и на отложенной выборке. Округлите каждое до 3 знаков после запятой и выведите через пробел.**"
   ]
  },
  {
   "cell_type": "code",
   "execution_count": null,
   "metadata": {},
   "outputs": [],
   "source": [
    "#''' ВАШ КОД ЗДЕСЬ '''\n",
    "ans_3_0 = logit_mean_cv_scores2[best_pos2]\n",
    "ans_3_1 = logit_grid_searcher2.score(X_valid, y_valid)\n",
    "print('{:.3f}, {:.3f}'.format(ans_3_0, ans_3_1))\n",
    "save_answer_Array(3, [ans_3_0, ans_3_1])"
   ]
  },
  {
   "cell_type": "markdown",
   "metadata": {},
   "source": [
    "**4. Обучите линейный SVM (`LinearSVC`) с параметром `C`=1 и `random_state`=17 (для воспроизводимости). Посмотрите на долю правильных ответов на кросс-валидации (используйте объект `skf`, созданный ранее) и на выборке `(X_valid, y_valid)`.**"
   ]
  },
  {
   "cell_type": "code",
   "execution_count": 69,
   "metadata": {},
   "outputs": [],
   "source": [
    "from sklearn.svm import LinearSVC"
   ]
  },
  {
   "cell_type": "code",
   "execution_count": 71,
   "metadata": {},
   "outputs": [],
   "source": [
    "#''' ВАШ КОД ЗДЕСЬ '''\n",
    "svm = LinearSVC(C=1., random_state=17).fit(X_train, y_train)\n",
    "###print('доля правильных ответов на кросс-валидации    {:.3f}'.format(test_KNeighbors(svm, X_train, y_train)))\n",
    "### print('доля правильных ответов на отложенной выборке {:.3f}'.format(svm.score(X_valid, y_valid)))"
   ]
  },
  {
   "cell_type": "markdown",
   "metadata": {},
   "source": [
    "**С помощью `GridSearchCV` подберите параметр `C` для SVM сначала в широком диапазоне: 10 значений от 1e-4 до 1e4, используйте `linspace` из NumPy. Нарисуйте кривые валидации.**"
   ]
  },
  {
   "cell_type": "code",
   "execution_count": 72,
   "metadata": {},
   "outputs": [
    {
     "name": "stdout",
     "output_type": "stream",
     "text": [
      "Wall time: 1min 1s\n"
     ]
    }
   ],
   "source": [
    "%%time\n",
    "svm_params1 = {'C': np.linspace(1e-4, 1e4, 10)}\n",
    "\n",
    "svm_grid_searcher1 = GridSearchCV(svm, svm_params1, cv=skf, n_jobs=-1)\n",
    "#''' ВАШ КОД ЗДЕСЬ '''\n",
    "svm_grid_searcher1.fit(X_train, y_train)"
   ]
  },
  {
   "cell_type": "markdown",
   "metadata": {},
   "source": [
    "Выведите лучшее значение доли правильных ответов на кросс-валидации и соответствующее значение `C`."
   ]
  },
  {
   "cell_type": "code",
   "execution_count": 76,
   "metadata": {},
   "outputs": [
    {
     "name": "stdout",
     "output_type": "stream",
     "text": [
      "0.6890875838244259\n",
      "{'C': 1111.1112}\n"
     ]
    }
   ],
   "source": [
    "#''' ВАШ КОД ЗДЕСЬ '''\n",
    "print(svm_grid_searcher1.best_score_)\n",
    "print(svm_grid_searcher1.best_params_)"
   ]
  },
  {
   "cell_type": "markdown",
   "metadata": {},
   "source": [
    "Нарисуйте график зависимости доли правильных ответов на кросс-валидации от `C`."
   ]
  },
  {
   "cell_type": "code",
   "execution_count": 74,
   "metadata": {},
   "outputs": [
    {
     "data": {
      "image/png": "[encoded data removed]",
      "text/plain": [
       "<Figure size 1080x504 with 1 Axes>"
      ]
     },
     "metadata": {
      "needs_background": "light"
     },
     "output_type": "display_data"
    }
   ],
   "source": [
    "#plot_validation_curves(svm_params1['C'], svm_grid_searcher1.cv_results_)\n",
    "\n",
    "plt.figure(figsize=(15, 7))\n",
    "plt.plot(svm_params1['C'], svm_grid_searcher1.cv_results_['mean_test_score'])\n",
    "#plt.xscale('log')\n",
    "plt.grid(True)\n",
    "plt.title('График зависимости доли правильных ответов на кросс-валидации от C.');"
   ]
  },
  {
   "cell_type": "markdown",
   "metadata": {},
   "source": [
    "**Но мы помним, что с параметром регуляризации по умолчанию (С=1) на кросс-валидации доля правильных ответов выше. Это тот случай (не редкий), когда можно ошибиться и перебирать параметры не в том диапазоне (причина в том, что мы взяли равномерную сетку на большом интервале и упустили действительно хороший интервал значений `C`). Здесь намного осмысленней подбирать `C` в районе 1, к тому же, так модель быстрее обучается, чем при больших `C`. **\n",
    "\n",
    "**С помощью `GridSearchCV` подберите параметр `C` для SVM в диапазоне (1e-3, 1), 30 значений, используйте `linspace` из NumPy. Нарисуйте кривые валидации.**"
   ]
  },
  {
   "cell_type": "code",
   "execution_count": 78,
   "metadata": {},
   "outputs": [
    {
     "name": "stdout",
     "output_type": "stream",
     "text": [
      "0.7649867913025807\n",
      "{'C': 0.24213793103448275}\n",
      "Wall time: 1min 10s\n"
     ]
    }
   ],
   "source": [
    "%%time\n",
    "svm_params2 = {'C': np.linspace(1e-3, 1, 30)}\n",
    "\n",
    "svm_grid_searcher2 = GridSearchCV(svm, svm_params2, cv=skf, n_jobs=-1)\n",
    "#''' ВАШ КОД ЗДЕСЬ '''\n",
    "svm_grid_searcher2.fit(X_train, y_train)\n",
    "print(svm_grid_searcher2.best_score_)\n",
    "print(svm_grid_searcher2.best_params_)"
   ]
  },
  {
   "cell_type": "code",
   "execution_count": 80,
   "metadata": {},
   "outputs": [
    {
     "data": {
      "text/plain": [
       "GridSearchCV(cv=StratifiedKFold(n_splits=3, random_state=17, shuffle=True),\n",
       "             error_score='raise-deprecating',\n",
       "             estimator=LinearSVC(C=1.0, class_weight=None, dual=True,\n",
       "                                 fit_intercept=True, intercept_scaling=1,\n",
       "                                 loss='squared_hinge', max_iter=1000,\n",
       "                                 multi_class='ovr', penalty='l2',\n",
       "                                 random_state=17, tol=0.0001, verbose=0),\n",
       "             iid='warn', n_jobs=-1,\n",
       "             param_grid={'C': array([0.00...\n",
       "       0.17324138, 0.20768966, 0.24213793, 0.27658621, 0.31103448,\n",
       "       0.34548276, 0.37993103, 0.41437931, 0.44882759, 0.48327586,\n",
       "       0.51772414, 0.55217241, 0.58662069, 0.62106897, 0.65551724,\n",
       "       0.68996552, 0.72441379, 0.75886207, 0.79331034, 0.82775862,\n",
       "       0.8622069 , 0.89665517, 0.93110345, 0.96555172, 1.        ])},\n",
       "             pre_dispatch='2*n_jobs', refit=True, return_train_score=False,\n",
       "             scoring=None, verbose=0)"
      ]
     },
     "execution_count": 80,
     "metadata": {},
     "output_type": "execute_result"
    }
   ],
   "source": [
    "svm_grid_searcher2"
   ]
  },
  {
   "cell_type": "markdown",
   "metadata": {},
   "source": [
    "Выведите лучшее значение доли правильных ответов на кросс-валидации и соответствующее значение `C`."
   ]
  },
  {
   "cell_type": "code",
   "execution_count": 77,
   "metadata": {},
   "outputs": [
    {
     "name": "stdout",
     "output_type": "stream",
     "text": [
      "0.7661044503149766\n",
      "{'C': 0.13879310344827586}\n"
     ]
    }
   ],
   "source": [
    "#''' ВАШ КОД ЗДЕСЬ '''\n",
    "print(svm_grid_searcher2.best_score_)\n",
    "print(svm_grid_searcher2.best_params_)"
   ]
  },
  {
   "cell_type": "markdown",
   "metadata": {},
   "source": [
    "Нарисуйте график зависимости доли правильных ответов на кросс-валидации от С."
   ]
  },
  {
   "cell_type": "code",
   "execution_count": null,
   "metadata": {},
   "outputs": [],
   "source": [
    "#plot_validation_curves(svm_params2['C'], svm_grid_searcher2.cv_results_)\n",
    "plt.figure(figsize=(15, 7))\n",
    "plt.plot(svm_params2['C'], svm_grid_searcher2.cv_results_['mean_test_score'])\n",
    "#plt.xscale('log')\n",
    "plt.grid(True)\n",
    "plt.title('График зависимости доли правильных ответов на кросс-валидации от C.');"
   ]
  },
  {
   "cell_type": "markdown",
   "metadata": {},
   "source": [
    "Выведите долю правильных ответов на выборке `(X_valid, y_valid)` для `LinearSVC` с лучшим найденным значением `C`."
   ]
  },
  {
   "cell_type": "code",
   "execution_count": null,
   "metadata": {},
   "outputs": [],
   "source": [
    "svm_cv_acc = accuracy_score(y_valid, svm_grid_searcher2.best_estimator_.predict(X_valid))\n",
    "#''' ВАШ КОД ЗДЕСЬ '''\n",
    "print('доля правильных ответов на отложенной выборке {:.3f}'.format(svm_cv_acc))"
   ]
  },
  {
   "cell_type": "markdown",
   "metadata": {},
   "source": [
    "**<font color='red'>Вопрос 4. </font> Посчитайте доли правильных ответов для `svm_grid_searcher2` на кросс-валидации для лучшего значения параметра `C` и на отложенной выборке. Округлите каждое до 3 знаков после запятой и выведите через пробел.**"
   ]
  },
  {
   "cell_type": "code",
   "execution_count": null,
   "metadata": {},
   "outputs": [],
   "source": [
    "svm_grid_searcher2"
   ]
  },
  {
   "cell_type": "code",
   "execution_count": null,
   "metadata": {},
   "outputs": [],
   "source": [
    "#''' ВАШ КОД ЗДЕСЬ '''\n",
    "#ans_4_0 = test_KNeighbors(svm_grid_searcher2, X_train, y_train)\n",
    "\n",
    "#ascores3 = np.array(next(iter(svm_grid_searcher2.scores_.values()))).mean(axis=0)\n",
    "#logit_mean_cv_scores2 = ascores3.mean(axis=0)\n",
    "\n",
    "#ans_4_00 = ans_3_0 = logit_mean_cv_scores2[best_pos2]\n",
    "\n",
    "\n",
    "ans_4_00 = cross_val_score(svm_grid_searcher2.best_estimator_, X_train, y_train, cv=skf).mean()\n",
    "\n",
    "#ans_4_1 = svm_grid_searcher2.best_estimator_.score(X_valid, y_valid)\n",
    "\n",
    "print('{:.3f}, {:.3f}'.format(ans_4_00, svm_cv_acc))\n",
    "#save_answer_Array(4, [ans_4_00, ans_4_1])"
   ]
  },
  {
   "cell_type": "code",
   "execution_count": null,
   "metadata": {},
   "outputs": [],
   "source": [
    "save_answer_Array(4, [ans_4_00, svm_cv_acc])"
   ]
  },
  {
   "cell_type": "markdown",
   "metadata": {},
   "source": [
    "## Часть 2. Выбор параметров – длины сессии и ширины окна"
   ]
  },
  {
   "cell_type": "markdown",
   "metadata": {},
   "source": [
    "**Возьмем `LinearSVC`, показавший лучшее качество на кросс-валидации в 1 части, и проверим его работу еще на 8 выборках для 10 пользователей (с разными сочетаниями параметров *session_length* и *window_size*). Поскольку тут уже вычислений побольше, мы не будем каждый раз заново подбирать параметр регуляризации `C`.**\n",
    "\n",
    "**Определите функцию `model_assessment`, ее документация описана ниже. Обратите внимание на все детали. Например, на то, что разбиение  выборки с `train_test_split` должно быть стратифицированным. Не теряйте нигде `random_state`.**"
   ]
  },
  {
   "cell_type": "code",
   "execution_count": null,
   "metadata": {},
   "outputs": [],
   "source": [
    "def model_assessment(estimator, path_to_X_pickle, path_to_y_pickle, cv, random_state=17, test_size=0.3):\n",
    "    '''\n",
    "    Estimates CV-accuracy for (1 - test_size) share of (X_sparse, y) \n",
    "    loaded from path_to_X_pickle and path_to_y_pickle and holdout accuracy for (test_size) \n",
    "    share of (X_sparse, y).\n",
    "    The split is made with stratified train_test_split with params random_state and test_size.\n",
    "    \n",
    "    :param estimator – Scikit-learn estimator (classifier or regressor)\n",
    "    :param path_to_X_pickle – path to pickled sparse X (instances and their features)\n",
    "    :param path_to_y_pickle – path to pickled y (responses)\n",
    "    :param cv – cross-validation as in cross_val_score (use StratifiedKFold here)\n",
    "    :param random_state –  for train_test_split\n",
    "    :param test_size –  for train_test_split\n",
    "    \n",
    "    :returns mean CV-accuracy for (X_train, y_train) and accuracy for (X_valid, y_valid) \n",
    "    where (X_train, y_train)\n",
    "    and (X_valid, y_valid) are (1 - test_size) and (testsize) shares of (X_sparse, y).\n",
    "    '''\n",
    "    start_time = time.time()\n",
    "    with open(path_to_X_pickle, 'rb') as f:\n",
    "        X = pickle.load(f)\n",
    "    with open(path_to_y_pickle, 'rb') as f:\n",
    "        y = pickle.load(f)\n",
    "    \n",
    "    X_train, X_valid, y_train, y_valid = train_test_split(X, y, test_size=test_size, \n",
    "                                                     random_state=random_state, stratify=y)\n",
    "    estimator.fit(X_train, y_train)\n",
    "    return (cross_val_score(estimator, X_train, y_train, cv=cv).mean(), \n",
    "            estimator.score(X_valid, y_valid),\n",
    "            time.time() - start_time\n",
    "           )\n",
    "    #''' ВАШ КОД ЗДЕСЬ '''"
   ]
  },
  {
   "cell_type": "markdown",
   "metadata": {},
   "source": [
    "**Убедитесь, что функция работает.**"
   ]
  },
  {
   "cell_type": "code",
   "execution_count": null,
   "metadata": {},
   "outputs": [],
   "source": [
    "svm_grid_searcher2.best_estimator_"
   ]
  },
  {
   "cell_type": "code",
   "execution_count": null,
   "metadata": {},
   "outputs": [],
   "source": [
    "model_assessment(svm_grid_searcher2.best_estimator_, \n",
    "                 os.path.join(PATH_TO_DATA, 'X_sparse_10users.pkl'),\n",
    "        os.path.join(PATH_TO_DATA, 'y_10users.pkl'), skf, random_state=17, test_size=0.3)"
   ]
  },
  {
   "cell_type": "markdown",
   "metadata": {},
   "source": [
    "**Примените функцию *model_assessment* для лучшего алгоритма из предыдущей части (а именно, `svm_grid_searcher2.best_estimator_`) и 9 выборок вида с разными сочетаниями параметров *session_length* и *window_size* для 10 пользователей. Выведите в цикле параметры *session_length* и *window_size*, а также результат вывода функции *model_assessment*. \n",
    "Удобно сделать так, чтоб *model_assessment* возвращала 3-им элементом время, за которое она выполнилась. На моем ноуте этот участок кода выполнился за 20 секунд. Но со 150 пользователями каждая итерация занимает уже несколько минут.**"
   ]
  },
  {
   "cell_type": "markdown",
   "metadata": {},
   "source": [
    "Здесь для удобства стоит создать копии ранее созданных pickle-файлов X_sparse_10users.pkl, X_sparse_150users.pkl, y_10users.pkl и y_150users.pkl, добавив к их названиям s10_w10, что означает длину сессии 10 и ширину окна 10. "
   ]
  },
  {
   "cell_type": "code",
   "execution_count": null,
   "metadata": {},
   "outputs": [],
   "source": [
    "!copy $PATH_TO_DATA\\X_sparse_10users.pkl $PATH_TO_DATA\\X_sparse_10users_s10_w10.pkl \n",
    "!copy $PATH_TO_DATA\\X_sparse_150users.pkl $PATH_TO_DATA\\X_sparse_150users_s10_w10.pkl \n",
    "!copy $PATH_TO_DATA\\y_10users.pkl $PATH_TO_DATA\\y_10users_s10_w10.pkl \n",
    "!copy $PATH_TO_DATA\\y_150users.pkl $PATH_TO_DATA\\y_150users_s10_w10.pkl "
   ]
  },
  {
   "cell_type": "code",
   "execution_count": null,
   "metadata": {},
   "outputs": [],
   "source": [
    "%%time\n",
    "nusers = 10\n",
    "estimator = svm_grid_searcher2.best_estimator_\n",
    "\n",
    "for window_size, session_length in itertools.product([10, 7, 5], [15, 10, 7, 5]):\n",
    "    if window_size <= session_length:\n",
    "        path_to_X_pkl = os.path.join(PATH_TO_DATA, 'X_sparse_{}users_s{:02d}_w{:02d}.pkl'.format(nusers, session_length, window_size))\n",
    "        path_to_y_pkl = os.path.join(PATH_TO_DATA, 'y_{}users_s{:02d}_w{:02d}.pkl'.format(nusers, session_length, window_size))\n",
    "        print (model_assessment(estimator, path_to_X_pkl, path_to_y_pkl, skf))"
   ]
  },
  {
   "cell_type": "markdown",
   "metadata": {},
   "source": [
    "**<font color='red'>Вопрос 5. </font> Посчитайте доли правильных ответов для `LinearSVC` с настроенным параметром `C` и выборки `X_sparse_10users_s15_w5`. Укажите доли правильных ответов на кросс-валидации и на отложенной выборке. Округлите каждое до 3 знаков после запятой и выведите через пробел.**"
   ]
  },
  {
   "cell_type": "code",
   "execution_count": null,
   "metadata": {},
   "outputs": [],
   "source": [
    "%%time\n",
    "#''' ВАШ КОД ЗДЕСЬ '''\n",
    "session_length, window_size, nusers = 15, 5, 10\n",
    "path_to_X_pkl = os.path.join(PATH_TO_DATA, 'X_sparse_{}users_s{:02d}_w{:02d}.pkl'.format(nusers, session_length, window_size))\n",
    "path_to_y_pkl = os.path.join(PATH_TO_DATA, 'y_{}users_s{:02d}_w{:02d}.pkl'.format(nusers, session_length, window_size))\n",
    "ans_5 = model_assessment(estimator, path_to_X_pkl, path_to_y_pkl, skf)\n"
   ]
  },
  {
   "cell_type": "code",
   "execution_count": null,
   "metadata": {},
   "outputs": [],
   "source": [
    "print('{:.3f}, {:.3f}'.format(ans_5[0], ans_5[1]))\n",
    "save_answer_Array(5, [ans_5[0], ans_5[1]])"
   ]
  },
  {
   "cell_type": "markdown",
   "metadata": {},
   "source": [
    "**Прокомментируйте полученные результаты. Сравните для 150 пользователей доли правильных ответов на кросс-валидации и оставленной выборке для сочетаний параметров (*session_length, window_size*): (5,5), (7,7) и (10,10). На среднем ноуте это может занять до часа – запаситесь терпением, это Data Science :) **\n",
    "\n",
    "**Сделайте вывод о том, как качество классификации зависит от длины сессии и ширины окна.**"
   ]
  },
  {
   "cell_type": "code",
   "execution_count": null,
   "metadata": {},
   "outputs": [],
   "source": [
    "%%time\n",
    "nusers = 150\n",
    "estimator = svm_grid_searcher2.best_estimator_\n",
    "\n",
    "for window_size, session_length in [(5,5), (7,7), (10,10)]:\n",
    "    path_to_X_pkl = os.path.join(PATH_TO_DATA, 'X_sparse_{}users_s{:02d}_w{:02d}.pkl'.format(nusers, session_length, window_size))\n",
    "    path_to_y_pkl = os.path.join(PATH_TO_DATA, 'y_{}users_s{:02d}_w{:02d}.pkl'.format(nusers, session_length, window_size))\n",
    "    print (model_assessment(estimator, path_to_X_pkl, path_to_y_pkl, skf))"
   ]
  },
  {
   "cell_type": "markdown",
   "metadata": {},
   "source": [
    "**<font color='red'>Вопрос 6. </font> Посчитайте доли правильных ответов для `LinearSVC` с настроенным параметром `C` и выборки `X_sparse_150users`. Укажите доли правильных ответов на кросс-валидации и на отложенной выборке. Округлите каждое до 3 знаков после запятой и выведите через пробел.**"
   ]
  },
  {
   "cell_type": "code",
   "execution_count": null,
   "metadata": {},
   "outputs": [],
   "source": [
    "%%time\n",
    "#''' ВАШ КОД ЗДЕСЬ '''\n",
    "session_length, window_size, nusers = 10, 10, 150\n",
    "path_to_X_pkl = os.path.join(PATH_TO_DATA, 'X_sparse_{}users_s{:02d}_w{:02d}.pkl'.format(nusers, session_length, window_size))\n",
    "path_to_y_pkl = os.path.join(PATH_TO_DATA, 'y_{}users_s{:02d}_w{:02d}.pkl'.format(nusers, session_length, window_size))\n",
    "ans_6 = model_assessment(estimator, path_to_X_pkl, path_to_y_pkl, skf)"
   ]
  },
  {
   "cell_type": "code",
   "execution_count": null,
   "metadata": {},
   "outputs": [],
   "source": [
    "print('{:.3f}, {:.3f}'.format(ans_6[0], ans_6[1]))\n",
    "save_answer_Array(6, [ans_6[0], ans_6[1]])"
   ]
  },
  {
   "cell_type": "markdown",
   "metadata": {},
   "source": [
    "## Часть 3. Идентификация  конкретного пользователя и кривые обучения"
   ]
  },
  {
   "cell_type": "markdown",
   "metadata": {},
   "source": [
    "**Поскольку может разочаровать, что многоклассовая доля правильных ответов на выборке из 150 пользовалей невелика, порадуемся тому, что конкретного пользователя можно идентифицировать достаточно хорошо. **"
   ]
  },
  {
   "cell_type": "markdown",
   "metadata": {},
   "source": [
    "**Загрузим сериализованные ранее объекты *X_sparse_150users* и *y_150users*, соответствующие обучающей выборке для 150 пользователей с параметрами (*session_length, window_size*) = (10,10). Так же точно разобьем их на 70% и 30%.**"
   ]
  },
  {
   "cell_type": "code",
   "execution_count": 55,
   "metadata": {},
   "outputs": [],
   "source": [
    "with open(os.path.join(PATH_TO_DATA, 'X_sparse_150users.pkl'), 'rb') as X_sparse_150users_pkl:\n",
    "     X_sparse_150users = pickle.load(X_sparse_150users_pkl)\n",
    "with open(os.path.join(PATH_TO_DATA, 'y_150users.pkl'), 'rb') as y_150users_pkl:\n",
    "    y_150users = pickle.load(y_150users_pkl)"
   ]
  },
  {
   "cell_type": "code",
   "execution_count": 56,
   "metadata": {},
   "outputs": [],
   "source": [
    "X_train_150, X_valid_150, y_train_150, y_valid_150 = train_test_split(X_sparse_150users, \n",
    "                                                                      y_150users, test_size=0.3, \n",
    "                                                     random_state=17, stratify=y_150users)"
   ]
  },
  {
   "cell_type": "markdown",
   "metadata": {},
   "source": [
    "**Обучите `LogisticRegressionCV` для одного значения параметра `C` (лучшего на кросс-валидации в 1 части, используйте точное значение, не на глаз). Теперь будем решать 150 задач \"Один-против-Всех\", поэтому укажите аргумент `multi_class`='ovr'. Как всегда, где возможно, указывайте `n_jobs=-1` и `random_state`=17.**"
   ]
  },
  {
   "cell_type": "markdown",
   "metadata": {},
   "source": [
    "<font color='red'>\n",
    "Выяснить, почему правильно logit_grid_searcher2.Cs_[10]\n",
    " </font>"
   ]
  },
  {
   "cell_type": "code",
   "execution_count": 91,
   "metadata": {},
   "outputs": [
    {
     "name": "stdout",
     "output_type": "stream",
     "text": [
      "Wall time: 9min 40s\n"
     ]
    }
   ],
   "source": [
    "%%time\n",
    "## пробовал 1.5526315789473686, 0.13879310344827586 0.24213793103448275\n",
    "## 3.7315789473684213 (Cs_[10])\n",
    "\n",
    "logit_cv_150users = LogisticRegressionCV(Cs=[logit_grid_searcher2.Cs_[10]], cv=skf, multi_class='ovr', \n",
    "                                            n_jobs=-1, random_state=17)\n",
    "#''' ВАШ КОД ЗДЕСЬ '''\n",
    "logit_cv_150users.fit(X_train_150, y_train_150)"
   ]
  },
  {
   "cell_type": "code",
   "execution_count": 90,
   "metadata": {},
   "outputs": [
    {
     "data": {
      "text/plain": [
       "3.7315789473684213"
      ]
     },
     "execution_count": 90,
     "metadata": {},
     "output_type": "execute_result"
    }
   ],
   "source": [
    "# В форуме предлагается использовать\n",
    "logit_grid_searcher2.Cs_[10]\n",
    "#logit_grid_searcher2"
   ]
  },
  {
   "cell_type": "markdown",
   "metadata": {},
   "source": [
    "**Посмотрите на средние доли правильных ответов на кросс-валидации в задаче идентификации каждого пользователя по отдельности.**"
   ]
  },
  {
   "cell_type": "code",
   "execution_count": 82,
   "metadata": {
    "collapsed": true
   },
   "outputs": [
    {
     "name": "stdout",
     "output_type": "stream",
     "text": [
      "User 6, CV score: 0.9956415402403911\n",
      "User 13, CV score: 0.9961943357787794\n",
      "User 15, CV score: 0.9950996857914354\n",
      "User 16, CV score: 0.9914820590549279\n",
      "User 28, CV score: 0.9897822641072268\n",
      "User 31, CV score: 0.9946200496111605\n",
      "User 33, CV score: 0.993473120432259\n",
      "User 39, CV score: 0.985945420758278\n",
      "User 46, CV score: 0.9978627540055065\n",
      "User 49, CV score: 0.9946412629917414\n",
      "User 50, CV score: 0.9943492914137165\n",
      "User 53, CV score: 0.9934422706266065\n",
      "User 65, CV score: 0.9969243788014506\n",
      "User 66, CV score: 0.9949433039535792\n",
      "User 82, CV score: 0.9963509302040569\n",
      "User 85, CV score: 0.9963404462735808\n",
      "User 89, CV score: 0.99035590061778\n",
      "User 92, CV score: 0.9942863960888061\n",
      "User 100, CV score: 0.994713945830726\n",
      "User 102, CV score: 0.9911168820885936\n",
      "User 103, CV score: 0.9792938096854478\n",
      "User 105, CV score: 0.9966635776191616\n",
      "User 106, CV score: 0.994286759291183\n",
      "User 118, CV score: 0.9903663143178446\n",
      "User 119, CV score: 0.996444751353168\n",
      "User 120, CV score: 0.9941300796413183\n",
      "User 126, CV score: 0.9949224576673247\n",
      "User 127, CV score: 0.9905954942076245\n",
      "User 128, CV score: 0.9842142617135451\n",
      "User 138, CV score: 0.9972683753194115\n",
      "User 158, CV score: 0.9970703478873357\n",
      "User 160, CV score: 0.9967470983849599\n",
      "User 165, CV score: 0.9973205513483498\n",
      "User 172, CV score: 0.996507280057799\n",
      "User 177, CV score: 0.9967888423017554\n",
      "User 203, CV score: 0.9971117949402162\n",
      "User 207, CV score: 0.9871445066059458\n",
      "User 223, CV score: 0.9964968571516951\n",
      "User 233, CV score: 0.9962674757767204\n",
      "User 235, CV score: 0.996747046566627\n",
      "User 236, CV score: 0.9899804513602973\n",
      "User 237, CV score: 0.9889271365312226\n",
      "User 238, CV score: 0.9963196096674122\n",
      "User 240, CV score: 0.995819089428632\n",
      "User 241, CV score: 0.9961006468325452\n",
      "User 242, CV score: 0.9949432899074969\n",
      "User 245, CV score: 0.9959130607186518\n",
      "User 246, CV score: 0.9971119784873793\n",
      "User 249, CV score: 0.9951311055987495\n",
      "User 252, CV score: 0.9964134918408954\n",
      "User 254, CV score: 0.9915239482725889\n",
      "User 256, CV score: 0.9960485032617674\n",
      "User 258, CV score: 0.9957044365133951\n",
      "User 259, CV score: 0.9951415241388571\n",
      "User 260, CV score: 0.9972264948337427\n",
      "User 261, CV score: 0.9894486624032055\n",
      "User 263, CV score: 0.9925661219491767\n",
      "User 264, CV score: 0.9966325021280991\n",
      "User 269, CV score: 0.9869152530678518\n",
      "User 270, CV score: 0.9884478384050158\n",
      "User 273, CV score: 0.9943490187500169\n",
      "User 287, CV score: 0.9903245476229746\n",
      "User 294, CV score: 0.9959235218710533\n",
      "User 298, CV score: 0.9909920140146312\n",
      "User 301, CV score: 0.9969973677103893\n",
      "User 308, CV score: 0.9956315459270323\n",
      "User 315, CV score: 0.997341416046683\n",
      "User 318, CV score: 0.9956730355922064\n",
      "User 327, CV score: 0.9966532583497235\n",
      "User 332, CV score: 0.9968201153860633\n",
      "User 333, CV score: 0.9959965582323287\n",
      "User 339, CV score: 0.9970701967983332\n",
      "User 340, CV score: 0.9966844476315847\n",
      "User 342, CV score: 0.9922326001556527\n",
      "User 344, CV score: 0.9967679209450463\n",
      "User 351, CV score: 0.9923887102779028\n",
      "User 356, CV score: 0.9973518157006653\n",
      "User 361, CV score: 0.9966011811174077\n",
      "User 363, CV score: 0.9964134351825195\n",
      "User 411, CV score: 0.9905434494334694\n",
      "User 417, CV score: 0.9967992225955656\n",
      "User 425, CV score: 0.9942864101348884\n",
      "User 430, CV score: 0.996152724064861\n",
      "User 435, CV score: 0.9971328291396301\n",
      "User 436, CV score: 0.9951517964300057\n",
      "User 440, CV score: 0.99710153669515\n",
      "User 444, CV score: 0.9973414397728514\n",
      "User 475, CV score: 0.9893131123314749\n",
      "User 476, CV score: 0.9967365389099827\n",
      "User 486, CV score: 0.995422883949525\n",
      "User 515, CV score: 0.9941510102040665\n",
      "User 533, CV score: 0.9935983749607198\n",
      "User 561, CV score: 0.9844444387755913\n",
      "User 563, CV score: 0.9968511351668438\n",
      "User 564, CV score: 0.9953291427109111\n",
      "User 568, CV score: 0.9919197551473026\n",
      "User 569, CV score: 0.9890838399072557\n",
      "User 570, CV score: 0.9981650637390946\n",
      "User 573, CV score: 0.9909084845168404\n",
      "User 575, CV score: 0.9898034445556002\n",
      "User 576, CV score: 0.9943282857805139\n",
      "User 580, CV score: 0.9861541292400283\n",
      "User 583, CV score: 0.9802210781909398\n",
      "User 584, CV score: 0.9812014287853379\n",
      "User 600, CV score: 0.9912005360053625\n",
      "User 603, CV score: 0.9954960050613408\n",
      "User 605, CV score: 0.9970391639195643\n",
      "User 640, CV score: 0.9970910949029208\n",
      "User 647, CV score: 0.9971119126229641\n",
      "User 653, CV score: 0.9973622386067693\n",
      "User 664, CV score: 0.9952143483867583\n",
      "User 665, CV score: 0.9969555584032256\n",
      "User 677, CV score: 0.9965073270360888\n",
      "User 692, CV score: 0.9968929778802617\n",
      "User 697, CV score: 0.99565226001041\n",
      "User 705, CV score: 0.9964030781408307\n",
      "User 722, CV score: 0.9943489901838055\n",
      "User 740, CV score: 0.9967054014464544\n",
      "User 741, CV score: 0.9970807659533966\n",
      "User 756, CV score: 0.9955376075692199\n",
      "User 780, CV score: 0.9962673818201407\n",
      "User 784, CV score: 0.9964656208915441\n",
      "User 785, CV score: 0.9972787037948887\n",
      "User 797, CV score: 0.9956312539031605\n",
      "User 812, CV score: 0.994442614213718\n",
      "User 844, CV score: 0.9969451587492433\n",
      "User 859, CV score: 0.9978627118672597\n",
      "User 868, CV score: 0.996747046566627\n",
      "User 875, CV score: 0.9949118739921321\n",
      "User 932, CV score: 0.9898867813001887\n",
      "User 996, CV score: 0.992316209089894\n",
      "User 1014, CV score: 0.9968619677795675\n",
      "User 1040, CV score: 0.9967364352733169\n",
      "User 1054, CV score: 0.9964865330422139\n",
      "User 1248, CV score: 0.9976020801860518\n",
      "User 1267, CV score: 0.9972788219516836\n",
      "User 1299, CV score: 0.9969764182615158\n",
      "User 1371, CV score: 0.9933061307189953\n",
      "User 1797, CV score: 0.9940775408840498\n",
      "User 1798, CV score: 0.9959129904882406\n",
      "User 1993, CV score: 0.9965074306727547\n",
      "User 2118, CV score: 0.9974977281281747\n",
      "User 2174, CV score: 0.995569116019024\n",
      "User 2191, CV score: 0.9950684926176249\n",
      "User 2250, CV score: 0.9973934651868342\n",
      "User 2355, CV score: 0.9952872530192033\n",
      "User 2408, CV score: 0.9932126253199245\n",
      "User 2493, CV score: 0.9965070776245106\n",
      "User 2625, CV score: 0.9957983889172898\n",
      "User 2902, CV score: 0.9969763998494372\n"
     ]
    }
   ],
   "source": [
    "cv_scores_by_user = {}\n",
    "for user_id in logit_cv_150users.scores_:\n",
    "    print('User {}, CV score: {}'.format(user_id, logit_cv_150users.scores_[user_id].mean()))\n",
    "#''' ВАШ КОД ЗДЕСЬ '''"
   ]
  },
  {
   "cell_type": "markdown",
   "metadata": {},
   "source": [
    "**Результаты кажутся впечатляющими, но возможно, мы забываем про дисбаланс классов, и высокую долю правильных ответов можно получить константным прогнозом. Посчитайте для каждого пользователя разницу между долей правильных ответов на кросс-валидации (только что посчитанную с помощью `LogisticRegressionCV`) и долей меток в *y_train_150*, отличных от ID \n",
    " этого пользователя (именно такую долю правильных ответов можно получить, если классификатор всегда \"говорит\", что это не пользователь с номером $i$ в задаче классификации $i$-vs-All).**"
   ]
  },
  {
   "cell_type": "code",
   "execution_count": 63,
   "metadata": {},
   "outputs": [
    {
     "data": {
      "text/plain": [
       "0.9960063079741522"
      ]
     },
     "execution_count": 63,
     "metadata": {},
     "output_type": "execute_result"
    }
   ],
   "source": [
    "logit_cv_150users.scores_[6].mean()"
   ]
  },
  {
   "cell_type": "code",
   "execution_count": null,
   "metadata": {},
   "outputs": [],
   "source": [
    "(y_train_150.shape[0] - class_distr[6])/y_train_150.shape[0]"
   ]
  },
  {
   "cell_type": "code",
   "execution_count": 92,
   "metadata": {},
   "outputs": [],
   "source": [
    "class_distr = np.bincount(y_train_150.astype('int'))\n",
    "#print(class_distr.sum())\n",
    "acc_diff_vs_constant = {}\n",
    "for user_id in np.unique(y_train_150):\n",
    "    acc_diff_vs_constant[user_id] =  logit_cv_150users.scores_[user_id].mean() - 1. + 1.*class_distr[user_id]/y_train_150.shape[0]\n",
    "    \n",
    "#    ''' ВАШ КОД ЗДЕСЬ '''\n"
   ]
  },
  {
   "cell_type": "code",
   "execution_count": 93,
   "metadata": {},
   "outputs": [
    {
     "name": "stdout",
     "output_type": "stream",
     "text": [
      "121\n"
     ]
    }
   ],
   "source": [
    "num_better_than_default = (np.array(list(acc_diff_vs_constant.values())) > 0).sum()\n",
    "print(num_better_than_default)\n",
    "# Не правильно 129, 134, 136, 121"
   ]
  },
  {
   "cell_type": "code",
   "execution_count": null,
   "metadata": {},
   "outputs": [],
   "source": [
    "np.array(list(acc_diff_vs_constant.values())) > 0"
   ]
  },
  {
   "cell_type": "markdown",
   "metadata": {},
   "source": [
    "**<font color='red'>Вопрос 7. </font> Посчитайте долю пользователей, для которых логистическая регрессия на кросс-валидации дает прогноз лучше константного. Округлите до 3 знаков после запятой.**"
   ]
  },
  {
   "cell_type": "code",
   "execution_count": 94,
   "metadata": {},
   "outputs": [
    {
     "name": "stdout",
     "output_type": "stream",
     "text": [
      "0.807\n"
     ]
    }
   ],
   "source": [
    "#''' ВАШ КОД ЗДЕСЬ '''\n",
    "ans_7 = num_better_than_default/len(np.unique(y_train_150))\n",
    "print('{:.3f}'.format(ans_7))\n",
    "save_answer_Array(7, [ans_7])\n",
    "# Не правильно 0.860 0.907 \n",
    "#Правильно: 0.807"
   ]
  },
  {
   "cell_type": "markdown",
   "metadata": {},
   "source": [
    "**Дальше будем строить кривые обучения для конкретного пользователя, допустим, для 128-го. Составьте новый бинарный вектор на основе *y_150users*, его значения будут 1 или 0 в зависимости от того, равен ли ID-шник пользователя 128.**"
   ]
  },
  {
   "cell_type": "code",
   "execution_count": null,
   "metadata": {},
   "outputs": [],
   "source": [
    "y_binary_128 = ''' ВАШ КОД ЗДЕСЬ '''"
   ]
  },
  {
   "cell_type": "code",
   "execution_count": null,
   "metadata": {},
   "outputs": [],
   "source": [
    "from sklearn.model_selection import learning_curve\n",
    "\n",
    "def plot_learning_curve(val_train, val_test, train_sizes, \n",
    "                        xlabel='Training Set Size', ylabel='score'):\n",
    "    def plot_with_err(x, data, **kwargs):\n",
    "        mu, std = data.mean(1), data.std(1)\n",
    "        lines = plt.plot(x, mu, '-', **kwargs)\n",
    "        plt.fill_between(x, mu - std, mu + std, edgecolor='none',\n",
    "                         facecolor=lines[0].get_color(), alpha=0.2)\n",
    "    plot_with_err(train_sizes, val_train, label='train')\n",
    "    plot_with_err(train_sizes, val_test, label='valid')\n",
    "    plt.xlabel(xlabel); plt.ylabel(ylabel)\n",
    "    plt.legend(loc='lower right');"
   ]
  },
  {
   "cell_type": "markdown",
   "metadata": {},
   "source": [
    "**Посчитайте доли правильных ответов на кросс-валидации в задаче классификации \"user128-vs-All\" в зависимости от размера выборки. Не помешает посмотреть встроенную документацию для *learning_curve*.**"
   ]
  },
  {
   "cell_type": "code",
   "execution_count": null,
   "metadata": {},
   "outputs": [],
   "source": [
    "%%time\n",
    "train_sizes = np.linspace(0.25, 1, 20)\n",
    "estimator = svm_grid_searcher2.best_estimator_\n",
    "n_train, val_train, val_test = learning_curve ''' ВАШ КОД ЗДЕСЬ '''"
   ]
  },
  {
   "cell_type": "code",
   "execution_count": null,
   "metadata": {},
   "outputs": [],
   "source": [
    "plot_learning_curve(val_train, val_test, n_train, \n",
    "                    xlabel='train_size', ylabel='accuracy')"
   ]
  },
  {
   "cell_type": "markdown",
   "metadata": {},
   "source": [
    "**Сделайте выводы о том, помогут ли алгоритму новые размеченные данные при той же постановке задачи.**"
   ]
  },
  {
   "cell_type": "markdown",
   "metadata": {},
   "source": [
    "## Пути улучшения\n",
    "- конечно, можно проверить еще кучу алгоритмов, например, Xgboost, но в такой задаче очень маловероятно, что что-то справится лучше линейных методов\n",
    "- интересно проверить качество алгоритма на данных, где сессии выделялись не по количеству посещенных сайтов, а по времени, например, 5, 7, 10 и 15 минут. Отдельно стоит отметить данные нашего [соревнования](https://inclass.kaggle.com/c/catch-me-if-you-can-intruder-detection-through-webpage-session-tracking2) \n",
    "- опять же, если ресурсы позволяют, можно проверить, насколько хорошо можно решить задачу для 3000 пользователей\n",
    "\n",
    "\n",
    "На следующей неделе мы вспомним про линейные модели, обучаемые стохастическим градиентным спуском, и порадуемся тому, насколько быстрее они работают. Также сделаем первые (или не первые) посылки в [соревновании](https://inclass.kaggle.com/c/catch-me-if-you-can-intruder-detection-through-webpage-session-tracking2) Kaggle Inclass."
   ]
  }
 ],
 "metadata": {
  "anaconda-cloud": {},
  "kernelspec": {
   "display_name": "Python [conda env:newpy]",
   "language": "python",
   "name": "conda-env-newpy-py"
  },
  "language_info": {
   "codemirror_mode": {
    "name": "ipython",
    "version": 3
   },
   "file_extension": ".py",
   "mimetype": "text/x-python",
   "name": "python",
   "nbconvert_exporter": "python",
   "pygments_lexer": "ipython3",
   "version": "3.7.3"
  }
 },
 "nbformat": 4,
 "nbformat_minor": 1
}
